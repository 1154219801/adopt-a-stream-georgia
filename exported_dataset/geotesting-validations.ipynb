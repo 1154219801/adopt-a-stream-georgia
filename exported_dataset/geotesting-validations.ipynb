{
 "cells": [
  {
   "cell_type": "code",
   "execution_count": 1,
   "metadata": {},
   "outputs": [],
   "source": [
    "%load_ext autoreload\n",
    "%autoreload 2"
   ]
  },
  {
   "cell_type": "code",
   "execution_count": 2,
   "metadata": {},
   "outputs": [],
   "source": [
    "import csv\n",
    "import time\n",
    "from collections import defaultdict, Counter\n",
    "import json\n",
    "from urllib.request import Request, urlopen\n",
    "import pickle"
   ]
  },
  {
   "cell_type": "code",
   "execution_count": 216,
   "metadata": {},
   "outputs": [],
   "source": [
    "import pandas as pd\n",
    "import numpy as np\n",
    "import geopandas as gpd\n",
    "import shapely\n",
    "from shapely.geometry import shape, Point\n",
    "import shapefile\n",
    "from geopy import distance\n",
    "\n",
    "import plotly.figure_factory as ff\n",
    "import plotly.io as pio\n",
    "import plotly as plt\n",
    "pio.renderers.default = \"jupyterlab\"\n",
    "import plotly.express as px\n",
    "import plotly.graph_objects as go"
   ]
  },
  {
   "cell_type": "code",
   "execution_count": 6,
   "metadata": {},
   "outputs": [],
   "source": [
    "from tqdm import tqdm"
   ]
  },
  {
   "cell_type": "code",
   "execution_count": 7,
   "metadata": {},
   "outputs": [],
   "source": [
    "from utils import *"
   ]
  },
  {
   "cell_type": "code",
   "execution_count": 287,
   "metadata": {},
   "outputs": [
    {
     "name": "stderr",
     "output_type": "stream",
     "text": [
      "/Users/robclewley/.pyenv/versions/3.7.5/lib/python3.7/site-packages/IPython/core/interactiveshell.py:3254: DtypeWarning:\n",
      "\n",
      "Columns (10,16,17,19,20,27,28,29,31,32,52,59,60,61,62,68,69,70,73,74,75,82,83,84) have mixed types.Specify dtype option on import or set low_memory=False.\n",
      "\n"
     ]
    }
   ],
   "source": [
    "df = load_csv_export_dataset(\"export_dataframe_stage2.csv\")"
   ]
  },
  {
   "cell_type": "markdown",
   "metadata": {},
   "source": [
    "<br><hr><br>"
   ]
  },
  {
   "cell_type": "markdown",
   "metadata": {},
   "source": [
    "# Validate site name <--> location mapping"
   ]
  },
  {
   "cell_type": "code",
   "execution_count": null,
   "metadata": {},
   "outputs": [],
   "source": [
    "locs = df[['SiteName', 'SiteLocation']]\n",
    "len(locs)"
   ]
  },
  {
   "cell_type": "code",
   "execution_count": 39,
   "metadata": {},
   "outputs": [
    {
     "data": {
      "text/plain": [
       "17    53358\n",
       "16     8393\n",
       "15     1890\n",
       "14      100\n",
       "13       29\n",
       "12       21\n",
       "11        6\n",
       "Name: SiteLocation, dtype: int64"
      ]
     },
     "execution_count": 39,
     "metadata": {},
     "output_type": "execute_result"
    }
   ],
   "source": [
    "locs['SiteLocation'].apply(len).value_counts()"
   ]
  },
  {
   "cell_type": "code",
   "execution_count": 32,
   "metadata": {},
   "outputs": [
    {
     "data": {
      "text/plain": [
       "2189"
      ]
     },
     "execution_count": 32,
     "metadata": {},
     "output_type": "execute_result"
    }
   ],
   "source": [
    "all_site_names = list(locs['SiteName'].unique())\n",
    "len(all_site_names)"
   ]
  },
  {
   "cell_type": "code",
   "execution_count": 70,
   "metadata": {},
   "outputs": [],
   "source": [
    "site_loc_map = defaultdict(set)\n",
    "for site_name in all_site_names:\n",
    "    this_site = df[df['SiteName'] == site_name]\n",
    "    site_loc_map[site_name].update(set(this_site['latlong']))"
   ]
  },
  {
   "cell_type": "code",
   "execution_count": 13,
   "metadata": {},
   "outputs": [
    {
     "data": {
      "text/plain": [
       "['West Fork of Little River',\n",
       " 'Apalachee River',\n",
       " 'Alcovy River',\n",
       " 'Bear Creek',\n",
       " 'Beaverbrook Stream',\n",
       " 'Herb River',\n",
       " 'Bluestone Creek',\n",
       " 'Braxton Creek',\n",
       " 'Calls Creek',\n",
       " 'Caney Creek']"
      ]
     },
     "execution_count": 13,
     "metadata": {},
     "output_type": "execute_result"
    }
   ],
   "source": [
    "all_site_names[:10]"
   ]
  },
  {
   "cell_type": "markdown",
   "metadata": {},
   "source": [
    "Number of separate (lat, long) locations identified at the same named site"
   ]
  },
  {
   "cell_type": "code",
   "execution_count": 71,
   "metadata": {},
   "outputs": [
    {
     "data": {
      "text/plain": [
       "2"
      ]
     },
     "execution_count": 71,
     "metadata": {},
     "output_type": "execute_result"
    }
   ],
   "source": [
    "len(site_loc_map['West Fork of Little River'])"
   ]
  },
  {
   "cell_type": "code",
   "execution_count": 73,
   "metadata": {},
   "outputs": [
    {
     "data": {
      "text/plain": [
       "94"
      ]
     },
     "execution_count": 73,
     "metadata": {},
     "output_type": "execute_result"
    }
   ],
   "source": [
    "len(site_loc_map['Calls Creek'])"
   ]
  },
  {
   "cell_type": "code",
   "execution_count": 74,
   "metadata": {},
   "outputs": [
    {
     "data": {
      "text/plain": [
       "4"
      ]
     },
     "execution_count": 74,
     "metadata": {},
     "output_type": "execute_result"
    }
   ],
   "source": [
    "len(site_loc_map['Herb River'])"
   ]
  },
  {
   "cell_type": "code",
   "execution_count": 124,
   "metadata": {},
   "outputs": [],
   "source": [
    "site_name = 'Calls Creek'"
   ]
  },
  {
   "cell_type": "code",
   "execution_count": 125,
   "metadata": {},
   "outputs": [],
   "source": [
    "site_df = df[df['SiteName'] == site_name]"
   ]
  },
  {
   "cell_type": "code",
   "execution_count": 128,
   "metadata": {},
   "outputs": [
    {
     "data": {
      "text/plain": [
       "Oconee    175\n",
       "Name: county, dtype: int64"
      ]
     },
     "execution_count": 128,
     "metadata": {},
     "output_type": "execute_result"
    }
   ],
   "source": [
    "site_df['county'].value_counts()"
   ]
  },
  {
   "cell_type": "code",
   "execution_count": 126,
   "metadata": {},
   "outputs": [],
   "source": [
    "loc_pairs_site, geo_locs_site, gdf_site = get_loc_objects_from_series(site_df['SiteLocation'])"
   ]
  },
  {
   "cell_type": "markdown",
   "metadata": {},
   "source": [
    "<br><hr><br>"
   ]
  },
  {
   "cell_type": "markdown",
   "metadata": {},
   "source": [
    "## Load US city and town locations, as reference"
   ]
  },
  {
   "cell_type": "markdown",
   "metadata": {},
   "source": [
    "The cities data is currently unused, since mapbox allows place names on the background maps."
   ]
  },
  {
   "cell_type": "code",
   "execution_count": 88,
   "metadata": {},
   "outputs": [],
   "source": [
    "with open('geodata/stanford-bx729wr3020-geojson.json') as json_file:\n",
    "    cities = json.load(json_file)"
   ]
  },
  {
   "cell_type": "code",
   "execution_count": 146,
   "metadata": {},
   "outputs": [],
   "source": [
    "ga_cities = {'type': 'FeatureCollection', 'features': [c for c in cities['features'] if c['properties']['state'] == 'GA']}"
   ]
  },
  {
   "cell_type": "code",
   "execution_count": 147,
   "metadata": {},
   "outputs": [],
   "source": [
    "site_cities = {'type': 'FeatureCollection', 'features': [c for c in ga_cities['features'] if c['properties']['county'] == 'Oconee']}"
   ]
  },
  {
   "cell_type": "code",
   "execution_count": 142,
   "metadata": {},
   "outputs": [
    {
     "data": {
      "text/plain": [
       "5"
      ]
     },
     "execution_count": 142,
     "metadata": {},
     "output_type": "execute_result"
    }
   ],
   "source": [
    "len(site_cities['features'])"
   ]
  },
  {
   "cell_type": "code",
   "execution_count": 130,
   "metadata": {},
   "outputs": [
    {
     "data": {
      "text/plain": [
       "{'type': 'Feature',\n",
       " 'id': 'bx729wr3020.15648',\n",
       " 'geometry': {'type': 'Point', 'coordinates': [-83.4387722, 33.8192864]},\n",
       " 'geometry_name': 'geom',\n",
       " 'properties': {'gnis_id': 311456,\n",
       "  'ansicode': '2405269',\n",
       "  'feature': 'Civil',\n",
       "  'feature2': '-999',\n",
       "  'name': 'Bishop',\n",
       "  'pop_2010': 224,\n",
       "  'county': 'Oconee',\n",
       "  'countyfips': '219',\n",
       "  'state': 'GA',\n",
       "  'state_fips': '13',\n",
       "  'latitude': 33.8192864,\n",
       "  'longitude': -83.4387722,\n",
       "  'poppllat': 33.8192864,\n",
       "  'poppllong': -83.4387722,\n",
       "  'elev_in_m': 237,\n",
       "  'elev_in_ft': 778},\n",
       " 'bbox': [-83.4387722, 33.8192864, -83.4387722, 33.8192864]}"
      ]
     },
     "execution_count": 130,
     "metadata": {},
     "output_type": "execute_result"
    }
   ],
   "source": [
    "site_cities[0]"
   ]
  }
 ],
 "metadata": {
  "kernelspec": {
   "display_name": "Python 3",
   "language": "python",
   "name": "python3"
  },
  "language_info": {
   "codemirror_mode": {
    "name": "ipython",
    "version": 3
   },
   "file_extension": ".py",
   "mimetype": "text/x-python",
   "name": "python",
   "nbconvert_exporter": "python",
   "pygments_lexer": "ipython3",
   "version": "3.7.5"
  }
 },
 "nbformat": 4,
 "nbformat_minor": 4
}
