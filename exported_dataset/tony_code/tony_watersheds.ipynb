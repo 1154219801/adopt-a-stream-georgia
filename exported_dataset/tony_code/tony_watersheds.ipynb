{
 "cells": [
  {
   "cell_type": "code",
   "execution_count": 1,
   "metadata": {},
   "outputs": [],
   "source": [
    "import pandas as pd\n",
    "import numpy as np\n",
    "import csv\n",
    "from utils import *"
   ]
  },
  {
   "cell_type": "code",
   "execution_count": 2,
   "metadata": {},
   "outputs": [
    {
     "name": "stderr",
     "output_type": "stream",
     "text": [
      "c:\\Users\\Tony Chen\\Desktop\\Sci4GA\\adopt-a-stream-georgia\\exported_dataset\\tony_code\\utils.py:15: DtypeWarning: Columns (14,20,21,23,24,31,32,33,35,36,56,63,64,65,72,73,74,77,78,79,86,87,88) have mixed types. Specify dtype option on import or set low_memory=False.\n",
      "  df = pd.read_csv(filepath, parse_dates=True, infer_datetime_format=True)\n"
     ]
    }
   ],
   "source": [
    "df = load_csv_export_dataset(\"../export_dataframe_stage2.csv\")"
   ]
  },
  {
   "cell_type": "markdown",
   "metadata": {},
   "source": [
    "Filter the data to concentrate on recent period"
   ]
  },
  {
   "cell_type": "code",
   "execution_count": 3,
   "metadata": {},
   "outputs": [],
   "source": [
    "df = df[df[\"event_date\"] > \"2012-01-01\"]"
   ]
  },
  {
   "cell_type": "markdown",
   "metadata": {},
   "source": [
    "The core fields are air_temp, water_temp, ph1, ph2, DissolvedOxygen1, DissolvedOxygen2 and Conductivity. For those who has two values, we could combine them."
   ]
  },
  {
   "cell_type": "code",
   "execution_count": 4,
   "metadata": {},
   "outputs": [],
   "source": [
    "def getMean(v1, v2, populate_NA = True):\n",
    "    if pd.isnull(v1) and pd.notnull(v2) and populate_NA:\n",
    "        return v2\n",
    "    elif pd.notnull(v1) and pd.isnull(v2) and populate_NA:\n",
    "        return v1\n",
    "    elif pd.notnull(v1) and pd.notnull(v2):\n",
    "        return (v1+v2)/2\n",
    "    else:\n",
    "        return np.nan\n",
    "\n",
    "df[\"mean_ph\"] = df.apply(lambda row: getMean(row[\"ph1\"], row[\"ph2\"]), axis=1)\n",
    "df[\"mean_DissolvedOxygen\"] = df.apply(lambda row: getMean(row[\"DissolvedOxygen1\"], row[\"DissolvedOxygen2\"]), axis=1)\n",
    "df.drop(columns=[\"ph1\", \"ph2\", \"DissolvedOxygen1\", \"DissolvedOxygen2\"], inplace=True)"
   ]
  },
  {
   "cell_type": "markdown",
   "metadata": {},
   "source": [
    "There are also some semi-core fields: SecchiDisk1, SecchiDisk2, ChlorophyIIA, Salinity1, Salinity2"
   ]
  },
  {
   "cell_type": "code",
   "execution_count": 5,
   "metadata": {},
   "outputs": [
    {
     "data": {
      "text/html": [
       "<div>\n",
       "<style scoped>\n",
       "    .dataframe tbody tr th:only-of-type {\n",
       "        vertical-align: middle;\n",
       "    }\n",
       "\n",
       "    .dataframe tbody tr th {\n",
       "        vertical-align: top;\n",
       "    }\n",
       "\n",
       "    .dataframe thead th {\n",
       "        text-align: right;\n",
       "    }\n",
       "</style>\n",
       "<table border=\"1\" class=\"dataframe\">\n",
       "  <thead>\n",
       "    <tr style=\"text-align: right;\">\n",
       "      <th></th>\n",
       "      <th>group_rid</th>\n",
       "      <th>GroupName</th>\n",
       "      <th>site_rid</th>\n",
       "      <th>state</th>\n",
       "      <th>county</th>\n",
       "      <th>lat</th>\n",
       "      <th>long</th>\n",
       "      <th>SiteName</th>\n",
       "      <th>SiteLocation</th>\n",
       "      <th>event_rid</th>\n",
       "      <th>...</th>\n",
       "      <th>fecal_coliform</th>\n",
       "      <th>ecoli_other</th>\n",
       "      <th>ecoli_other_unit</th>\n",
       "      <th>comments</th>\n",
       "      <th>warnings</th>\n",
       "      <th>wbd</th>\n",
       "      <th>mean_ph</th>\n",
       "      <th>mean_DissolvedOxygen</th>\n",
       "      <th>mean_SecciDisk</th>\n",
       "      <th>mean_Salinity</th>\n",
       "    </tr>\n",
       "  </thead>\n",
       "  <tbody>\n",
       "    <tr>\n",
       "      <th>12952</th>\n",
       "      <td>1346</td>\n",
       "      <td>Eyes on the Upper Flint</td>\n",
       "      <td>1637</td>\n",
       "      <td>Georgia</td>\n",
       "      <td>Upson</td>\n",
       "      <td>32.9052</td>\n",
       "      <td>-84.5086</td>\n",
       "      <td>Flint River</td>\n",
       "      <td>32.9052  -84.5086</td>\n",
       "      <td>30203</td>\n",
       "      <td>...</td>\n",
       "      <td>NaN</td>\n",
       "      <td>NaN</td>\n",
       "      <td>NaN</td>\n",
       "      <td>NaN</td>\n",
       "      <td>NaN</td>\n",
       "      <td>Buck Creek-Flint River</td>\n",
       "      <td>6.6</td>\n",
       "      <td>10.100</td>\n",
       "      <td>NaN</td>\n",
       "      <td>NaN</td>\n",
       "    </tr>\n",
       "    <tr>\n",
       "      <th>12953</th>\n",
       "      <td>1346</td>\n",
       "      <td>Eyes on the Upper Flint</td>\n",
       "      <td>1638</td>\n",
       "      <td>Georgia</td>\n",
       "      <td>Upson</td>\n",
       "      <td>32.9049</td>\n",
       "      <td>-84.5078</td>\n",
       "      <td>Long Branch</td>\n",
       "      <td>32.9049  -84.5078</td>\n",
       "      <td>30204</td>\n",
       "      <td>...</td>\n",
       "      <td>NaN</td>\n",
       "      <td>NaN</td>\n",
       "      <td>NaN</td>\n",
       "      <td>NaN</td>\n",
       "      <td>NaN</td>\n",
       "      <td>Buck Creek-Flint River</td>\n",
       "      <td>6.5</td>\n",
       "      <td>10.225</td>\n",
       "      <td>NaN</td>\n",
       "      <td>NaN</td>\n",
       "    </tr>\n",
       "    <tr>\n",
       "      <th>12958</th>\n",
       "      <td>1346</td>\n",
       "      <td>Eyes on the Upper Flint</td>\n",
       "      <td>1757</td>\n",
       "      <td>Georgia</td>\n",
       "      <td>Upson</td>\n",
       "      <td>32.9829</td>\n",
       "      <td>-84.4997</td>\n",
       "      <td>Elkins Creek</td>\n",
       "      <td>32.9829  -84.4997</td>\n",
       "      <td>30209</td>\n",
       "      <td>...</td>\n",
       "      <td>NaN</td>\n",
       "      <td>NaN</td>\n",
       "      <td>NaN</td>\n",
       "      <td>NaN</td>\n",
       "      <td>NaN</td>\n",
       "      <td>Lower Elkins Creek</td>\n",
       "      <td>NaN</td>\n",
       "      <td>NaN</td>\n",
       "      <td>NaN</td>\n",
       "      <td>NaN</td>\n",
       "    </tr>\n",
       "    <tr>\n",
       "      <th>12959</th>\n",
       "      <td>1346</td>\n",
       "      <td>Eyes on the Upper Flint</td>\n",
       "      <td>1899</td>\n",
       "      <td>Georgia</td>\n",
       "      <td>Upson</td>\n",
       "      <td>32.9593</td>\n",
       "      <td>-84.4905</td>\n",
       "      <td>Hardy Branch</td>\n",
       "      <td>32.9593  -84.4905</td>\n",
       "      <td>30210</td>\n",
       "      <td>...</td>\n",
       "      <td>NaN</td>\n",
       "      <td>NaN</td>\n",
       "      <td>NaN</td>\n",
       "      <td>NaN</td>\n",
       "      <td>NaN</td>\n",
       "      <td>Lower Elkins Creek</td>\n",
       "      <td>6.7</td>\n",
       "      <td>10.000</td>\n",
       "      <td>NaN</td>\n",
       "      <td>NaN</td>\n",
       "    </tr>\n",
       "    <tr>\n",
       "      <th>12963</th>\n",
       "      <td>1346</td>\n",
       "      <td>Eyes on the Upper Flint</td>\n",
       "      <td>2338</td>\n",
       "      <td>Georgia</td>\n",
       "      <td>Upson</td>\n",
       "      <td>32.8590</td>\n",
       "      <td>-84.3400</td>\n",
       "      <td>Upper Bell Creek</td>\n",
       "      <td>32.859  -84.34</td>\n",
       "      <td>30214</td>\n",
       "      <td>...</td>\n",
       "      <td>NaN</td>\n",
       "      <td>NaN</td>\n",
       "      <td>NaN</td>\n",
       "      <td>NaN</td>\n",
       "      <td>NaN</td>\n",
       "      <td>Bell Creek-Potato Creek</td>\n",
       "      <td>NaN</td>\n",
       "      <td>NaN</td>\n",
       "      <td>NaN</td>\n",
       "      <td>NaN</td>\n",
       "    </tr>\n",
       "  </tbody>\n",
       "</table>\n",
       "<p>5 rows × 86 columns</p>\n",
       "</div>"
      ],
      "text/plain": [
       "       group_rid                GroupName  site_rid    state county      lat  \\\n",
       "12952       1346  Eyes on the Upper Flint      1637  Georgia  Upson  32.9052   \n",
       "12953       1346  Eyes on the Upper Flint      1638  Georgia  Upson  32.9049   \n",
       "12958       1346  Eyes on the Upper Flint      1757  Georgia  Upson  32.9829   \n",
       "12959       1346  Eyes on the Upper Flint      1899  Georgia  Upson  32.9593   \n",
       "12963       1346  Eyes on the Upper Flint      2338  Georgia  Upson  32.8590   \n",
       "\n",
       "          long          SiteName       SiteLocation  event_rid  ...  \\\n",
       "12952 -84.5086       Flint River  32.9052  -84.5086      30203  ...   \n",
       "12953 -84.5078       Long Branch  32.9049  -84.5078      30204  ...   \n",
       "12958 -84.4997      Elkins Creek  32.9829  -84.4997      30209  ...   \n",
       "12959 -84.4905      Hardy Branch  32.9593  -84.4905      30210  ...   \n",
       "12963 -84.3400  Upper Bell Creek     32.859  -84.34      30214  ...   \n",
       "\n",
       "      fecal_coliform  ecoli_other  ecoli_other_unit  comments warnings  \\\n",
       "12952            NaN          NaN               NaN       NaN      NaN   \n",
       "12953            NaN          NaN               NaN       NaN      NaN   \n",
       "12958            NaN          NaN               NaN       NaN      NaN   \n",
       "12959            NaN          NaN               NaN       NaN      NaN   \n",
       "12963            NaN          NaN               NaN       NaN      NaN   \n",
       "\n",
       "                           wbd  mean_ph  mean_DissolvedOxygen  mean_SecciDisk  \\\n",
       "12952   Buck Creek-Flint River      6.6                10.100             NaN   \n",
       "12953   Buck Creek-Flint River      6.5                10.225             NaN   \n",
       "12958       Lower Elkins Creek      NaN                   NaN             NaN   \n",
       "12959       Lower Elkins Creek      6.7                10.000             NaN   \n",
       "12963  Bell Creek-Potato Creek      NaN                   NaN             NaN   \n",
       "\n",
       "       mean_Salinity  \n",
       "12952            NaN  \n",
       "12953            NaN  \n",
       "12958            NaN  \n",
       "12959            NaN  \n",
       "12963            NaN  \n",
       "\n",
       "[5 rows x 86 columns]"
      ]
     },
     "execution_count": 5,
     "metadata": {},
     "output_type": "execute_result"
    }
   ],
   "source": [
    "df[\"mean_SecciDisk\"] = df.apply(lambda row: getMean(row[\"SecchiDisk1\"], row[\"SecchiDisk2\"]), axis=1)\n",
    "df[\"mean_Salinity\"] = df.apply(lambda row: getMean(row[\"Salinity1\"], row[\"Salinity2\"]), axis=1)\n",
    "df.drop(columns=[\"SecchiDisk1\", \"SecchiDisk2\", \"Salinity1\", \"Salinity2\"], inplace=True)\n",
    "df.head()"
   ]
  },
  {
   "cell_type": "markdown",
   "metadata": {},
   "source": [
    "There's also tow fields represents the same data: air_temp and air_temperature.  \n",
    "Merge them together."
   ]
  },
  {
   "cell_type": "code",
   "execution_count": 6,
   "metadata": {},
   "outputs": [],
   "source": [
    "df['air_temp'] = df.apply(lambda row: getMean(row[\"air_temp\"], row[\"air_temperature\"]), axis=1)\n",
    "df.drop(columns=[\"air_temperature\"], inplace=True)"
   ]
  },
  {
   "cell_type": "markdown",
   "metadata": {},
   "source": [
    "Here, I propose a strategy to categorize data into 3 groups: core fields, semi-core fields and other fields. To measure the quality of an entry, we add three columns to count the number of missing fields in each group."
   ]
  },
  {
   "cell_type": "code",
   "execution_count": 7,
   "metadata": {},
   "outputs": [],
   "source": [
    "# define the groups\n",
    "core_group = [\"air_temp\", \"water_temp\", \"mean_ph\", \"mean_DissolvedOxygen\", \"Conductivity\"]\n",
    "semi_core_group = [\"mean_SecciDisk\", \"mean_Salinity\", \"ChlorophyllA\"]\n",
    "others = list(set(df)-set(core_group)-set(semi_core_group))"
   ]
  },
  {
   "cell_type": "code",
   "execution_count": 8,
   "metadata": {},
   "outputs": [],
   "source": [
    "def get_missing_count(row, group):\n",
    "    return sum([pd.isnull(row[col]) for col in group])\n",
    "\n",
    "df[\"core_missing_count\"] = df.apply(lambda row: get_missing_count(row, core_group), axis=1)\n",
    "df[\"semi_core_missing_count\"] = df.apply(lambda row: get_missing_count(row, semi_core_group), axis=1)\n",
    "df[\"others_missing_count\"] = df.apply(lambda row: get_missing_count(row, others), axis=1)"
   ]
  },
  {
   "cell_type": "code",
   "execution_count": 9,
   "metadata": {},
   "outputs": [
    {
     "data": {
      "text/html": [
       "<div>\n",
       "<style scoped>\n",
       "    .dataframe tbody tr th:only-of-type {\n",
       "        vertical-align: middle;\n",
       "    }\n",
       "\n",
       "    .dataframe tbody tr th {\n",
       "        vertical-align: top;\n",
       "    }\n",
       "\n",
       "    .dataframe thead th {\n",
       "        text-align: right;\n",
       "    }\n",
       "</style>\n",
       "<table border=\"1\" class=\"dataframe\">\n",
       "  <thead>\n",
       "    <tr style=\"text-align: right;\">\n",
       "      <th></th>\n",
       "      <th>group_rid</th>\n",
       "      <th>GroupName</th>\n",
       "      <th>site_rid</th>\n",
       "      <th>state</th>\n",
       "      <th>county</th>\n",
       "      <th>lat</th>\n",
       "      <th>long</th>\n",
       "      <th>SiteName</th>\n",
       "      <th>SiteLocation</th>\n",
       "      <th>event_rid</th>\n",
       "      <th>...</th>\n",
       "      <th>comments</th>\n",
       "      <th>warnings</th>\n",
       "      <th>wbd</th>\n",
       "      <th>mean_ph</th>\n",
       "      <th>mean_DissolvedOxygen</th>\n",
       "      <th>mean_SecciDisk</th>\n",
       "      <th>mean_Salinity</th>\n",
       "      <th>core_missing_count</th>\n",
       "      <th>semi_core_missing_count</th>\n",
       "      <th>others_missing_count</th>\n",
       "    </tr>\n",
       "  </thead>\n",
       "  <tbody>\n",
       "    <tr>\n",
       "      <th>12952</th>\n",
       "      <td>1346</td>\n",
       "      <td>Eyes on the Upper Flint</td>\n",
       "      <td>1637</td>\n",
       "      <td>Georgia</td>\n",
       "      <td>Upson</td>\n",
       "      <td>32.9052</td>\n",
       "      <td>-84.5086</td>\n",
       "      <td>Flint River</td>\n",
       "      <td>32.9052  -84.5086</td>\n",
       "      <td>30203</td>\n",
       "      <td>...</td>\n",
       "      <td>NaN</td>\n",
       "      <td>NaN</td>\n",
       "      <td>Buck Creek-Flint River</td>\n",
       "      <td>6.6</td>\n",
       "      <td>10.100</td>\n",
       "      <td>NaN</td>\n",
       "      <td>NaN</td>\n",
       "      <td>0</td>\n",
       "      <td>3</td>\n",
       "      <td>52</td>\n",
       "    </tr>\n",
       "    <tr>\n",
       "      <th>12953</th>\n",
       "      <td>1346</td>\n",
       "      <td>Eyes on the Upper Flint</td>\n",
       "      <td>1638</td>\n",
       "      <td>Georgia</td>\n",
       "      <td>Upson</td>\n",
       "      <td>32.9049</td>\n",
       "      <td>-84.5078</td>\n",
       "      <td>Long Branch</td>\n",
       "      <td>32.9049  -84.5078</td>\n",
       "      <td>30204</td>\n",
       "      <td>...</td>\n",
       "      <td>NaN</td>\n",
       "      <td>NaN</td>\n",
       "      <td>Buck Creek-Flint River</td>\n",
       "      <td>6.5</td>\n",
       "      <td>10.225</td>\n",
       "      <td>NaN</td>\n",
       "      <td>NaN</td>\n",
       "      <td>0</td>\n",
       "      <td>3</td>\n",
       "      <td>52</td>\n",
       "    </tr>\n",
       "    <tr>\n",
       "      <th>12958</th>\n",
       "      <td>1346</td>\n",
       "      <td>Eyes on the Upper Flint</td>\n",
       "      <td>1757</td>\n",
       "      <td>Georgia</td>\n",
       "      <td>Upson</td>\n",
       "      <td>32.9829</td>\n",
       "      <td>-84.4997</td>\n",
       "      <td>Elkins Creek</td>\n",
       "      <td>32.9829  -84.4997</td>\n",
       "      <td>30209</td>\n",
       "      <td>...</td>\n",
       "      <td>NaN</td>\n",
       "      <td>NaN</td>\n",
       "      <td>Lower Elkins Creek</td>\n",
       "      <td>NaN</td>\n",
       "      <td>NaN</td>\n",
       "      <td>NaN</td>\n",
       "      <td>NaN</td>\n",
       "      <td>5</td>\n",
       "      <td>3</td>\n",
       "      <td>53</td>\n",
       "    </tr>\n",
       "    <tr>\n",
       "      <th>12959</th>\n",
       "      <td>1346</td>\n",
       "      <td>Eyes on the Upper Flint</td>\n",
       "      <td>1899</td>\n",
       "      <td>Georgia</td>\n",
       "      <td>Upson</td>\n",
       "      <td>32.9593</td>\n",
       "      <td>-84.4905</td>\n",
       "      <td>Hardy Branch</td>\n",
       "      <td>32.9593  -84.4905</td>\n",
       "      <td>30210</td>\n",
       "      <td>...</td>\n",
       "      <td>NaN</td>\n",
       "      <td>NaN</td>\n",
       "      <td>Lower Elkins Creek</td>\n",
       "      <td>6.7</td>\n",
       "      <td>10.000</td>\n",
       "      <td>NaN</td>\n",
       "      <td>NaN</td>\n",
       "      <td>0</td>\n",
       "      <td>3</td>\n",
       "      <td>52</td>\n",
       "    </tr>\n",
       "    <tr>\n",
       "      <th>12963</th>\n",
       "      <td>1346</td>\n",
       "      <td>Eyes on the Upper Flint</td>\n",
       "      <td>2338</td>\n",
       "      <td>Georgia</td>\n",
       "      <td>Upson</td>\n",
       "      <td>32.8590</td>\n",
       "      <td>-84.3400</td>\n",
       "      <td>Upper Bell Creek</td>\n",
       "      <td>32.859  -84.34</td>\n",
       "      <td>30214</td>\n",
       "      <td>...</td>\n",
       "      <td>NaN</td>\n",
       "      <td>NaN</td>\n",
       "      <td>Bell Creek-Potato Creek</td>\n",
       "      <td>NaN</td>\n",
       "      <td>NaN</td>\n",
       "      <td>NaN</td>\n",
       "      <td>NaN</td>\n",
       "      <td>3</td>\n",
       "      <td>3</td>\n",
       "      <td>53</td>\n",
       "    </tr>\n",
       "  </tbody>\n",
       "</table>\n",
       "<p>5 rows × 88 columns</p>\n",
       "</div>"
      ],
      "text/plain": [
       "       group_rid                GroupName  site_rid    state county      lat  \\\n",
       "12952       1346  Eyes on the Upper Flint      1637  Georgia  Upson  32.9052   \n",
       "12953       1346  Eyes on the Upper Flint      1638  Georgia  Upson  32.9049   \n",
       "12958       1346  Eyes on the Upper Flint      1757  Georgia  Upson  32.9829   \n",
       "12959       1346  Eyes on the Upper Flint      1899  Georgia  Upson  32.9593   \n",
       "12963       1346  Eyes on the Upper Flint      2338  Georgia  Upson  32.8590   \n",
       "\n",
       "          long          SiteName       SiteLocation  event_rid  ... comments  \\\n",
       "12952 -84.5086       Flint River  32.9052  -84.5086      30203  ...      NaN   \n",
       "12953 -84.5078       Long Branch  32.9049  -84.5078      30204  ...      NaN   \n",
       "12958 -84.4997      Elkins Creek  32.9829  -84.4997      30209  ...      NaN   \n",
       "12959 -84.4905      Hardy Branch  32.9593  -84.4905      30210  ...      NaN   \n",
       "12963 -84.3400  Upper Bell Creek     32.859  -84.34      30214  ...      NaN   \n",
       "\n",
       "       warnings                      wbd  mean_ph mean_DissolvedOxygen  \\\n",
       "12952       NaN   Buck Creek-Flint River      6.6               10.100   \n",
       "12953       NaN   Buck Creek-Flint River      6.5               10.225   \n",
       "12958       NaN       Lower Elkins Creek      NaN                  NaN   \n",
       "12959       NaN       Lower Elkins Creek      6.7               10.000   \n",
       "12963       NaN  Bell Creek-Potato Creek      NaN                  NaN   \n",
       "\n",
       "      mean_SecciDisk  mean_Salinity  core_missing_count  \\\n",
       "12952            NaN            NaN                   0   \n",
       "12953            NaN            NaN                   0   \n",
       "12958            NaN            NaN                   5   \n",
       "12959            NaN            NaN                   0   \n",
       "12963            NaN            NaN                   3   \n",
       "\n",
       "       semi_core_missing_count others_missing_count  \n",
       "12952                        3                   52  \n",
       "12953                        3                   52  \n",
       "12958                        3                   53  \n",
       "12959                        3                   52  \n",
       "12963                        3                   53  \n",
       "\n",
       "[5 rows x 88 columns]"
      ]
     },
     "execution_count": 9,
     "metadata": {},
     "output_type": "execute_result"
    }
   ],
   "source": [
    "df.head()"
   ]
  },
  {
   "attachments": {},
   "cell_type": "markdown",
   "metadata": {},
   "source": [
    "After we got a count of missing fields, we could aggregate the count on the site level (wbd)."
   ]
  },
  {
   "cell_type": "code",
   "execution_count": 10,
   "metadata": {},
   "outputs": [
    {
     "data": {
      "text/html": [
       "<div>\n",
       "<style scoped>\n",
       "    .dataframe tbody tr th:only-of-type {\n",
       "        vertical-align: middle;\n",
       "    }\n",
       "\n",
       "    .dataframe tbody tr th {\n",
       "        vertical-align: top;\n",
       "    }\n",
       "\n",
       "    .dataframe thead th {\n",
       "        text-align: right;\n",
       "    }\n",
       "</style>\n",
       "<table border=\"1\" class=\"dataframe\">\n",
       "  <thead>\n",
       "    <tr style=\"text-align: right;\">\n",
       "      <th></th>\n",
       "      <th>wbd</th>\n",
       "      <th>core_missing_count</th>\n",
       "      <th>semi_core_missing_count</th>\n",
       "      <th>others_missing_count</th>\n",
       "    </tr>\n",
       "  </thead>\n",
       "  <tbody>\n",
       "    <tr>\n",
       "      <th>0</th>\n",
       "      <td>Shaddock Creek-Oconee River</td>\n",
       "      <td>0</td>\n",
       "      <td>2</td>\n",
       "      <td>42</td>\n",
       "    </tr>\n",
       "    <tr>\n",
       "      <th>1</th>\n",
       "      <td>Upper Lanahassee Creek</td>\n",
       "      <td>0</td>\n",
       "      <td>3</td>\n",
       "      <td>39</td>\n",
       "    </tr>\n",
       "    <tr>\n",
       "      <th>2</th>\n",
       "      <td>Etowah River-Lake Allatoona</td>\n",
       "      <td>0</td>\n",
       "      <td>3</td>\n",
       "      <td>40</td>\n",
       "    </tr>\n",
       "    <tr>\n",
       "      <th>3</th>\n",
       "      <td>Fivemile Creek</td>\n",
       "      <td>0</td>\n",
       "      <td>3</td>\n",
       "      <td>42</td>\n",
       "    </tr>\n",
       "    <tr>\n",
       "      <th>4</th>\n",
       "      <td>Gola Creek-Potato Creek</td>\n",
       "      <td>0</td>\n",
       "      <td>3</td>\n",
       "      <td>42</td>\n",
       "    </tr>\n",
       "  </tbody>\n",
       "</table>\n",
       "</div>"
      ],
      "text/plain": [
       "                           wbd  core_missing_count  semi_core_missing_count  \\\n",
       "0  Shaddock Creek-Oconee River                   0                        2   \n",
       "1       Upper Lanahassee Creek                   0                        3   \n",
       "2  Etowah River-Lake Allatoona                   0                        3   \n",
       "3               Fivemile Creek                   0                        3   \n",
       "4      Gola Creek-Potato Creek                   0                        3   \n",
       "\n",
       "   others_missing_count  \n",
       "0                    42  \n",
       "1                    39  \n",
       "2                    40  \n",
       "3                    42  \n",
       "4                    42  "
      ]
     },
     "execution_count": 10,
     "metadata": {},
     "output_type": "execute_result"
    }
   ],
   "source": [
    "count_cols = [\"core_missing_count\", \"semi_core_missing_count\", \"others_missing_count\"]\n",
    "missing_count = df.groupby(['wbd'])[count_cols].sum().sort_values(by=count_cols, ascending=True)\n",
    "missing_count.reset_index(inplace=True)\n",
    "missing_count.head()"
   ]
  },
  {
   "attachments": {},
   "cell_type": "markdown",
   "metadata": {},
   "source": [
    "However, only counting on missing fields doesn't tell us about how it's distributed in the time. We need to ensure that we have at least 1 entries for each site every 6 months to show the trend."
   ]
  },
  {
   "attachments": {},
   "cell_type": "markdown",
   "metadata": {},
   "source": [
    "There are 496 sites in total. We first select a cut off solely base on the missing count."
   ]
  },
  {
   "cell_type": "code",
   "execution_count": 11,
   "metadata": {},
   "outputs": [],
   "source": [
    "missing_count = missing_count.query(\"core_missing_count < 20 and semi_core_missing_count < 30\")"
   ]
  },
  {
   "cell_type": "code",
   "execution_count": 12,
   "metadata": {},
   "outputs": [
    {
     "data": {
      "text/plain": [
       "(173, 4)"
      ]
     },
     "execution_count": 12,
     "metadata": {},
     "output_type": "execute_result"
    }
   ],
   "source": [
    "missing_count.shape"
   ]
  },
  {
   "attachments": {},
   "cell_type": "markdown",
   "metadata": {},
   "source": [
    "Then we need to aggregate the original data again to find the sites that have at least 1 entry every 6 months."
   ]
  },
  {
   "cell_type": "code",
   "execution_count": 13,
   "metadata": {},
   "outputs": [
    {
     "data": {
      "text/plain": [
       "['Augusta Canal-Savannah River',\n",
       " 'Butler Creek',\n",
       " 'Canton Creek',\n",
       " 'Cooper Creek-Bull Creek',\n",
       " 'Crooked Creek-Chattahoochee River',\n",
       " 'Headwaters Mill Creek',\n",
       " 'Hickory Log Creek',\n",
       " 'Jackson Creek',\n",
       " 'Jerico River-Laurel View River',\n",
       " 'Little Alatoona Creek',\n",
       " 'Little River-Lake Allatoona',\n",
       " 'Long Island Creek-Chattahoochee River',\n",
       " 'Lower Big Creek',\n",
       " 'Lower Elkins Creek',\n",
       " 'Lower Noonday Creek',\n",
       " 'Lower Whitewater Creek',\n",
       " 'March Creek-Chattahoochee River',\n",
       " 'Nancy Creek',\n",
       " 'Nickajack Creek',\n",
       " 'Olley Creek',\n",
       " 'Peachtree Creek',\n",
       " 'Proctor Creek-Chattahoochee River',\n",
       " 'Rottenwood Creek',\n",
       " 'Rubes Creek',\n",
       " 'Salt Creek-Little Ogeechee River',\n",
       " 'Simon Creek-Fifteen Mile Creek',\n",
       " 'Sope Creek',\n",
       " 'South Fork Peachtree Creek',\n",
       " 'Sterling Creek-Ogeechee River',\n",
       " 'Stone Mountain Creek',\n",
       " 'Sugar Creek-South River',\n",
       " 'Suwanee Creek',\n",
       " 'Uchee Creek',\n",
       " 'Upper Mulberry River',\n",
       " 'Utoy Creek',\n",
       " 'Wassaw Sound-Frontal Atlantic Ocean',\n",
       " 'Willeo Creek']"
      ]
     },
     "execution_count": 13,
     "metadata": {},
     "output_type": "execute_result"
    }
   ],
   "source": [
    "sites = df.groupby(['wbd',pd.Grouper(key='event_date', freq='6M')]).count().reset_index()\n",
    "sites = sites[['wbd','event_date', 'event_rid']]\n",
    "time_span = df[\"event_date\"].max() - df[\"event_date\"].min()\n",
    "time = 2*time_span.days/365\n",
    "sites = sites.query(\"event_rid >= 1\")\n",
    "sites = sites.groupby(['wbd']).count().reset_index()\n",
    "sites = sites.query(\"event_rid >= @time\")\n",
    "site_names = sites['wbd'].tolist()\n",
    "site_names"
   ]
  },
  {
   "attachments": {},
   "cell_type": "markdown",
   "metadata": {},
   "source": [
    "Let's plot these sites on map."
   ]
  },
  {
   "cell_type": "code",
   "execution_count": 2,
   "metadata": {},
   "outputs": [],
   "source": [
    "import numpy as np\n",
    "import geopandas as gpd\n",
    "import shapely\n",
    "from shapely.geometry import shape, Point\n",
    "# pip install pyshp\n",
    "import shapefile\n",
    "# pip install geopy\n",
    "from geopy import distance\n",
    "import plotly.figure_factory as ff\n",
    "import plotly.io as pio\n",
    "import plotly as plt\n",
    "pio.renderers.default = \"jupyterlab\"\n",
    "import plotly.express as px\n",
    "import plotly.graph_objects as go"
   ]
  },
  {
   "cell_type": "code",
   "execution_count": 3,
   "metadata": {},
   "outputs": [
    {
     "ename": "NameError",
     "evalue": "name 'df' is not defined",
     "output_type": "error",
     "traceback": [
      "\u001b[1;31m---------------------------------------------------------------------------\u001b[0m",
      "\u001b[1;31mNameError\u001b[0m                                 Traceback (most recent call last)",
      "Cell \u001b[1;32mIn [3], line 1\u001b[0m\n\u001b[1;32m----> 1\u001b[0m locs \u001b[39m=\u001b[39m df[[\u001b[39m'\u001b[39m\u001b[39mSiteName\u001b[39m\u001b[39m'\u001b[39m, \u001b[39m'\u001b[39m\u001b[39mSiteLocation\u001b[39m\u001b[39m'\u001b[39m]]\n\u001b[0;32m      2\u001b[0m df \u001b[39m=\u001b[39m df[\u001b[39m~\u001b[39mdf[\u001b[39m'\u001b[39m\u001b[39mSiteLocation\u001b[39m\u001b[39m'\u001b[39m]\u001b[39m.\u001b[39misna()]\n\u001b[0;32m      3\u001b[0m locs \u001b[39m=\u001b[39m locs[\u001b[39m~\u001b[39mlocs[\u001b[39m'\u001b[39m\u001b[39mSiteLocation\u001b[39m\u001b[39m'\u001b[39m]\u001b[39m.\u001b[39misna()]\n",
      "\u001b[1;31mNameError\u001b[0m: name 'df' is not defined"
     ]
    }
   ],
   "source": [
    "locs = df[['SiteName', 'SiteLocation']]\n",
    "df = df[~df['SiteLocation'].isna()]\n",
    "locs = locs[~locs['SiteLocation'].isna()]\n",
    "loc_pairs, geo_locs, gdf = get_loc_objects_from_series(locs['SiteLocation'])\n",
    "loc_lookup = fetch_geo_locs()\n",
    "WBD_gj = shapefile.Reader(\"../../geodata\\hydrologic_units_WBDHU12_ga_3975106_02\\hydrologic_units\\wbdhu12_a_ga.shp\").__geo_interface__\n",
    "GA_map = get_state_map()"
   ]
  },
  {
   "cell_type": "code",
   "execution_count": null,
   "metadata": {},
   "outputs": [
    {
     "ename": "KeyboardInterrupt",
     "evalue": "",
     "output_type": "error",
     "traceback": [
      "\u001b[1;31m---------------------------------------------------------------------------\u001b[0m",
      "\u001b[1;31mKeyboardInterrupt\u001b[0m                         Traceback (most recent call last)",
      "Cell \u001b[1;32mIn [16], line 1\u001b[0m\n\u001b[1;32m----> 1\u001b[0m fig \u001b[39m=\u001b[39m px\u001b[39m.\u001b[39;49mchoropleth_mapbox(sites, \u001b[39m#array/object with wbd names in the same order as the json file\u001b[39;49;00m\n\u001b[0;32m      2\u001b[0m                            geojson\u001b[39m=\u001b[39;49mWBD_gj,\n\u001b[0;32m      3\u001b[0m                            locations\u001b[39m=\u001b[39;49m\u001b[39m\"\u001b[39;49m\u001b[39mwbd\u001b[39;49m\u001b[39m\"\u001b[39;49m,\n\u001b[0;32m      4\u001b[0m                            featureidkey\u001b[39m=\u001b[39;49m\u001b[39m\"\u001b[39;49m\u001b[39mproperties.name\u001b[39;49m\u001b[39m\"\u001b[39;49m,\n\u001b[0;32m      5\u001b[0m                            center\u001b[39m=\u001b[39;49m{\u001b[39m\"\u001b[39;49m\u001b[39mlat\u001b[39;49m\u001b[39m\"\u001b[39;49m: \u001b[39m32.8407\u001b[39;49m, \u001b[39m\"\u001b[39;49m\u001b[39mlon\u001b[39;49m\u001b[39m\"\u001b[39;49m: \u001b[39m-\u001b[39;49m\u001b[39m83.6324\u001b[39;49m}, \u001b[39m# macon\u001b[39;49;00m\n\u001b[0;32m      6\u001b[0m                            mapbox_style\u001b[39m=\u001b[39;49m\u001b[39m\"\u001b[39;49m\u001b[39mstamen-terrain\u001b[39;49m\u001b[39m\"\u001b[39;49m, \u001b[39m#\"carto-positron\",\u001b[39;49;00m\n\u001b[0;32m      7\u001b[0m                            color_continuous_scale\u001b[39m=\u001b[39;49m\u001b[39m\"\u001b[39;49m\u001b[39mJet\u001b[39;49m\u001b[39m\"\u001b[39;49m, \u001b[39m#Sunsetdark, Jet, \u001b[39;49;00m\n\u001b[0;32m      8\u001b[0m                            zoom\u001b[39m=\u001b[39;49m\u001b[39m6\u001b[39;49m,\n\u001b[0;32m      9\u001b[0m                            opacity\u001b[39m=\u001b[39;49m\u001b[39m0.7\u001b[39;49m,\n\u001b[0;32m     10\u001b[0m                       )\n\u001b[0;32m     13\u001b[0m fig\u001b[39m.\u001b[39mupdate_layout(margin\u001b[39m=\u001b[39m{\u001b[39m\"\u001b[39m\u001b[39mr\u001b[39m\u001b[39m\"\u001b[39m:\u001b[39m0\u001b[39m, \u001b[39m\"\u001b[39m\u001b[39mt\u001b[39m\u001b[39m\"\u001b[39m:\u001b[39m0\u001b[39m, \u001b[39m\"\u001b[39m\u001b[39ml\u001b[39m\u001b[39m\"\u001b[39m:\u001b[39m0\u001b[39m, \u001b[39m\"\u001b[39m\u001b[39mb\u001b[39m\u001b[39m\"\u001b[39m:\u001b[39m0\u001b[39m})\n\u001b[0;32m     14\u001b[0m fig\u001b[39m.\u001b[39mshow()\n",
      "File \u001b[1;32md:\\Anaconda\\envs\\sci4ga\\lib\\site-packages\\plotly\\express\\_chart_types.py:1284\u001b[0m, in \u001b[0;36mchoropleth_mapbox\u001b[1;34m(data_frame, geojson, featureidkey, locations, color, hover_name, hover_data, custom_data, animation_frame, animation_group, category_orders, labels, color_discrete_sequence, color_discrete_map, color_continuous_scale, range_color, color_continuous_midpoint, opacity, zoom, center, mapbox_style, title, template, width, height)\u001b[0m\n\u001b[0;32m   1253\u001b[0m \u001b[39mdef\u001b[39;00m \u001b[39mchoropleth_mapbox\u001b[39m(\n\u001b[0;32m   1254\u001b[0m     data_frame\u001b[39m=\u001b[39m\u001b[39mNone\u001b[39;00m,\n\u001b[0;32m   1255\u001b[0m     geojson\u001b[39m=\u001b[39m\u001b[39mNone\u001b[39;00m,\n\u001b[1;32m   (...)\u001b[0m\n\u001b[0;32m   1278\u001b[0m     height\u001b[39m=\u001b[39m\u001b[39mNone\u001b[39;00m,\n\u001b[0;32m   1279\u001b[0m ) \u001b[39m-\u001b[39m\u001b[39m>\u001b[39m go\u001b[39m.\u001b[39mFigure:\n\u001b[0;32m   1280\u001b[0m     \u001b[39m\"\"\"\u001b[39;00m\n\u001b[0;32m   1281\u001b[0m \u001b[39m    In a Mapbox choropleth map, each row of `data_frame` is represented by a\u001b[39;00m\n\u001b[0;32m   1282\u001b[0m \u001b[39m    colored region on a Mapbox map.\u001b[39;00m\n\u001b[0;32m   1283\u001b[0m \u001b[39m    \"\"\"\u001b[39;00m\n\u001b[1;32m-> 1284\u001b[0m     \u001b[39mreturn\u001b[39;00m make_figure(args\u001b[39m=\u001b[39;49m\u001b[39mlocals\u001b[39;49m(), constructor\u001b[39m=\u001b[39;49mgo\u001b[39m.\u001b[39;49mChoroplethmapbox)\n",
      "File \u001b[1;32md:\\Anaconda\\envs\\sci4ga\\lib\\site-packages\\plotly\\express\\_core.py:2246\u001b[0m, in \u001b[0;36mmake_figure\u001b[1;34m(args, constructor, trace_patch, layout_patch)\u001b[0m\n\u001b[0;32m   2237\u001b[0m         _set_trace_grid_reference(\n\u001b[0;32m   2238\u001b[0m             trace,\n\u001b[0;32m   2239\u001b[0m             fig\u001b[39m.\u001b[39mlayout,\n\u001b[1;32m   (...)\u001b[0m\n\u001b[0;32m   2242\u001b[0m             trace\u001b[39m.\u001b[39m_subplot_col,\n\u001b[0;32m   2243\u001b[0m         )\n\u001b[0;32m   2245\u001b[0m \u001b[39m# Add traces, layout and frames to figure\u001b[39;00m\n\u001b[1;32m-> 2246\u001b[0m fig\u001b[39m.\u001b[39;49madd_traces(frame_list[\u001b[39m0\u001b[39;49m][\u001b[39m\"\u001b[39;49m\u001b[39mdata\u001b[39;49m\u001b[39m\"\u001b[39;49m] \u001b[39mif\u001b[39;49;00m \u001b[39mlen\u001b[39;49m(frame_list) \u001b[39m>\u001b[39;49m \u001b[39m0\u001b[39;49m \u001b[39melse\u001b[39;49;00m [])\n\u001b[0;32m   2247\u001b[0m fig\u001b[39m.\u001b[39mupdate_layout(layout_patch)\n\u001b[0;32m   2248\u001b[0m \u001b[39mif\u001b[39;00m \u001b[39m\"\u001b[39m\u001b[39mtemplate\u001b[39m\u001b[39m\"\u001b[39m \u001b[39min\u001b[39;00m args \u001b[39mand\u001b[39;00m args[\u001b[39m\"\u001b[39m\u001b[39mtemplate\u001b[39m\u001b[39m\"\u001b[39m] \u001b[39mis\u001b[39;00m \u001b[39mnot\u001b[39;00m \u001b[39mNone\u001b[39;00m:\n",
      "File \u001b[1;32md:\\Anaconda\\envs\\sci4ga\\lib\\site-packages\\plotly\\graph_objs\\_figure.py:945\u001b[0m, in \u001b[0;36mFigure.add_traces\u001b[1;34m(self, data, rows, cols, secondary_ys, exclude_empty_subplots)\u001b[0m\n\u001b[0;32m    869\u001b[0m \u001b[39mdef\u001b[39;00m \u001b[39madd_traces\u001b[39m(\n\u001b[0;32m    870\u001b[0m     \u001b[39mself\u001b[39m,\n\u001b[0;32m    871\u001b[0m     data,\n\u001b[1;32m   (...)\u001b[0m\n\u001b[0;32m    875\u001b[0m     exclude_empty_subplots\u001b[39m=\u001b[39m\u001b[39mFalse\u001b[39;00m,\n\u001b[0;32m    876\u001b[0m ) \u001b[39m-\u001b[39m\u001b[39m>\u001b[39m \u001b[39m\"\u001b[39m\u001b[39mFigure\u001b[39m\u001b[39m\"\u001b[39m:\n\u001b[0;32m    877\u001b[0m     \u001b[39m\"\"\"\u001b[39;00m\n\u001b[0;32m    878\u001b[0m \n\u001b[0;32m    879\u001b[0m \u001b[39m    Add traces to the figure\u001b[39;00m\n\u001b[1;32m   (...)\u001b[0m\n\u001b[0;32m    943\u001b[0m \n\u001b[0;32m    944\u001b[0m \u001b[39m    \"\"\"\u001b[39;00m\n\u001b[1;32m--> 945\u001b[0m     \u001b[39mreturn\u001b[39;00m \u001b[39msuper\u001b[39;49m(Figure, \u001b[39mself\u001b[39;49m)\u001b[39m.\u001b[39;49madd_traces(\n\u001b[0;32m    946\u001b[0m         data, rows, cols, secondary_ys, exclude_empty_subplots\n\u001b[0;32m    947\u001b[0m     )\n",
      "File \u001b[1;32md:\\Anaconda\\envs\\sci4ga\\lib\\site-packages\\plotly\\basedatatypes.py:2240\u001b[0m, in \u001b[0;36mBaseFigure.add_traces\u001b[1;34m(self, data, rows, cols, secondary_ys, exclude_empty_subplots)\u001b[0m\n\u001b[0;32m   2230\u001b[0m     data \u001b[39m=\u001b[39m \u001b[39mlist\u001b[39m(\n\u001b[0;32m   2231\u001b[0m         \u001b[39mfilter\u001b[39m(\n\u001b[0;32m   2232\u001b[0m             \u001b[39mlambda\u001b[39;00m trace: \u001b[39mself\u001b[39m\u001b[39m.\u001b[39m_subplot_not_empty(\n\u001b[1;32m   (...)\u001b[0m\n\u001b[0;32m   2236\u001b[0m         )\n\u001b[0;32m   2237\u001b[0m     )\n\u001b[0;32m   2239\u001b[0m \u001b[39m# Make deep copy of trace data (Optimize later if needed)\u001b[39;00m\n\u001b[1;32m-> 2240\u001b[0m new_traces_data \u001b[39m=\u001b[39m [deepcopy(trace\u001b[39m.\u001b[39m_props) \u001b[39mfor\u001b[39;00m trace \u001b[39min\u001b[39;00m data]\n\u001b[0;32m   2242\u001b[0m \u001b[39m# Update trace parent\u001b[39;00m\n\u001b[0;32m   2243\u001b[0m \u001b[39mfor\u001b[39;00m trace \u001b[39min\u001b[39;00m data:\n",
      "File \u001b[1;32md:\\Anaconda\\envs\\sci4ga\\lib\\site-packages\\plotly\\basedatatypes.py:2240\u001b[0m, in \u001b[0;36m<listcomp>\u001b[1;34m(.0)\u001b[0m\n\u001b[0;32m   2230\u001b[0m     data \u001b[39m=\u001b[39m \u001b[39mlist\u001b[39m(\n\u001b[0;32m   2231\u001b[0m         \u001b[39mfilter\u001b[39m(\n\u001b[0;32m   2232\u001b[0m             \u001b[39mlambda\u001b[39;00m trace: \u001b[39mself\u001b[39m\u001b[39m.\u001b[39m_subplot_not_empty(\n\u001b[1;32m   (...)\u001b[0m\n\u001b[0;32m   2236\u001b[0m         )\n\u001b[0;32m   2237\u001b[0m     )\n\u001b[0;32m   2239\u001b[0m \u001b[39m# Make deep copy of trace data (Optimize later if needed)\u001b[39;00m\n\u001b[1;32m-> 2240\u001b[0m new_traces_data \u001b[39m=\u001b[39m [deepcopy(trace\u001b[39m.\u001b[39;49m_props) \u001b[39mfor\u001b[39;00m trace \u001b[39min\u001b[39;00m data]\n\u001b[0;32m   2242\u001b[0m \u001b[39m# Update trace parent\u001b[39;00m\n\u001b[0;32m   2243\u001b[0m \u001b[39mfor\u001b[39;00m trace \u001b[39min\u001b[39;00m data:\n",
      "File \u001b[1;32md:\\Anaconda\\envs\\sci4ga\\lib\\copy.py:146\u001b[0m, in \u001b[0;36mdeepcopy\u001b[1;34m(x, memo, _nil)\u001b[0m\n\u001b[0;32m    144\u001b[0m copier \u001b[39m=\u001b[39m _deepcopy_dispatch\u001b[39m.\u001b[39mget(\u001b[39mcls\u001b[39m)\n\u001b[0;32m    145\u001b[0m \u001b[39mif\u001b[39;00m copier \u001b[39mis\u001b[39;00m \u001b[39mnot\u001b[39;00m \u001b[39mNone\u001b[39;00m:\n\u001b[1;32m--> 146\u001b[0m     y \u001b[39m=\u001b[39m copier(x, memo)\n\u001b[0;32m    147\u001b[0m \u001b[39melse\u001b[39;00m:\n\u001b[0;32m    148\u001b[0m     \u001b[39mif\u001b[39;00m \u001b[39missubclass\u001b[39m(\u001b[39mcls\u001b[39m, \u001b[39mtype\u001b[39m):\n",
      "File \u001b[1;32md:\\Anaconda\\envs\\sci4ga\\lib\\copy.py:230\u001b[0m, in \u001b[0;36m_deepcopy_dict\u001b[1;34m(x, memo, deepcopy)\u001b[0m\n\u001b[0;32m    228\u001b[0m memo[\u001b[39mid\u001b[39m(x)] \u001b[39m=\u001b[39m y\n\u001b[0;32m    229\u001b[0m \u001b[39mfor\u001b[39;00m key, value \u001b[39min\u001b[39;00m x\u001b[39m.\u001b[39mitems():\n\u001b[1;32m--> 230\u001b[0m     y[deepcopy(key, memo)] \u001b[39m=\u001b[39m deepcopy(value, memo)\n\u001b[0;32m    231\u001b[0m \u001b[39mreturn\u001b[39;00m y\n",
      "File \u001b[1;32md:\\Anaconda\\envs\\sci4ga\\lib\\copy.py:146\u001b[0m, in \u001b[0;36mdeepcopy\u001b[1;34m(x, memo, _nil)\u001b[0m\n\u001b[0;32m    144\u001b[0m copier \u001b[39m=\u001b[39m _deepcopy_dispatch\u001b[39m.\u001b[39mget(\u001b[39mcls\u001b[39m)\n\u001b[0;32m    145\u001b[0m \u001b[39mif\u001b[39;00m copier \u001b[39mis\u001b[39;00m \u001b[39mnot\u001b[39;00m \u001b[39mNone\u001b[39;00m:\n\u001b[1;32m--> 146\u001b[0m     y \u001b[39m=\u001b[39m copier(x, memo)\n\u001b[0;32m    147\u001b[0m \u001b[39melse\u001b[39;00m:\n\u001b[0;32m    148\u001b[0m     \u001b[39mif\u001b[39;00m \u001b[39missubclass\u001b[39m(\u001b[39mcls\u001b[39m, \u001b[39mtype\u001b[39m):\n",
      "File \u001b[1;32md:\\Anaconda\\envs\\sci4ga\\lib\\copy.py:230\u001b[0m, in \u001b[0;36m_deepcopy_dict\u001b[1;34m(x, memo, deepcopy)\u001b[0m\n\u001b[0;32m    228\u001b[0m memo[\u001b[39mid\u001b[39m(x)] \u001b[39m=\u001b[39m y\n\u001b[0;32m    229\u001b[0m \u001b[39mfor\u001b[39;00m key, value \u001b[39min\u001b[39;00m x\u001b[39m.\u001b[39mitems():\n\u001b[1;32m--> 230\u001b[0m     y[deepcopy(key, memo)] \u001b[39m=\u001b[39m deepcopy(value, memo)\n\u001b[0;32m    231\u001b[0m \u001b[39mreturn\u001b[39;00m y\n",
      "File \u001b[1;32md:\\Anaconda\\envs\\sci4ga\\lib\\copy.py:146\u001b[0m, in \u001b[0;36mdeepcopy\u001b[1;34m(x, memo, _nil)\u001b[0m\n\u001b[0;32m    144\u001b[0m copier \u001b[39m=\u001b[39m _deepcopy_dispatch\u001b[39m.\u001b[39mget(\u001b[39mcls\u001b[39m)\n\u001b[0;32m    145\u001b[0m \u001b[39mif\u001b[39;00m copier \u001b[39mis\u001b[39;00m \u001b[39mnot\u001b[39;00m \u001b[39mNone\u001b[39;00m:\n\u001b[1;32m--> 146\u001b[0m     y \u001b[39m=\u001b[39m copier(x, memo)\n\u001b[0;32m    147\u001b[0m \u001b[39melse\u001b[39;00m:\n\u001b[0;32m    148\u001b[0m     \u001b[39mif\u001b[39;00m \u001b[39missubclass\u001b[39m(\u001b[39mcls\u001b[39m, \u001b[39mtype\u001b[39m):\n",
      "File \u001b[1;32md:\\Anaconda\\envs\\sci4ga\\lib\\copy.py:205\u001b[0m, in \u001b[0;36m_deepcopy_list\u001b[1;34m(x, memo, deepcopy)\u001b[0m\n\u001b[0;32m    203\u001b[0m append \u001b[39m=\u001b[39m y\u001b[39m.\u001b[39mappend\n\u001b[0;32m    204\u001b[0m \u001b[39mfor\u001b[39;00m a \u001b[39min\u001b[39;00m x:\n\u001b[1;32m--> 205\u001b[0m     append(deepcopy(a, memo))\n\u001b[0;32m    206\u001b[0m \u001b[39mreturn\u001b[39;00m y\n",
      "File \u001b[1;32md:\\Anaconda\\envs\\sci4ga\\lib\\copy.py:146\u001b[0m, in \u001b[0;36mdeepcopy\u001b[1;34m(x, memo, _nil)\u001b[0m\n\u001b[0;32m    144\u001b[0m copier \u001b[39m=\u001b[39m _deepcopy_dispatch\u001b[39m.\u001b[39mget(\u001b[39mcls\u001b[39m)\n\u001b[0;32m    145\u001b[0m \u001b[39mif\u001b[39;00m copier \u001b[39mis\u001b[39;00m \u001b[39mnot\u001b[39;00m \u001b[39mNone\u001b[39;00m:\n\u001b[1;32m--> 146\u001b[0m     y \u001b[39m=\u001b[39m copier(x, memo)\n\u001b[0;32m    147\u001b[0m \u001b[39melse\u001b[39;00m:\n\u001b[0;32m    148\u001b[0m     \u001b[39mif\u001b[39;00m \u001b[39missubclass\u001b[39m(\u001b[39mcls\u001b[39m, \u001b[39mtype\u001b[39m):\n",
      "File \u001b[1;32md:\\Anaconda\\envs\\sci4ga\\lib\\copy.py:230\u001b[0m, in \u001b[0;36m_deepcopy_dict\u001b[1;34m(x, memo, deepcopy)\u001b[0m\n\u001b[0;32m    228\u001b[0m memo[\u001b[39mid\u001b[39m(x)] \u001b[39m=\u001b[39m y\n\u001b[0;32m    229\u001b[0m \u001b[39mfor\u001b[39;00m key, value \u001b[39min\u001b[39;00m x\u001b[39m.\u001b[39mitems():\n\u001b[1;32m--> 230\u001b[0m     y[deepcopy(key, memo)] \u001b[39m=\u001b[39m deepcopy(value, memo)\n\u001b[0;32m    231\u001b[0m \u001b[39mreturn\u001b[39;00m y\n",
      "File \u001b[1;32md:\\Anaconda\\envs\\sci4ga\\lib\\copy.py:146\u001b[0m, in \u001b[0;36mdeepcopy\u001b[1;34m(x, memo, _nil)\u001b[0m\n\u001b[0;32m    144\u001b[0m copier \u001b[39m=\u001b[39m _deepcopy_dispatch\u001b[39m.\u001b[39mget(\u001b[39mcls\u001b[39m)\n\u001b[0;32m    145\u001b[0m \u001b[39mif\u001b[39;00m copier \u001b[39mis\u001b[39;00m \u001b[39mnot\u001b[39;00m \u001b[39mNone\u001b[39;00m:\n\u001b[1;32m--> 146\u001b[0m     y \u001b[39m=\u001b[39m copier(x, memo)\n\u001b[0;32m    147\u001b[0m \u001b[39melse\u001b[39;00m:\n\u001b[0;32m    148\u001b[0m     \u001b[39mif\u001b[39;00m \u001b[39missubclass\u001b[39m(\u001b[39mcls\u001b[39m, \u001b[39mtype\u001b[39m):\n",
      "File \u001b[1;32md:\\Anaconda\\envs\\sci4ga\\lib\\copy.py:230\u001b[0m, in \u001b[0;36m_deepcopy_dict\u001b[1;34m(x, memo, deepcopy)\u001b[0m\n\u001b[0;32m    228\u001b[0m memo[\u001b[39mid\u001b[39m(x)] \u001b[39m=\u001b[39m y\n\u001b[0;32m    229\u001b[0m \u001b[39mfor\u001b[39;00m key, value \u001b[39min\u001b[39;00m x\u001b[39m.\u001b[39mitems():\n\u001b[1;32m--> 230\u001b[0m     y[deepcopy(key, memo)] \u001b[39m=\u001b[39m deepcopy(value, memo)\n\u001b[0;32m    231\u001b[0m \u001b[39mreturn\u001b[39;00m y\n",
      "File \u001b[1;32md:\\Anaconda\\envs\\sci4ga\\lib\\copy.py:146\u001b[0m, in \u001b[0;36mdeepcopy\u001b[1;34m(x, memo, _nil)\u001b[0m\n\u001b[0;32m    144\u001b[0m copier \u001b[39m=\u001b[39m _deepcopy_dispatch\u001b[39m.\u001b[39mget(\u001b[39mcls\u001b[39m)\n\u001b[0;32m    145\u001b[0m \u001b[39mif\u001b[39;00m copier \u001b[39mis\u001b[39;00m \u001b[39mnot\u001b[39;00m \u001b[39mNone\u001b[39;00m:\n\u001b[1;32m--> 146\u001b[0m     y \u001b[39m=\u001b[39m copier(x, memo)\n\u001b[0;32m    147\u001b[0m \u001b[39melse\u001b[39;00m:\n\u001b[0;32m    148\u001b[0m     \u001b[39mif\u001b[39;00m \u001b[39missubclass\u001b[39m(\u001b[39mcls\u001b[39m, \u001b[39mtype\u001b[39m):\n",
      "File \u001b[1;32md:\\Anaconda\\envs\\sci4ga\\lib\\copy.py:205\u001b[0m, in \u001b[0;36m_deepcopy_list\u001b[1;34m(x, memo, deepcopy)\u001b[0m\n\u001b[0;32m    203\u001b[0m append \u001b[39m=\u001b[39m y\u001b[39m.\u001b[39mappend\n\u001b[0;32m    204\u001b[0m \u001b[39mfor\u001b[39;00m a \u001b[39min\u001b[39;00m x:\n\u001b[1;32m--> 205\u001b[0m     append(deepcopy(a, memo))\n\u001b[0;32m    206\u001b[0m \u001b[39mreturn\u001b[39;00m y\n",
      "File \u001b[1;32md:\\Anaconda\\envs\\sci4ga\\lib\\copy.py:146\u001b[0m, in \u001b[0;36mdeepcopy\u001b[1;34m(x, memo, _nil)\u001b[0m\n\u001b[0;32m    144\u001b[0m copier \u001b[39m=\u001b[39m _deepcopy_dispatch\u001b[39m.\u001b[39mget(\u001b[39mcls\u001b[39m)\n\u001b[0;32m    145\u001b[0m \u001b[39mif\u001b[39;00m copier \u001b[39mis\u001b[39;00m \u001b[39mnot\u001b[39;00m \u001b[39mNone\u001b[39;00m:\n\u001b[1;32m--> 146\u001b[0m     y \u001b[39m=\u001b[39m copier(x, memo)\n\u001b[0;32m    147\u001b[0m \u001b[39melse\u001b[39;00m:\n\u001b[0;32m    148\u001b[0m     \u001b[39mif\u001b[39;00m \u001b[39missubclass\u001b[39m(\u001b[39mcls\u001b[39m, \u001b[39mtype\u001b[39m):\n",
      "File \u001b[1;32md:\\Anaconda\\envs\\sci4ga\\lib\\copy.py:205\u001b[0m, in \u001b[0;36m_deepcopy_list\u001b[1;34m(x, memo, deepcopy)\u001b[0m\n\u001b[0;32m    203\u001b[0m append \u001b[39m=\u001b[39m y\u001b[39m.\u001b[39mappend\n\u001b[0;32m    204\u001b[0m \u001b[39mfor\u001b[39;00m a \u001b[39min\u001b[39;00m x:\n\u001b[1;32m--> 205\u001b[0m     append(deepcopy(a, memo))\n\u001b[0;32m    206\u001b[0m \u001b[39mreturn\u001b[39;00m y\n",
      "File \u001b[1;32md:\\Anaconda\\envs\\sci4ga\\lib\\copy.py:146\u001b[0m, in \u001b[0;36mdeepcopy\u001b[1;34m(x, memo, _nil)\u001b[0m\n\u001b[0;32m    144\u001b[0m copier \u001b[39m=\u001b[39m _deepcopy_dispatch\u001b[39m.\u001b[39mget(\u001b[39mcls\u001b[39m)\n\u001b[0;32m    145\u001b[0m \u001b[39mif\u001b[39;00m copier \u001b[39mis\u001b[39;00m \u001b[39mnot\u001b[39;00m \u001b[39mNone\u001b[39;00m:\n\u001b[1;32m--> 146\u001b[0m     y \u001b[39m=\u001b[39m copier(x, memo)\n\u001b[0;32m    147\u001b[0m \u001b[39melse\u001b[39;00m:\n\u001b[0;32m    148\u001b[0m     \u001b[39mif\u001b[39;00m \u001b[39missubclass\u001b[39m(\u001b[39mcls\u001b[39m, \u001b[39mtype\u001b[39m):\n",
      "File \u001b[1;32md:\\Anaconda\\envs\\sci4ga\\lib\\copy.py:217\u001b[0m, in \u001b[0;36m_deepcopy_tuple\u001b[1;34m(x, memo, deepcopy)\u001b[0m\n\u001b[0;32m    215\u001b[0m \u001b[39mexcept\u001b[39;00m \u001b[39mKeyError\u001b[39;00m:\n\u001b[0;32m    216\u001b[0m     \u001b[39mpass\u001b[39;00m\n\u001b[1;32m--> 217\u001b[0m \u001b[39mfor\u001b[39;00m k, j \u001b[39min\u001b[39;00m \u001b[39mzip\u001b[39m(x, y):\n\u001b[0;32m    218\u001b[0m     \u001b[39mif\u001b[39;00m k \u001b[39mis\u001b[39;00m \u001b[39mnot\u001b[39;00m j:\n\u001b[0;32m    219\u001b[0m         y \u001b[39m=\u001b[39m \u001b[39mtuple\u001b[39m(y)\n",
      "\u001b[1;31mKeyboardInterrupt\u001b[0m: "
     ]
    }
   ],
   "source": [
    "fig = px.choropleth_mapbox(sites, #array/object with wbd names in the same order as the json file\n",
    "                           geojson=WBD_gj,\n",
    "                           locations=\"wbd\",\n",
    "                           featureidkey=\"properties.name\",\n",
    "                           center={\"lat\": 32.8407, \"lon\": -83.6324}, # macon\n",
    "                           mapbox_style=\"stamen-terrain\", #\"carto-positron\",\n",
    "                           color_continuous_scale=\"Jet\", #Sunsetdark, Jet, \n",
    "                           zoom=6,\n",
    "                           opacity=0.7,\n",
    "                      )\n",
    "\n",
    "\n",
    "fig.update_layout(margin={\"r\":0, \"t\":0, \"l\":0, \"b\":0})\n",
    "fig.show()"
   ]
  },
  {
   "cell_type": "code",
   "execution_count": 16,
   "metadata": {},
   "outputs": [],
   "source": [
    "!pip freeze > requirements.txt"
   ]
  },
  {
   "cell_type": "code",
   "execution_count": 18,
   "metadata": {},
   "outputs": [
    {
     "name": "stderr",
     "output_type": "stream",
     "text": [
      "INFO: Successfully saved requirements file in c:\\Users\\Tony Chen\\Desktop\\Sci4GA\\adopt-a-stream-georgia\\exported_dataset\\tony_code\\requirements.txt\n"
     ]
    }
   ],
   "source": [
    "!pipreqs --force"
   ]
  }
 ],
 "metadata": {
  "kernelspec": {
   "display_name": "Python 3.8.13 ('sci4ga')",
   "language": "python",
   "name": "python3"
  },
  "language_info": {
   "codemirror_mode": {
    "name": "ipython",
    "version": 3
   },
   "file_extension": ".py",
   "mimetype": "text/x-python",
   "name": "python",
   "nbconvert_exporter": "python",
   "pygments_lexer": "ipython3",
   "version": "3.8.13"
  },
  "orig_nbformat": 4,
  "vscode": {
   "interpreter": {
    "hash": "2148c183b74d5232b0a65c75cd4f040fca81da9bc0b6e87013a035d3dfe8209f"
   }
  }
 },
 "nbformat": 4,
 "nbformat_minor": 2
}
