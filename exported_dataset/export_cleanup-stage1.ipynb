{
 "cells": [
  {
   "cell_type": "markdown",
   "metadata": {},
   "source": [
    "Hypothesis: CSV will load into a simple schema if we remove all rows where the first column (an ID) is not an integer."
   ]
  },
  {
   "cell_type": "code",
   "execution_count": 8,
   "metadata": {},
   "outputs": [],
   "source": [
    "import pandas as pd\n",
    "import numpy as np\n",
    "import csv\n",
    "from collections import defaultdict, Counter"
   ]
  },
  {
   "cell_type": "code",
   "execution_count": 5,
   "metadata": {},
   "outputs": [],
   "source": [
    "schema_rows = []\n",
    "with open(\"AAS_Chemical_Data_12202021.xlsx - Sheet1.csv\", \"r\") as f:\n",
    "    reader = csv.reader(f)\n",
    "    for i, row in enumerate(reader):\n",
    "        if i == 0:\n",
    "            header = row\n",
    "        else:\n",
    "            try:\n",
    "                group_id = int(row[0])\n",
    "            except:\n",
    "                # ignore line\n",
    "                pass\n",
    "            else:\n",
    "                schema_rows.append(row)"
   ]
  },
  {
   "cell_type": "code",
   "execution_count": 6,
   "metadata": {},
   "outputs": [
    {
     "data": {
      "text/plain": [
       "64162"
      ]
     },
     "execution_count": 6,
     "metadata": {},
     "output_type": "execute_result"
    }
   ],
   "source": [
    "# pre-duplicates\n",
    "len(schema_rows)"
   ]
  },
  {
   "cell_type": "code",
   "execution_count": 11,
   "metadata": {},
   "outputs": [
    {
     "data": {
      "text/plain": [
       "85"
      ]
     },
     "execution_count": 11,
     "metadata": {},
     "output_type": "execute_result"
    }
   ],
   "source": [
    "len(header)"
   ]
  },
  {
   "cell_type": "code",
   "execution_count": 12,
   "metadata": {
    "collapsed": true,
    "jupyter": {
     "outputs_hidden": true
    }
   },
   "outputs": [
    {
     "name": "stdout",
     "output_type": "stream",
     "text": [
      "group_rid\n",
      "GroupName\n",
      "site_rid\n",
      "SiteName\n",
      "SiteLocation\n",
      "event_rid\n",
      "event_date\n",
      "volunteer_time\n",
      "data_entry\n",
      "participants\n",
      "rain_24_hours\n",
      "weather\n",
      "rain_hours\n",
      "rain_inches\n",
      "distance\n",
      "air_temperature\n",
      "stream\n",
      "method\n",
      "wqi\n",
      "habitat\n",
      "Comments\n",
      "createdby\n",
      "createddate\n",
      "chem_detail_rid\n",
      "air_temp\n",
      "water_temp\n",
      "calibrate\n",
      "calibrate_comment\n",
      "chemical_comment\n",
      "ChemWarnings\n",
      "do_saturation\n",
      "reagent\n",
      "reagent_other\n",
      "ph1\n",
      "ph2\n",
      "DissolvedOxygen1\n",
      "DissolvedOxygen2\n",
      "Conductivity\n",
      "Salinity1\n",
      "Salinity2\n",
      "SecchiDisk1\n",
      "SecchiDisk2\n",
      "ChlorophyllA\n",
      "Alkalinity\n",
      "AmmoniaN\n",
      "NitrateN\n",
      "Orthophosphate\n",
      "SamplingDepth\n",
      "SettleableSolids\n",
      "Turbidity\n",
      "Chloride\n",
      "Hardness\n",
      "Other1\n",
      "Other2\n",
      "Other3\n",
      "Other4\n",
      "Other5\n",
      "Other6\n",
      "Other7\n",
      "Other1_Comm\n",
      "Other2_Comm\n",
      "Other3_Comm\n",
      "Other4_Comm\n",
      "Other5_Comm\n",
      "Other6_Comm\n",
      "Other7_Comm\n",
      "bact_detail_rid\n",
      "plate_blank\n",
      "plate_one\n",
      "plate_two\n",
      "plate_three\n",
      "plate_four\n",
      "plate_five\n",
      "colony_avg\n",
      "hold_start_datetime\n",
      "hold_end_datetime\n",
      "min_temp\n",
      "max_temp\n",
      "three_M_plate\n",
      "ecoli_idexx\n",
      "fecal_coliform\n",
      "ecoli_other\n",
      "ecoli_other_unit\n",
      "comments\n",
      "warnings\n"
     ]
    }
   ],
   "source": [
    "for field in header:\n",
    "    print(field)"
   ]
  },
  {
   "cell_type": "code",
   "execution_count": 6,
   "metadata": {},
   "outputs": [],
   "source": [
    "# this is only a simple-minded attempt to remove duplicates (see below)\n",
    "data = pd.DataFrame(data=schema_rows, columns=header).drop_duplicates()"
   ]
  },
  {
   "cell_type": "code",
   "execution_count": 55,
   "metadata": {},
   "outputs": [
    {
     "data": {
      "text/plain": [
       "64148"
      ]
     },
     "execution_count": 55,
     "metadata": {},
     "output_type": "execute_result"
    }
   ],
   "source": [
    "len(data)"
   ]
  },
  {
   "cell_type": "markdown",
   "metadata": {},
   "source": [
    "## Validation of schema"
   ]
  },
  {
   "cell_type": "markdown",
   "metadata": {},
   "source": [
    "## Dates"
   ]
  },
  {
   "cell_type": "markdown",
   "metadata": {},
   "source": [
    "Observation: event dates use two-digit year and seem to start in the late '90s, so to order the values correctly we have to convert to a four-digit year."
   ]
  },
  {
   "cell_type": "code",
   "execution_count": 198,
   "metadata": {},
   "outputs": [],
   "source": [
    "data = data.assign(event_date=pd.to_datetime(data[\"event_date\"]))"
   ]
  },
  {
   "cell_type": "markdown",
   "metadata": {},
   "source": [
    "## Step 1"
   ]
  },
  {
   "cell_type": "markdown",
   "metadata": {},
   "source": [
    "Convert NULLs ID columns (only occurs in `bact_detail_rid`) to -1 and make these columns integers"
   ]
  },
  {
   "cell_type": "code",
   "execution_count": 187,
   "metadata": {},
   "outputs": [],
   "source": [
    "all_id_cols = [\"group_rid\", \"site_rid\", \"event_rid\", \"chem_detail_rid\", \"bact_detail_rid\"]"
   ]
  },
  {
   "cell_type": "code",
   "execution_count": 199,
   "metadata": {},
   "outputs": [],
   "source": [
    "for id_col in all_id_cols:\n",
    "    data.loc[data[id_col].isin(('NULL', '')), id_col] = '-1'\n",
    "    data = data.assign(**{id_col: data[id_col].astype('int32')})"
   ]
  },
  {
   "cell_type": "markdown",
   "metadata": {},
   "source": [
    "Check for duplicates, noting that some auto-generated IDs might still increment while all other user-entered data might be the same."
   ]
  },
  {
   "cell_type": "code",
   "execution_count": 59,
   "metadata": {},
   "outputs": [
    {
     "data": {
      "text/plain": [
       "False"
      ]
     },
     "execution_count": 59,
     "metadata": {},
     "output_type": "execute_result"
    }
   ],
   "source": [
    "# these are unexpectedly non-unique\n",
    "# - is the whole row a dupe?\n",
    "len(set(data[\"event_rid\"])) == len(data[\"event_rid\"].values)"
   ]
  },
  {
   "cell_type": "code",
   "execution_count": 60,
   "metadata": {},
   "outputs": [
    {
     "data": {
      "text/plain": [
       "62854    12\n",
       "92294     4\n",
       "66076     4\n",
       "78928     4\n",
       "60150     4\n",
       "75854     3\n",
       "70773     3\n",
       "88459     3\n",
       "87651     3\n",
       "59756     3\n",
       "89389     3\n",
       "70281     3\n",
       "70030     3\n",
       "69275     3\n",
       "64432     3\n",
       "82551     3\n",
       "83275     3\n",
       "83193     3\n",
       "66028     3\n",
       "89529     2\n",
       "57775     2\n",
       "62716     2\n",
       "71526     2\n",
       "64190     2\n",
       "83607     2\n",
       "59521     2\n",
       "66312     2\n",
       "83196     2\n",
       "59819     2\n",
       "62858     2\n",
       "Name: event_rid, dtype: int64"
      ]
     },
     "execution_count": 60,
     "metadata": {},
     "output_type": "execute_result"
    }
   ],
   "source": [
    "data[\"event_rid\"].value_counts()[:30]"
   ]
  },
  {
   "cell_type": "code",
   "execution_count": 148,
   "metadata": {},
   "outputs": [],
   "source": [
    "def show_diffs(row1, row2):\n",
    "    for i, (x1, x2) in enumerate(zip(row1, row2)):\n",
    "        if x1 != x2:\n",
    "            print(i, x1, \"|||\", x2)"
   ]
  },
  {
   "cell_type": "markdown",
   "metadata": {},
   "source": [
    "From manual review of remaining dupes, it appears that there are always only two non-duped records after ignoring chem and bact detail rid's. It looks like the second entry either has a slightly different value to the first in one column, or there's a slew of additions in the second that are blank in the first.\n",
    "\n",
    "This suggests the second entry is a correction to the first, so we default to always choosing the second."
   ]
  },
  {
   "cell_type": "code",
   "execution_count": 156,
   "metadata": {},
   "outputs": [],
   "source": [
    "bad_indices = []\n",
    "for event_rid, cnt in data[\"event_rid\"].value_counts().items():\n",
    "    if cnt == 1:\n",
    "        break\n",
    "    test = data[data[\"event_rid\"] == event_rid]\n",
    "    test = test.drop(columns=[\"chem_detail_rid\", \"bact_detail_rid\"])\n",
    "    new_test = test.drop_duplicates()\n",
    "    # do special cases first\n",
    "    if len(new_test) == 2:\n",
    "        # keep the second (see comments above)\n",
    "        bad_indices.append(new_test.index[0])\n",
    "    else:\n",
    "        # use this for manual review of dupe instances\n",
    "        if len(new_test) != 1:\n",
    "            print(event_rid, cnt)\n",
    "            print(len(new_test))\n",
    "            print(list(new_test.index))\n",
    "            show_diffs(new_test.iloc[0], new_test.iloc[1])\n",
    "            if len(new_test) > 2:\n",
    "                show_diffs(new_test.iloc[1], new_test.iloc[2])\n",
    "            print(\"==============\")\n",
    "    bad_indices.extend(list(test.index[1:]))"
   ]
  },
  {
   "cell_type": "code",
   "execution_count": 200,
   "metadata": {},
   "outputs": [],
   "source": [
    "deduped_data = data.drop(index=bad_indices)"
   ]
  },
  {
   "cell_type": "code",
   "execution_count": 190,
   "metadata": {},
   "outputs": [
    {
     "data": {
      "text/plain": [
       "63951"
      ]
     },
     "execution_count": 190,
     "metadata": {},
     "output_type": "execute_result"
    }
   ],
   "source": [
    "len(deduped_data)"
   ]
  },
  {
   "cell_type": "code",
   "execution_count": 191,
   "metadata": {},
   "outputs": [
    {
     "data": {
      "text/plain": [
       "2047     1\n",
       "80434    1\n",
       "35396    1\n",
       "45635    1\n",
       "47682    1\n",
       "Name: event_rid, dtype: int64"
      ]
     },
     "execution_count": 191,
     "metadata": {},
     "output_type": "execute_result"
    }
   ],
   "source": [
    "# verify no more dupes in event_rid\n",
    "deduped_data[\"event_rid\"].value_counts()[:5]"
   ]
  },
  {
   "cell_type": "code",
   "execution_count": 202,
   "metadata": {},
   "outputs": [
    {
     "data": {
      "text/html": [
       "<div>\n",
       "<style scoped>\n",
       "    .dataframe tbody tr th:only-of-type {\n",
       "        vertical-align: middle;\n",
       "    }\n",
       "\n",
       "    .dataframe tbody tr th {\n",
       "        vertical-align: top;\n",
       "    }\n",
       "\n",
       "    .dataframe thead th {\n",
       "        text-align: right;\n",
       "    }\n",
       "</style>\n",
       "<table border=\"1\" class=\"dataframe\">\n",
       "  <thead>\n",
       "    <tr style=\"text-align: right;\">\n",
       "      <th></th>\n",
       "      <th>group_rid</th>\n",
       "      <th>GroupName</th>\n",
       "      <th>site_rid</th>\n",
       "      <th>SiteName</th>\n",
       "      <th>SiteLocation</th>\n",
       "      <th>event_rid</th>\n",
       "      <th>event_date</th>\n",
       "      <th>volunteer_time</th>\n",
       "      <th>data_entry</th>\n",
       "      <th>participants</th>\n",
       "      <th>...</th>\n",
       "      <th>hold_end_datetime</th>\n",
       "      <th>min_temp</th>\n",
       "      <th>max_temp</th>\n",
       "      <th>three_M_plate</th>\n",
       "      <th>ecoli_idexx</th>\n",
       "      <th>fecal_coliform</th>\n",
       "      <th>ecoli_other</th>\n",
       "      <th>ecoli_other_unit</th>\n",
       "      <th>comments</th>\n",
       "      <th>warnings</th>\n",
       "    </tr>\n",
       "  </thead>\n",
       "  <tbody>\n",
       "    <tr>\n",
       "      <th>8415</th>\n",
       "      <td>189</td>\n",
       "      <td>Streams Alive!</td>\n",
       "      <td>160</td>\n",
       "      <td>Long Island Creek</td>\n",
       "      <td>33.8965  -84.4093</td>\n",
       "      <td>25289</td>\n",
       "      <td>1995-01-01 15:00:00</td>\n",
       "      <td>60</td>\n",
       "      <td>3089</td>\n",
       "      <td>1</td>\n",
       "      <td>...</td>\n",
       "      <td>NULL</td>\n",
       "      <td>NULL</td>\n",
       "      <td>NULL</td>\n",
       "      <td>NULL</td>\n",
       "      <td>NULL</td>\n",
       "      <td>NULL</td>\n",
       "      <td>NULL</td>\n",
       "      <td>NULL</td>\n",
       "      <td>NULL</td>\n",
       "      <td>NULL</td>\n",
       "    </tr>\n",
       "    <tr>\n",
       "      <th>8416</th>\n",
       "      <td>189</td>\n",
       "      <td>Streams Alive!</td>\n",
       "      <td>160</td>\n",
       "      <td>Long Island Creek</td>\n",
       "      <td>33.8965  -84.4093</td>\n",
       "      <td>25290</td>\n",
       "      <td>1995-02-05 15:00:00</td>\n",
       "      <td>60</td>\n",
       "      <td>3089</td>\n",
       "      <td>1</td>\n",
       "      <td>...</td>\n",
       "      <td>NULL</td>\n",
       "      <td>NULL</td>\n",
       "      <td>NULL</td>\n",
       "      <td>NULL</td>\n",
       "      <td>NULL</td>\n",
       "      <td>NULL</td>\n",
       "      <td>NULL</td>\n",
       "      <td>NULL</td>\n",
       "      <td>NULL</td>\n",
       "      <td>NULL</td>\n",
       "    </tr>\n",
       "    <tr>\n",
       "      <th>13351</th>\n",
       "      <td>623</td>\n",
       "      <td>Higgins Family</td>\n",
       "      <td>378</td>\n",
       "      <td>Willeo Creek</td>\n",
       "      <td>34.0415  -84.4208</td>\n",
       "      <td>30629</td>\n",
       "      <td>1995-02-12 13:20:00</td>\n",
       "      <td>20</td>\n",
       "      <td>7539</td>\n",
       "      <td>1</td>\n",
       "      <td>...</td>\n",
       "      <td>NULL</td>\n",
       "      <td>NULL</td>\n",
       "      <td>NULL</td>\n",
       "      <td>NULL</td>\n",
       "      <td>NULL</td>\n",
       "      <td>NULL</td>\n",
       "      <td>NULL</td>\n",
       "      <td>NULL</td>\n",
       "      <td>NULL</td>\n",
       "      <td>NULL</td>\n",
       "    </tr>\n",
       "    <tr>\n",
       "      <th>8417</th>\n",
       "      <td>189</td>\n",
       "      <td>Streams Alive!</td>\n",
       "      <td>160</td>\n",
       "      <td>Long Island Creek</td>\n",
       "      <td>33.8965  -84.4093</td>\n",
       "      <td>25291</td>\n",
       "      <td>1995-03-12 15:30:00</td>\n",
       "      <td>60</td>\n",
       "      <td>3089</td>\n",
       "      <td>1</td>\n",
       "      <td>...</td>\n",
       "      <td>NULL</td>\n",
       "      <td>NULL</td>\n",
       "      <td>NULL</td>\n",
       "      <td>NULL</td>\n",
       "      <td>NULL</td>\n",
       "      <td>NULL</td>\n",
       "      <td>NULL</td>\n",
       "      <td>NULL</td>\n",
       "      <td>NULL</td>\n",
       "      <td>NULL</td>\n",
       "    </tr>\n",
       "    <tr>\n",
       "      <th>8418</th>\n",
       "      <td>189</td>\n",
       "      <td>Streams Alive!</td>\n",
       "      <td>160</td>\n",
       "      <td>Long Island Creek</td>\n",
       "      <td>33.8965  -84.4093</td>\n",
       "      <td>25292</td>\n",
       "      <td>1995-04-02 19:00:00</td>\n",
       "      <td>60</td>\n",
       "      <td>3089</td>\n",
       "      <td>1</td>\n",
       "      <td>...</td>\n",
       "      <td>NULL</td>\n",
       "      <td>NULL</td>\n",
       "      <td>NULL</td>\n",
       "      <td>NULL</td>\n",
       "      <td>NULL</td>\n",
       "      <td>NULL</td>\n",
       "      <td>NULL</td>\n",
       "      <td>NULL</td>\n",
       "      <td>NULL</td>\n",
       "      <td>NULL</td>\n",
       "    </tr>\n",
       "    <tr>\n",
       "      <th>...</th>\n",
       "      <td>...</td>\n",
       "      <td>...</td>\n",
       "      <td>...</td>\n",
       "      <td>...</td>\n",
       "      <td>...</td>\n",
       "      <td>...</td>\n",
       "      <td>...</td>\n",
       "      <td>...</td>\n",
       "      <td>...</td>\n",
       "      <td>...</td>\n",
       "      <td>...</td>\n",
       "      <td>...</td>\n",
       "      <td>...</td>\n",
       "      <td>...</td>\n",
       "      <td>...</td>\n",
       "      <td>...</td>\n",
       "      <td>...</td>\n",
       "      <td>...</td>\n",
       "      <td>...</td>\n",
       "      <td>...</td>\n",
       "      <td>...</td>\n",
       "    </tr>\n",
       "    <tr>\n",
       "      <th>64135</th>\n",
       "      <td>2808</td>\n",
       "      <td>rock dove lagoon</td>\n",
       "      <td>6644</td>\n",
       "      <td>rock dove lagoon</td>\n",
       "      <td>32.0532  -81.2436</td>\n",
       "      <td>92289</td>\n",
       "      <td>2021-12-18 13:52:00</td>\n",
       "      <td>20</td>\n",
       "      <td>40742</td>\n",
       "      <td>1</td>\n",
       "      <td>...</td>\n",
       "      <td>NULL</td>\n",
       "      <td>NULL</td>\n",
       "      <td>NULL</td>\n",
       "      <td>NULL</td>\n",
       "      <td>NULL</td>\n",
       "      <td>NULL</td>\n",
       "      <td>NULL</td>\n",
       "      <td>NULL</td>\n",
       "      <td>NULL</td>\n",
       "      <td>NULL</td>\n",
       "    </tr>\n",
       "    <tr>\n",
       "      <th>64147</th>\n",
       "      <td>2803</td>\n",
       "      <td>Tolomato Island, Darien</td>\n",
       "      <td>6596</td>\n",
       "      <td>Crum Creek</td>\n",
       "      <td>31.4245  -81.3861</td>\n",
       "      <td>92298</td>\n",
       "      <td>2021-12-18 15:15:00</td>\n",
       "      <td>20</td>\n",
       "      <td>40490</td>\n",
       "      <td>1</td>\n",
       "      <td>...</td>\n",
       "      <td>NULL</td>\n",
       "      <td>NULL</td>\n",
       "      <td>NULL</td>\n",
       "      <td>NULL</td>\n",
       "      <td>NULL</td>\n",
       "      <td>NULL</td>\n",
       "      <td>NULL</td>\n",
       "      <td>NULL</td>\n",
       "      <td>NULL</td>\n",
       "      <td>NULL</td>\n",
       "    </tr>\n",
       "    <tr>\n",
       "      <th>64155</th>\n",
       "      <td>2227</td>\n",
       "      <td>GSW Sciences</td>\n",
       "      <td>7175</td>\n",
       "      <td>Muckalee Creek at McLittle Bridge Rd</td>\n",
       "      <td>32.0067  -84.2266</td>\n",
       "      <td>92306</td>\n",
       "      <td>2021-12-19 07:25:00</td>\n",
       "      <td>45</td>\n",
       "      <td>36976</td>\n",
       "      <td>1</td>\n",
       "      <td>...</td>\n",
       "      <td>50:00.0</td>\n",
       "      <td>34.7</td>\n",
       "      <td>35.2</td>\n",
       "      <td>0</td>\n",
       "      <td>NULL</td>\n",
       "      <td>NULL</td>\n",
       "      <td>NULL</td>\n",
       "      <td>NULL</td>\n",
       "      <td>Very high counts but creek was in flood stage ...</td>\n",
       "      <td></td>\n",
       "    </tr>\n",
       "    <tr>\n",
       "      <th>64146</th>\n",
       "      <td>1696</td>\n",
       "      <td>Hiwassee River Watershed Coalition</td>\n",
       "      <td>5000</td>\n",
       "      <td>Brasstown Creek at Misty Creek subdivision</td>\n",
       "      <td>34.984  -83.8886</td>\n",
       "      <td>92297</td>\n",
       "      <td>2021-12-19 10:20:00</td>\n",
       "      <td>160</td>\n",
       "      <td>41392</td>\n",
       "      <td>2</td>\n",
       "      <td>...</td>\n",
       "      <td>NULL</td>\n",
       "      <td>NULL</td>\n",
       "      <td>NULL</td>\n",
       "      <td>NULL</td>\n",
       "      <td>NULL</td>\n",
       "      <td>NULL</td>\n",
       "      <td>NULL</td>\n",
       "      <td>NULL</td>\n",
       "      <td>NULL</td>\n",
       "      <td>NULL</td>\n",
       "    </tr>\n",
       "    <tr>\n",
       "      <th>64145</th>\n",
       "      <td>332</td>\n",
       "      <td>Toonigh Neighbors</td>\n",
       "      <td>154</td>\n",
       "      <td>Toonigh Creek</td>\n",
       "      <td>34.1504  -84.5196</td>\n",
       "      <td>92296</td>\n",
       "      <td>2021-12-19 12:00:00</td>\n",
       "      <td>140</td>\n",
       "      <td>3232</td>\n",
       "      <td>2</td>\n",
       "      <td>...</td>\n",
       "      <td>NULL</td>\n",
       "      <td>NULL</td>\n",
       "      <td>NULL</td>\n",
       "      <td>NULL</td>\n",
       "      <td>NULL</td>\n",
       "      <td>NULL</td>\n",
       "      <td>NULL</td>\n",
       "      <td>NULL</td>\n",
       "      <td>NULL</td>\n",
       "      <td>NULL</td>\n",
       "    </tr>\n",
       "  </tbody>\n",
       "</table>\n",
       "<p>63951 rows × 85 columns</p>\n",
       "</div>"
      ],
      "text/plain": [
       "       group_rid                           GroupName  site_rid  \\\n",
       "8415         189                      Streams Alive!       160   \n",
       "8416         189                      Streams Alive!       160   \n",
       "13351        623                      Higgins Family       378   \n",
       "8417         189                      Streams Alive!       160   \n",
       "8418         189                      Streams Alive!       160   \n",
       "...          ...                                 ...       ...   \n",
       "64135       2808                    rock dove lagoon      6644   \n",
       "64147       2803             Tolomato Island, Darien      6596   \n",
       "64155       2227                        GSW Sciences      7175   \n",
       "64146       1696  Hiwassee River Watershed Coalition      5000   \n",
       "64145        332                   Toonigh Neighbors       154   \n",
       "\n",
       "                                         SiteName       SiteLocation  \\\n",
       "8415                            Long Island Creek  33.8965  -84.4093   \n",
       "8416                            Long Island Creek  33.8965  -84.4093   \n",
       "13351                                Willeo Creek  34.0415  -84.4208   \n",
       "8417                            Long Island Creek  33.8965  -84.4093   \n",
       "8418                            Long Island Creek  33.8965  -84.4093   \n",
       "...                                           ...                ...   \n",
       "64135                            rock dove lagoon  32.0532  -81.2436   \n",
       "64147                                  Crum Creek  31.4245  -81.3861   \n",
       "64155        Muckalee Creek at McLittle Bridge Rd  32.0067  -84.2266   \n",
       "64146  Brasstown Creek at Misty Creek subdivision   34.984  -83.8886   \n",
       "64145                               Toonigh Creek  34.1504  -84.5196   \n",
       "\n",
       "       event_rid          event_date volunteer_time data_entry participants  \\\n",
       "8415       25289 1995-01-01 15:00:00             60       3089            1   \n",
       "8416       25290 1995-02-05 15:00:00             60       3089            1   \n",
       "13351      30629 1995-02-12 13:20:00             20       7539            1   \n",
       "8417       25291 1995-03-12 15:30:00             60       3089            1   \n",
       "8418       25292 1995-04-02 19:00:00             60       3089            1   \n",
       "...          ...                 ...            ...        ...          ...   \n",
       "64135      92289 2021-12-18 13:52:00             20      40742            1   \n",
       "64147      92298 2021-12-18 15:15:00             20      40490            1   \n",
       "64155      92306 2021-12-19 07:25:00             45      36976            1   \n",
       "64146      92297 2021-12-19 10:20:00            160      41392            2   \n",
       "64145      92296 2021-12-19 12:00:00            140       3232            2   \n",
       "\n",
       "       ... hold_end_datetime min_temp max_temp three_M_plate ecoli_idexx  \\\n",
       "8415   ...              NULL     NULL     NULL          NULL        NULL   \n",
       "8416   ...              NULL     NULL     NULL          NULL        NULL   \n",
       "13351  ...              NULL     NULL     NULL          NULL        NULL   \n",
       "8417   ...              NULL     NULL     NULL          NULL        NULL   \n",
       "8418   ...              NULL     NULL     NULL          NULL        NULL   \n",
       "...    ...               ...      ...      ...           ...         ...   \n",
       "64135  ...              NULL     NULL     NULL          NULL        NULL   \n",
       "64147  ...              NULL     NULL     NULL          NULL        NULL   \n",
       "64155  ...           50:00.0     34.7     35.2             0        NULL   \n",
       "64146  ...              NULL     NULL     NULL          NULL        NULL   \n",
       "64145  ...              NULL     NULL     NULL          NULL        NULL   \n",
       "\n",
       "      fecal_coliform ecoli_other ecoli_other_unit  \\\n",
       "8415            NULL        NULL             NULL   \n",
       "8416            NULL        NULL             NULL   \n",
       "13351           NULL        NULL             NULL   \n",
       "8417            NULL        NULL             NULL   \n",
       "8418            NULL        NULL             NULL   \n",
       "...              ...         ...              ...   \n",
       "64135           NULL        NULL             NULL   \n",
       "64147           NULL        NULL             NULL   \n",
       "64155           NULL        NULL             NULL   \n",
       "64146           NULL        NULL             NULL   \n",
       "64145           NULL        NULL             NULL   \n",
       "\n",
       "                                                comments warnings  \n",
       "8415                                                NULL     NULL  \n",
       "8416                                                NULL     NULL  \n",
       "13351                                               NULL     NULL  \n",
       "8417                                                NULL     NULL  \n",
       "8418                                                NULL     NULL  \n",
       "...                                                  ...      ...  \n",
       "64135                                               NULL     NULL  \n",
       "64147                                               NULL     NULL  \n",
       "64155  Very high counts but creek was in flood stage ...           \n",
       "64146                                               NULL     NULL  \n",
       "64145                                               NULL     NULL  \n",
       "\n",
       "[63951 rows x 85 columns]"
      ]
     },
     "execution_count": 202,
     "metadata": {},
     "output_type": "execute_result"
    }
   ],
   "source": [
    "deduped_data.sort_values(by=\"event_date\")"
   ]
  },
  {
   "cell_type": "code",
   "execution_count": 21,
   "metadata": {},
   "outputs": [],
   "source": [
    "deduped_data.to_csv(\"export_dataframe_stage1.csv\", index=False)"
   ]
  },
  {
   "cell_type": "markdown",
   "metadata": {},
   "source": [
    "# "
   ]
  }
 ],
 "metadata": {
  "kernelspec": {
   "display_name": "Python 3",
   "language": "python",
   "name": "python3"
  },
  "language_info": {
   "codemirror_mode": {
    "name": "ipython",
    "version": 3
   },
   "file_extension": ".py",
   "mimetype": "text/x-python",
   "name": "python",
   "nbconvert_exporter": "python",
   "pygments_lexer": "ipython3",
   "version": "3.7.5"
  }
 },
 "nbformat": 4,
 "nbformat_minor": 4
}
