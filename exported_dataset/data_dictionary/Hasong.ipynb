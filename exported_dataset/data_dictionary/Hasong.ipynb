{
 "cells": [
  {
   "cell_type": "code",
   "execution_count": 2,
   "id": "6e109360",
   "metadata": {},
   "outputs": [],
   "source": [
    "import pandas as pd"
   ]
  },
  {
   "cell_type": "code",
   "execution_count": 3,
   "id": "fccdc663",
   "metadata": {},
   "outputs": [
    {
     "name": "stderr",
     "output_type": "stream",
     "text": [
      "/Users/hasongcho/opt/anaconda3/lib/python3.8/site-packages/IPython/core/interactiveshell.py:3165: DtypeWarning: Columns (14,20,21,23,24,31,32,33,35,36,56,63,64,65,72,73,74,77,78,79,86,87,88) have mixed types.Specify dtype option on import or set low_memory=False.\n",
      "  has_raised = await self.run_ast_nodes(code_ast.body, cell_name,\n"
     ]
    }
   ],
   "source": [
    "df = pd.read_csv(\"export_dataframe_stage2.csv\")"
   ]
  },
  {
   "cell_type": "code",
   "execution_count": 17,
   "id": "9c7d8ab6",
   "metadata": {},
   "outputs": [
    {
     "name": "stdout",
     "output_type": "stream",
     "text": [
      "<class 'pandas.core.frame.DataFrame'>\n",
      "RangeIndex: 59598 entries, 0 to 59597\n",
      "Data columns (total 90 columns):\n",
      " #   Column               Non-Null Count  Dtype  \n",
      "---  ------               --------------  -----  \n",
      " 0   group_rid            59598 non-null  int64  \n",
      " 1   GroupName            59598 non-null  object \n",
      " 2   site_rid             59598 non-null  int64  \n",
      " 3   state                59598 non-null  object \n",
      " 4   county               59598 non-null  object \n",
      " 5   lat                  59598 non-null  float64\n",
      " 6   long                 59598 non-null  float64\n",
      " 7   SiteName             59598 non-null  object \n",
      " 8   SiteLocation         59598 non-null  object \n",
      " 9   event_rid            59598 non-null  int64  \n",
      " 10  event_date           59598 non-null  object \n",
      " 11  volunteer_time       36542 non-null  float64\n",
      " 12  data_entry           59300 non-null  float64\n",
      " 13  participants         59598 non-null  int64  \n",
      " 14  rain_24_hours        17376 non-null  object \n",
      " 15  weather              36003 non-null  object \n",
      " 16  rain_hours           33293 non-null  float64\n",
      " 17  rain_inches          36669 non-null  float64\n",
      " 18  distance             5642 non-null   float64\n",
      " 19  air_temperature      23664 non-null  float64\n",
      " 20  stream               421 non-null    object \n",
      " 21  method               273 non-null    object \n",
      " 22  wqi                  514 non-null    float64\n",
      " 23  habitat              454 non-null    object \n",
      " 24  Comments             3163 non-null   object \n",
      " 25  createdby            58727 non-null  object \n",
      " 26  createddate          58727 non-null  object \n",
      " 27  chem_detail_rid      59598 non-null  int64  \n",
      " 28  air_temp             35345 non-null  float64\n",
      " 29  water_temp           35427 non-null  float64\n",
      " 30  calibrate            44327 non-null  float64\n",
      " 31  calibrate_comment    1200 non-null   object \n",
      " 32  chemical_comment     1712 non-null   object \n",
      " 33  ChemWarnings         494 non-null    object \n",
      " 34  do_saturation        32655 non-null  float64\n",
      " 35  reagent              284 non-null    object \n",
      " 36  reagent_other        164 non-null    object \n",
      " 37  ph1                  33292 non-null  float64\n",
      " 38  ph2                  33291 non-null  float64\n",
      " 39  DissolvedOxygen1     32947 non-null  float64\n",
      " 40  DissolvedOxygen2     32945 non-null  float64\n",
      " 41  Conductivity         44887 non-null  float64\n",
      " 42  Salinity1            2484 non-null   float64\n",
      " 43  Salinity2            2483 non-null   float64\n",
      " 44  SecchiDisk1          3412 non-null   float64\n",
      " 45  SecchiDisk2          3412 non-null   float64\n",
      " 46  ChlorophyllA         19 non-null     float64\n",
      " 47  Alkalinity           3574 non-null   float64\n",
      " 48  AmmoniaN             973 non-null    float64\n",
      " 49  NitrateN             6192 non-null   float64\n",
      " 50  Orthophosphate       5975 non-null   float64\n",
      " 51  SamplingDepth        328 non-null    float64\n",
      " 52  SettleableSolids     4696 non-null   object \n",
      " 53  Turbidity            21882 non-null  float64\n",
      " 54  Chloride             4 non-null      float64\n",
      " 55  Hardness             3 non-null      float64\n",
      " 56  Other1               224 non-null    object \n",
      " 57  Other2               21 non-null     float64\n",
      " 58  Other3               12 non-null     float64\n",
      " 59  Other4               0 non-null      float64\n",
      " 60  Other5               0 non-null      float64\n",
      " 61  Other6               0 non-null      float64\n",
      " 62  Other7               0 non-null      float64\n",
      " 63  Other1_Comm          225 non-null    object \n",
      " 64  Other2_Comm          21 non-null     object \n",
      " 65  Other3_Comm          12 non-null     object \n",
      " 66  Other4_Comm          0 non-null      float64\n",
      " 67  Other5_Comm          0 non-null      float64\n",
      " 68  Other6_Comm          0 non-null      float64\n",
      " 69  Other7_Comm          0 non-null      float64\n",
      " 70  bact_detail_rid      59598 non-null  int64  \n",
      " 71  plate_blank          7468 non-null   float64\n",
      " 72  plate_one            7471 non-null   object \n",
      " 73  plate_two            7466 non-null   object \n",
      " 74  plate_three          7455 non-null   object \n",
      " 75  plate_four           44 non-null     float64\n",
      " 76  plate_five           10 non-null     float64\n",
      " 77  colony_avg           11462 non-null  object \n",
      " 78  hold_start_datetime  7500 non-null   object \n",
      " 79  hold_end_datetime    7492 non-null   object \n",
      " 80  min_temp             7410 non-null   float64\n",
      " 81  max_temp             7418 non-null   float64\n",
      " 82  three_M_plate        33674 non-null  float64\n",
      " 83  ecoli_idexx          21936 non-null  float64\n",
      " 84  fecal_coliform       495 non-null    float64\n",
      " 85  ecoli_other          27 non-null     float64\n",
      " 86  ecoli_other_unit     7151 non-null   object \n",
      " 87  comments             541 non-null    object \n",
      " 88  warnings             321 non-null    object \n",
      " 89  wbd                  59560 non-null  object \n",
      "dtypes: float64(50), int64(6), object(34)\n",
      "memory usage: 40.9+ MB\n"
     ]
    }
   ],
   "source": [
    "df.info()"
   ]
  },
  {
   "cell_type": "markdown",
   "id": "5e74afa4",
   "metadata": {},
   "source": [
    "## Variables to look into: calibrate, calibrate_comment, chemical_comment, ChemWarnings"
   ]
  },
  {
   "cell_type": "code",
   "execution_count": 23,
   "id": "ceb320c7",
   "metadata": {},
   "outputs": [
    {
     "data": {
      "text/html": [
       "<div>\n",
       "<style scoped>\n",
       "    .dataframe tbody tr th:only-of-type {\n",
       "        vertical-align: middle;\n",
       "    }\n",
       "\n",
       "    .dataframe tbody tr th {\n",
       "        vertical-align: top;\n",
       "    }\n",
       "\n",
       "    .dataframe thead th {\n",
       "        text-align: right;\n",
       "    }\n",
       "</style>\n",
       "<table border=\"1\" class=\"dataframe\">\n",
       "  <thead>\n",
       "    <tr style=\"text-align: right;\">\n",
       "      <th></th>\n",
       "      <th>calibrate</th>\n",
       "      <th>calibrate_comment</th>\n",
       "      <th>chemical_comment</th>\n",
       "      <th>ChemWarnings</th>\n",
       "    </tr>\n",
       "  </thead>\n",
       "  <tbody>\n",
       "    <tr>\n",
       "      <th>0</th>\n",
       "      <td>0.0</td>\n",
       "      <td>NaN</td>\n",
       "      <td>NaN</td>\n",
       "      <td>NaN</td>\n",
       "    </tr>\n",
       "    <tr>\n",
       "      <th>1</th>\n",
       "      <td>0.0</td>\n",
       "      <td>NaN</td>\n",
       "      <td>NaN</td>\n",
       "      <td>NaN</td>\n",
       "    </tr>\n",
       "    <tr>\n",
       "      <th>2</th>\n",
       "      <td>0.0</td>\n",
       "      <td>NaN</td>\n",
       "      <td>NaN</td>\n",
       "      <td>NaN</td>\n",
       "    </tr>\n",
       "    <tr>\n",
       "      <th>3</th>\n",
       "      <td>0.0</td>\n",
       "      <td>NaN</td>\n",
       "      <td>NaN</td>\n",
       "      <td>NaN</td>\n",
       "    </tr>\n",
       "    <tr>\n",
       "      <th>4</th>\n",
       "      <td>0.0</td>\n",
       "      <td>NaN</td>\n",
       "      <td>NaN</td>\n",
       "      <td>NaN</td>\n",
       "    </tr>\n",
       "    <tr>\n",
       "      <th>...</th>\n",
       "      <td>...</td>\n",
       "      <td>...</td>\n",
       "      <td>...</td>\n",
       "      <td>...</td>\n",
       "    </tr>\n",
       "    <tr>\n",
       "      <th>59593</th>\n",
       "      <td>1.0</td>\n",
       "      <td>NaN</td>\n",
       "      <td>NaN</td>\n",
       "      <td>NaN</td>\n",
       "    </tr>\n",
       "    <tr>\n",
       "      <th>59594</th>\n",
       "      <td>1.0</td>\n",
       "      <td>NaN</td>\n",
       "      <td>NaN</td>\n",
       "      <td>NaN</td>\n",
       "    </tr>\n",
       "    <tr>\n",
       "      <th>59595</th>\n",
       "      <td>1.0</td>\n",
       "      <td>NaN</td>\n",
       "      <td>NaN</td>\n",
       "      <td>NaN</td>\n",
       "    </tr>\n",
       "    <tr>\n",
       "      <th>59596</th>\n",
       "      <td>1.0</td>\n",
       "      <td>NaN</td>\n",
       "      <td>NaN</td>\n",
       "      <td>NaN</td>\n",
       "    </tr>\n",
       "    <tr>\n",
       "      <th>59597</th>\n",
       "      <td>1.0</td>\n",
       "      <td>NaN</td>\n",
       "      <td>NaN</td>\n",
       "      <td>NaN</td>\n",
       "    </tr>\n",
       "  </tbody>\n",
       "</table>\n",
       "<p>59598 rows × 4 columns</p>\n",
       "</div>"
      ],
      "text/plain": [
       "       calibrate calibrate_comment chemical_comment ChemWarnings\n",
       "0            0.0               NaN              NaN          NaN\n",
       "1            0.0               NaN              NaN          NaN\n",
       "2            0.0               NaN              NaN          NaN\n",
       "3            0.0               NaN              NaN          NaN\n",
       "4            0.0               NaN              NaN          NaN\n",
       "...          ...               ...              ...          ...\n",
       "59593        1.0               NaN              NaN          NaN\n",
       "59594        1.0               NaN              NaN          NaN\n",
       "59595        1.0               NaN              NaN          NaN\n",
       "59596        1.0               NaN              NaN          NaN\n",
       "59597        1.0               NaN              NaN          NaN\n",
       "\n",
       "[59598 rows x 4 columns]"
      ]
     },
     "execution_count": 23,
     "metadata": {},
     "output_type": "execute_result"
    }
   ],
   "source": [
    "#see only interested variables\n",
    "df[['calibrate','calibrate_comment','chemical_comment','ChemWarnings']]\n",
    "#seems like calibrate_comment,chemical_comment,chemwarnings have null value"
   ]
  },
  {
   "cell_type": "markdown",
   "id": "64b54361",
   "metadata": {},
   "source": [
    "### Calibrate"
   ]
  },
  {
   "cell_type": "code",
   "execution_count": 51,
   "id": "cec48b7c",
   "metadata": {},
   "outputs": [
    {
     "name": "stdout",
     "output_type": "stream",
     "text": [
      "calibrate null value total:44327\n"
     ]
    }
   ],
   "source": [
    "calibrate=df['calibrate']\n",
    "\n",
    "count =0\n",
    "for i in calibrate:\n",
    "    if str(i) == \"nan\":\n",
    "        continue\n",
    "    count +=1\n",
    "\n",
    "print(\"calibrate null value total:\" + str(count))"
   ]
  },
  {
   "cell_type": "code",
   "execution_count": 56,
   "id": "86382eb8",
   "metadata": {},
   "outputs": [
    {
     "data": {
      "text/plain": [
       "count    44327.000000\n",
       "mean         0.265933\n",
       "std          0.441834\n",
       "min          0.000000\n",
       "25%          0.000000\n",
       "50%          0.000000\n",
       "75%          1.000000\n",
       "max          1.000000\n",
       "Name: calibrate, dtype: float64"
      ]
     },
     "execution_count": 56,
     "metadata": {},
     "output_type": "execute_result"
    }
   ],
   "source": [
    "calibrate.describe()"
   ]
  },
  {
   "cell_type": "markdown",
   "id": "8d3907f9",
   "metadata": {},
   "source": [
    "### Calibrate_comment"
   ]
  },
  {
   "cell_type": "code",
   "execution_count": 25,
   "id": "233f2161",
   "metadata": {},
   "outputs": [
    {
     "name": "stdout",
     "output_type": "stream",
     "text": [
      "calibrate_comment null value total:1200\n"
     ]
    }
   ],
   "source": [
    "calibrate_comment=df['calibrate_comment']\n",
    "count =0\n",
    "for i in calibrate_comment:\n",
    "    if str(i) == \"nan\":\n",
    "        continue\n",
    "    count +=1\n",
    "\n",
    "print(\"calibrate_comment null value total:\" + str(count))"
   ]
  },
  {
   "cell_type": "code",
   "execution_count": 57,
   "id": "4867c820",
   "metadata": {},
   "outputs": [
    {
     "data": {
      "text/plain": [
       "count               1200\n",
       "unique               596\n",
       "top       Per Mike Kahle\n",
       "freq                  67\n",
       "Name: calibrate_comment, dtype: object"
      ]
     },
     "execution_count": 57,
     "metadata": {},
     "output_type": "execute_result"
    }
   ],
   "source": [
    "calibrate_comment.describe()"
   ]
  },
  {
   "cell_type": "markdown",
   "id": "72a633fd",
   "metadata": {},
   "source": [
    "### chemical_comment"
   ]
  },
  {
   "cell_type": "code",
   "execution_count": 35,
   "id": "8bcb734b",
   "metadata": {},
   "outputs": [
    {
     "name": "stdout",
     "output_type": "stream",
     "text": [
      "chemical_comment null value total:1712 out of 59598 total values\n"
     ]
    }
   ],
   "source": [
    "chemical_comment=df['chemical_comment']\n",
    "count =0\n",
    "for i in chemical_comment:\n",
    "    if str(i) == \"nan\":\n",
    "        continue\n",
    "    count +=1\n",
    "\n",
    "print(\"chemical_comment null value total:\" + str(count))"
   ]
  },
  {
   "cell_type": "code",
   "execution_count": 63,
   "id": "1bbfcc02",
   "metadata": {},
   "outputs": [
    {
     "data": {
      "text/plain": [
       "count                1712\n",
       "unique               1302\n",
       "top       pH Calibration:\n",
       "freq                   68\n",
       "Name: chemical_comment, dtype: object"
      ]
     },
     "execution_count": 63,
     "metadata": {},
     "output_type": "execute_result"
    }
   ],
   "source": [
    "chemical_comment.describe()"
   ]
  },
  {
   "cell_type": "markdown",
   "id": "9cc009ca",
   "metadata": {},
   "source": [
    "### ChemWarnings"
   ]
  },
  {
   "cell_type": "code",
   "execution_count": 34,
   "id": "efa347e2",
   "metadata": {},
   "outputs": [
    {
     "name": "stdout",
     "output_type": "stream",
     "text": [
      "ChemWarnings null value total:494 out of 59598 total values\n"
     ]
    }
   ],
   "source": [
    "ChemWarnings=df['ChemWarnings']\n",
    "count =0\n",
    "for i in ChemWarnings:\n",
    "    if str(i) == \"nan\":\n",
    "        continue\n",
    "    count +=1\n",
    "\n",
    "print(\"ChemWarnings null value total:\" + str(count))"
   ]
  },
  {
   "cell_type": "code",
   "execution_count": 64,
   "id": "f0a89cb7",
   "metadata": {},
   "outputs": [
    {
     "data": {
      "text/plain": [
       "count                    494\n",
       "unique                     2\n",
       "top       Chemical Warnings:\n",
       "freq                     493\n",
       "Name: ChemWarnings, dtype: object"
      ]
     },
     "execution_count": 64,
     "metadata": {},
     "output_type": "execute_result"
    }
   ],
   "source": [
    "ChemWarnings.describe()"
   ]
  }
 ],
 "metadata": {
  "kernelspec": {
   "display_name": "Python 3",
   "language": "python",
   "name": "python3"
  },
  "language_info": {
   "codemirror_mode": {
    "name": "ipython",
    "version": 3
   },
   "file_extension": ".py",
   "mimetype": "text/x-python",
   "name": "python",
   "nbconvert_exporter": "python",
   "pygments_lexer": "ipython3",
   "version": "3.7.5"
  }
 },
 "nbformat": 4,
 "nbformat_minor": 5
}
