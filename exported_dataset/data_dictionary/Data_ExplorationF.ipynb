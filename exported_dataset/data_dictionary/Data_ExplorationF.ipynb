{
  "cells": [
    {
      "cell_type": "markdown",
      "id": "003a79b0",
      "metadata": {
        "id": "003a79b0"
      },
      "source": [
        "In this notebook I will explore the following variables in the dataset: bact_detail_rid, plate_blank, plate_one, plate_two, plate_three, plate_four,plate_five, Other1, Other2, Other3, Other4, Other5, Other6, colony_avg, hold_start_datetime, hold_end_datetime, three_M_plate, ecoli_idexx, fecal_coliform, ecoli_other, ecoli_other_unit, Other1_Comm, Other2_Comm, Other3_Comm, Other4_Comm, Other5_Comm, Other6_Comm, and Other7_Comm."
      ]
    },
    {
      "cell_type": "code",
      "execution_count": null,
      "id": "b48ba793",
      "metadata": {
        "colab": {
          "resources": {
            "http://localhost:8080/nbextensions/google.colab/files.js": {
              "data": "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",
              "ok": true,
              "headers": [
                [
                  "content-type",
                  "application/javascript"
                ]
              ],
              "status": 200,
              "status_text": ""
            }
          },
          "base_uri": "https://localhost:8080/",
          "height": 73
        },
        "id": "b48ba793",
        "outputId": "6812c01b-d5e4-4bda-ff18-e533c84cd196"
      },
      "outputs": [
        {
          "output_type": "display_data",
          "data": {
            "text/plain": [
              "<IPython.core.display.HTML object>"
            ],
            "text/html": [
              "\n",
              "     <input type=\"file\" id=\"files-15786105-90f6-4451-aa94-19d46070bffc\" name=\"files[]\" multiple disabled\n",
              "        style=\"border:none\" />\n",
              "     <output id=\"result-15786105-90f6-4451-aa94-19d46070bffc\">\n",
              "      Upload widget is only available when the cell has been executed in the\n",
              "      current browser session. Please rerun this cell to enable.\n",
              "      </output>\n",
              "      <script src=\"/nbextensions/google.colab/files.js\"></script> "
            ]
          },
          "metadata": {}
        },
        {
          "output_type": "stream",
          "name": "stdout",
          "text": [
            "Saving export_dataframe_stage2.csv to export_dataframe_stage2 (1).csv\n"
          ]
        }
      ],
      "source": [
        "import pandas as pd\n",
        "import numpy as np\n",
        "import csv\n",
        "from datetime import datetime\n",
        "from google.colab import files\n",
        "import io \n",
        "data = files.upload() \n"
      ]
    },
    {
      "cell_type": "code",
      "execution_count": null,
      "id": "245218c9",
      "metadata": {
        "id": "245218c9"
      },
      "outputs": [],
      "source": [
        "df = pd.read_csv(\"export_dataframe_stage2.csv\",low_memory=False)"
      ]
    },
    {
      "cell_type": "markdown",
      "source": [
        "1. bact_detail_rid represents the total bacteria level in the water per mL, ranging from 0 to 43,489"
      ],
      "metadata": {
        "id": "dO7UqwyNsrbp"
      },
      "id": "dO7UqwyNsrbp"
    },
    {
      "cell_type": "code",
      "source": [
        "bact_detail_rid = df[\"bact_detail_rid\"]\n",
        "data = []\n",
        "for x in bact_detail_rid:\n",
        "    if str(x) == \"nan\":\n",
        "        continue\n",
        "    else:\n",
        "        data.append(x)\n",
        "\n",
        "print(max(data))\n",
        "print(min(data))\n",
        "print(len(data))\n"
      ],
      "metadata": {
        "colab": {
          "base_uri": "https://localhost:8080/"
        },
        "id": "SPap6nYHg-SV",
        "outputId": "82221b8e-7762-496f-a619-c98c3867b22b"
      },
      "id": "SPap6nYHg-SV",
      "execution_count": null,
      "outputs": [
        {
          "output_type": "stream",
          "name": "stdout",
          "text": [
            "43489\n",
            "-1\n",
            "59598\n"
          ]
        }
      ]
    },
    {
      "cell_type": "markdown",
      "source": [
        "2. plate_blank represents whether the information regarding the number of each type of plate used will be left blank in the spreadsheet, 0 or 1 means those columns will not be left blank, while a blank value means they will be left blank"
      ],
      "metadata": {
        "id": "izG5jrRSoUy4"
      },
      "id": "izG5jrRSoUy4"
    },
    {
      "cell_type": "code",
      "source": [
        "plate_blank = df[\"plate_blank\"]\n",
        "data = []\n",
        "for x in plate_blank:\n",
        "    if str(x) == \"nan\":\n",
        "        continue\n",
        "    else:\n",
        "        data.append(x)\n",
        "\n",
        "print(max(data))\n",
        "print(min(data))\n",
        "print(len(data))\n"
      ],
      "metadata": {
        "colab": {
          "base_uri": "https://localhost:8080/"
        },
        "id": "wZ4DghZIsuG_",
        "outputId": "fe3e1273-88fa-4520-eea3-83512d864460"
      },
      "id": "wZ4DghZIsuG_",
      "execution_count": null,
      "outputs": [
        {
          "output_type": "stream",
          "name": "stdout",
          "text": [
            "1.0\n",
            "0.0\n",
            "7468\n"
          ]
        }
      ]
    },
    {
      "cell_type": "markdown",
      "source": [
        "3. plate_one represents the number of plates used that are of type one, ranging from 0 to 421 (TNTC=Too Numerous to Count)"
      ],
      "metadata": {
        "id": "q9dyr6FT5dZO"
      },
      "id": "q9dyr6FT5dZO"
    },
    {
      "cell_type": "code",
      "source": [
        "plate_one = df[\"plate_one\"]\n",
        "data = []\n",
        "for x in plate_one:\n",
        "    if str(x) == \"nan\":\n",
        "        continue\n",
        "    else:\n",
        "        data.append(x)\n",
        "\n",
        "print(max(data))\n",
        "print(min(data))\n",
        "print(len(data))"
      ],
      "metadata": {
        "colab": {
          "base_uri": "https://localhost:8080/"
        },
        "id": "QAhWda376pDJ",
        "outputId": "446e3615-9f08-41af-bb34-5722d0f2338b"
      },
      "id": "QAhWda376pDJ",
      "execution_count": null,
      "outputs": [
        {
          "output_type": "stream",
          "name": "stdout",
          "text": [
            "TNTC\n",
            "0\n",
            "7471\n"
          ]
        }
      ]
    },
    {
      "cell_type": "markdown",
      "source": [
        "4. plate_two represents the number of plates that are of type two, ranging from 0 to 400 (TNTC=Too Numerous to Count)"
      ],
      "metadata": {
        "id": "FPs0j5YD64nl"
      },
      "id": "FPs0j5YD64nl"
    },
    {
      "cell_type": "code",
      "source": [
        "plate_two = df[\"plate_two\"]\n",
        "data = []\n",
        "for x in plate_two:\n",
        "    if str(x) == \"nan\":\n",
        "        continue\n",
        "    else:\n",
        "        data.append(x)\n",
        "\n",
        "print(max(data))\n",
        "print(min(data))\n",
        "print(len(data))"
      ],
      "metadata": {
        "colab": {
          "base_uri": "https://localhost:8080/"
        },
        "id": "-9tSy90o7C9U",
        "outputId": "2995d085-cc43-4a8c-9772-2ae752075c53"
      },
      "id": "-9tSy90o7C9U",
      "execution_count": null,
      "outputs": [
        {
          "output_type": "stream",
          "name": "stdout",
          "text": [
            "TNTC\n",
            "0\n",
            "7466\n"
          ]
        }
      ]
    },
    {
      "cell_type": "markdown",
      "source": [
        "5. plate_three represents the number of plates that are of type three, ranging from 0 to 438 (TNTC=Too Numerous to Count)"
      ],
      "metadata": {
        "id": "0AqytviC8HzS"
      },
      "id": "0AqytviC8HzS"
    },
    {
      "cell_type": "code",
      "source": [
        "plate_three = df[\"plate_three\"]\n",
        "data = []\n",
        "for x in plate_three:\n",
        "    if str(x) == \"nan\":\n",
        "        continue\n",
        "    else:\n",
        "        data.append(x)\n",
        "\n",
        "print(max(data))\n",
        "print(min(data))\n",
        "print(len(data))"
      ],
      "metadata": {
        "colab": {
          "base_uri": "https://localhost:8080/"
        },
        "id": "cu7uOCEn8QtL",
        "outputId": "e45af34b-6e15-4d98-f9ae-f966f649428e"
      },
      "id": "cu7uOCEn8QtL",
      "execution_count": null,
      "outputs": [
        {
          "output_type": "stream",
          "name": "stdout",
          "text": [
            "TNTC\n",
            "0\n",
            "7455\n"
          ]
        }
      ]
    },
    {
      "cell_type": "markdown",
      "source": [
        "6. plate_four represents the number of plates that are of type four, ranging from 0 to 76 "
      ],
      "metadata": {
        "id": "tuGZbXNQ8dh-"
      },
      "id": "tuGZbXNQ8dh-"
    },
    {
      "cell_type": "code",
      "source": [
        "plate_four = df[\"plate_four\"]\n",
        "data = []\n",
        "for x in plate_four:\n",
        "    if str(x) == \"nan\":\n",
        "        continue\n",
        "    else:\n",
        "        data.append(x)\n",
        "\n",
        "print(max(data))\n",
        "print(min(data))\n",
        "print(len(data))"
      ],
      "metadata": {
        "colab": {
          "base_uri": "https://localhost:8080/"
        },
        "id": "GEaeeKlTzgCN",
        "outputId": "54c03981-7692-45cc-9b41-29218079b957"
      },
      "id": "GEaeeKlTzgCN",
      "execution_count": null,
      "outputs": [
        {
          "output_type": "stream",
          "name": "stdout",
          "text": [
            "76.0\n",
            "0.0\n",
            "44\n"
          ]
        }
      ]
    },
    {
      "cell_type": "markdown",
      "source": [
        "7. plate_five represents the number of plates that are of type five, ranging from 0 to 80"
      ],
      "metadata": {
        "id": "mzTyGkJ90ES5"
      },
      "id": "mzTyGkJ90ES5"
    },
    {
      "cell_type": "code",
      "source": [
        "plate_five = df[\"plate_five\"]\n",
        "data = []\n",
        "for x in plate_five:\n",
        "    if str(x) == \"nan\":\n",
        "        continue\n",
        "    else:\n",
        "        data.append(x)\n",
        "\n",
        "print(max(data))\n",
        "print(min(data))\n",
        "print(len(data))"
      ],
      "metadata": {
        "colab": {
          "base_uri": "https://localhost:8080/"
        },
        "id": "VaZUxh5EAFHF",
        "outputId": "e1148994-fc7f-48a2-b2cc-7168172fa01a"
      },
      "id": "VaZUxh5EAFHF",
      "execution_count": null,
      "outputs": [
        {
          "output_type": "stream",
          "name": "stdout",
          "text": [
            "80.0\n",
            "0.0\n",
            "10\n"
          ]
        }
      ]
    },
    {
      "cell_type": "markdown",
      "source": [
        "8. colony_avg represents average number of colonies of bacteria per mL of water (TNTC=Too Numerous to Count)"
      ],
      "metadata": {
        "id": "AJddKZoJAZwP"
      },
      "id": "AJddKZoJAZwP"
    },
    {
      "cell_type": "code",
      "source": [
        "colony_avg = df[\"colony_avg\"]\n",
        "data = []\n",
        "for x in colony_avg:\n",
        "    if str(x) == \"nan\":\n",
        "        continue\n",
        "    else:\n",
        "        data.append(x)\n",
        "\n",
        "print(max(data))\n",
        "print(min(data))\n",
        "print(len(data))"
      ],
      "metadata": {
        "colab": {
          "base_uri": "https://localhost:8080/"
        },
        "id": "mwAp-2nTAmLR",
        "outputId": "8e3d300d-5f26-4ca9-ca41-1511cc3f4f94"
      },
      "id": "mwAp-2nTAmLR",
      "execution_count": null,
      "outputs": [
        {
          "output_type": "stream",
          "name": "stdout",
          "text": [
            "TNTC\n",
            "0\n",
            "11462\n"
          ]
        }
      ]
    },
    {
      "cell_type": "markdown",
      "source": [
        "9. Other1 represents the value of variable which is defined with the units in the corresponding Other1_Comm column, ranging from 0 to 144"
      ],
      "metadata": {
        "id": "8FfYqQ_YBODN"
      },
      "id": "8FfYqQ_YBODN"
    },
    {
      "cell_type": "code",
      "source": [
        "Other1 = df[\"Other1\"]\n",
        "data = []\n",
        "for x in Other1:\n",
        "    if str(x) == \"nan\":\n",
        "        continue\n",
        "    else:\n",
        "        data.append(x)\n",
        "\n",
        "print(max(data))\n",
        "print(min(data))\n",
        "print(len(data))"
      ],
      "metadata": {
        "colab": {
          "base_uri": "https://localhost:8080/"
        },
        "id": "Zc3bl115CDLU",
        "outputId": "6794a202-e768-4db6-9169-8b9e23d7d166"
      },
      "id": "Zc3bl115CDLU",
      "execution_count": null,
      "outputs": [
        {
          "output_type": "stream",
          "name": "stdout",
          "text": [
            "negative\n",
            "0\n",
            "224\n"
          ]
        }
      ]
    },
    {
      "cell_type": "markdown",
      "source": [
        "10. Other2 represents the value of the variable which is defined with the units in the corresponding Other2_Comm column, ranging from 0 to 230"
      ],
      "metadata": {
        "id": "0it2shsrCLmE"
      },
      "id": "0it2shsrCLmE"
    },
    {
      "cell_type": "code",
      "source": [
        "Other2 = df[\"Other2\"]\n",
        "data = []\n",
        "for x in Other2:\n",
        "    if str(x) == \"nan\":\n",
        "        continue\n",
        "    else:\n",
        "        data.append(x)\n",
        "\n",
        "print(max(data))\n",
        "print(min(data))\n",
        "print(len(data))"
      ],
      "metadata": {
        "colab": {
          "base_uri": "https://localhost:8080/"
        },
        "id": "nTfo765hCVfK",
        "outputId": "f4a14375-d2b8-4f0a-f16b-6516e32b08e4"
      },
      "id": "nTfo765hCVfK",
      "execution_count": null,
      "outputs": [
        {
          "output_type": "stream",
          "name": "stdout",
          "text": [
            "230.0\n",
            "0.0\n",
            "21\n"
          ]
        }
      ]
    },
    {
      "cell_type": "markdown",
      "source": [
        "11. Other3 represents the value of the variable which is defined with the units in the corresponding Other3_Comm column, ranging from 0 to 260"
      ],
      "metadata": {
        "id": "9cljB-y2Cjhq"
      },
      "id": "9cljB-y2Cjhq"
    },
    {
      "cell_type": "code",
      "source": [
        "Other3 = df[\"Other3\"]\n",
        "data = []\n",
        "for x in Other3:\n",
        "    if str(x) == \"nan\":\n",
        "        continue\n",
        "    else:\n",
        "        data.append(x)\n",
        "\n",
        "print(max(data))\n",
        "print(min(data))\n",
        "print(len(data))"
      ],
      "metadata": {
        "colab": {
          "base_uri": "https://localhost:8080/"
        },
        "id": "jYWfPeMtCuON",
        "outputId": "b7e54107-c560-4d31-f96b-f688298713cd"
      },
      "id": "jYWfPeMtCuON",
      "execution_count": null,
      "outputs": [
        {
          "output_type": "stream",
          "name": "stdout",
          "text": [
            "260.0\n",
            "0.0\n",
            "12\n"
          ]
        }
      ]
    },
    {
      "cell_type": "markdown",
      "source": [
        "12. Other4 Empty Column"
      ],
      "metadata": {
        "id": "h0YniuFVCzQl"
      },
      "id": "h0YniuFVCzQl"
    },
    {
      "cell_type": "code",
      "source": [
        "Other4 = df[\"Other4\"]\n",
        "count =0\n",
        "for x in Other4:\n",
        "    if str(x) == \"nan\":\n",
        "        continue\n",
        "    count +=1\n",
        "\n",
        "print(\"total:\" + str(count))\n"
      ],
      "metadata": {
        "colab": {
          "base_uri": "https://localhost:8080/"
        },
        "id": "cpl_0L15DJH1",
        "outputId": "254bb37f-bcb5-4701-ac57-67d5816e3075"
      },
      "id": "cpl_0L15DJH1",
      "execution_count": null,
      "outputs": [
        {
          "output_type": "stream",
          "name": "stdout",
          "text": [
            "total:0\n"
          ]
        }
      ]
    },
    {
      "cell_type": "markdown",
      "source": [
        "13. Other5 Empty Column "
      ],
      "metadata": {
        "id": "fH0ihYfaDVou"
      },
      "id": "fH0ihYfaDVou"
    },
    {
      "cell_type": "code",
      "source": [
        "Other5 = df[\"Other5\"]\n",
        "count =0\n",
        "for x in Other5:\n",
        "    if str(x) == \"nan\":\n",
        "        continue\n",
        "    count +=1\n",
        "\n",
        "print(\"total:\" + str(count))"
      ],
      "metadata": {
        "colab": {
          "base_uri": "https://localhost:8080/"
        },
        "id": "Xdq1ufxjDa6P",
        "outputId": "1bcfab19-3216-4f5f-9610-29b082c57978"
      },
      "id": "Xdq1ufxjDa6P",
      "execution_count": null,
      "outputs": [
        {
          "output_type": "stream",
          "name": "stdout",
          "text": [
            "total:0\n"
          ]
        }
      ]
    },
    {
      "cell_type": "markdown",
      "source": [
        "14. Other6 Empty Column"
      ],
      "metadata": {
        "id": "o-Hif1jMDgtX"
      },
      "id": "o-Hif1jMDgtX"
    },
    {
      "cell_type": "code",
      "source": [
        "Other6 = df[\"Other6\"]\n",
        "count =0\n",
        "for x in Other6:\n",
        "    if str(x) == \"nan\":\n",
        "        continue\n",
        "    count +=1\n",
        "\n",
        "print(\"total:\" + str(count))"
      ],
      "metadata": {
        "colab": {
          "base_uri": "https://localhost:8080/"
        },
        "id": "i3qqIlj2Dj95",
        "outputId": "d1960dde-c27b-4da6-ed5d-574c72faa360"
      },
      "id": "i3qqIlj2Dj95",
      "execution_count": null,
      "outputs": [
        {
          "output_type": "stream",
          "name": "stdout",
          "text": [
            "total:0\n"
          ]
        }
      ]
    },
    {
      "cell_type": "markdown",
      "id": "4c310703",
      "metadata": {
        "id": "4c310703"
      },
      "source": [
        "15. hold_start_datetime \n",
        "the starting time in the format min: second that ranges from 00:00.0 to 59:00.0, representing the start time of the collection"
      ]
    },
    {
      "cell_type": "code",
      "execution_count": null,
      "id": "99a60035",
      "metadata": {
        "colab": {
          "base_uri": "https://localhost:8080/"
        },
        "id": "99a60035",
        "outputId": "33e1f035-30c2-4f06-fd5d-accca36d3fad"
      },
      "outputs": [
        {
          "output_type": "stream",
          "name": "stdout",
          "text": [
            "00:59:00\n",
            "00:00:00\n",
            "7468\n"
          ]
        }
      ],
      "source": [
        "hold_start_datetime = df[\"hold_start_datetime\"]\n",
        "times = []\n",
        "for x in hold_start_datetime:\n",
        "    if str(x) == \"nan\":\n",
        "        continue\n",
        "    else:\n",
        "        times.append(datetime.strptime(str(x), '%M:%S.%f').time())\n",
        "print(max(times))\n",
        "print(min(times))\n",
        "print(len(data))"
      ]
    },
    {
      "cell_type": "markdown",
      "id": "05d4da93",
      "metadata": {
        "id": "05d4da93"
      },
      "source": [
        "16. hold_end_datetime\n",
        "the ending time in the format min: second that ranges from 00:00.0 to 59:00.0. representing the end time of the collectioin, total count of valid values matches hold_start_datetime"
      ]
    },
    {
      "cell_type": "code",
      "execution_count": null,
      "id": "c651d24f",
      "metadata": {
        "colab": {
          "base_uri": "https://localhost:8080/"
        },
        "id": "c651d24f",
        "outputId": "2f1975de-d337-45d7-b53a-e1fe6d3ff59a"
      },
      "outputs": [
        {
          "output_type": "stream",
          "name": "stdout",
          "text": [
            "00:59:00\n",
            "00:00:00\n",
            "1\n"
          ]
        }
      ],
      "source": [
        "hold_end_datetime = df[\"hold_end_datetime\"]\n",
        "times = []\n",
        "for x in hold_end_datetime:\n",
        "    if str(x) == \"nan\":\n",
        "        continue\n",
        "    else:\n",
        "        times.append(datetime.strptime(str(x), '%M:%S.%f').time())\n",
        "print(max(times))\n",
        "print(min(times))\n",
        "print(len(data))"
      ]
    },
    {
      "cell_type": "markdown",
      "id": "69f62331",
      "metadata": {
        "id": "69f62331"
      },
      "source": [
        "17. three_M_plate\n",
        "A boolean value that represents whether the sample used a 3M petrifilm plate, 0 represents no and 1 represents yes."
      ]
    },
    {
      "cell_type": "code",
      "execution_count": null,
      "id": "2e76c82c",
      "metadata": {
        "id": "2e76c82c",
        "outputId": "8e6b39d4-b395-40c8-d3fd-a8ad916cd2ad"
      },
      "outputs": [
        {
          "name": "stdout",
          "output_type": "stream",
          "text": [
            "1.0\n",
            "0.0\n",
            "33674\n"
          ]
        }
      ],
      "source": [
        "three_M_plate = df[\"three_M_plate\"]\n",
        "data = []\n",
        "for x in three_M_plate:\n",
        "    if str(x) == \"nan\":\n",
        "        continue\n",
        "    else:\n",
        "        data.append(x)\n",
        "\n",
        "print(max(data))\n",
        "print(min(data))\n",
        "print(len(data))"
      ]
    },
    {
      "cell_type": "markdown",
      "id": "8a89ce7f",
      "metadata": {
        "id": "8a89ce7f"
      },
      "source": [
        "18. ecoli_idexx\n",
        "An index that represents the E.coli bacteria level in the water, ranging from 0.0 to 483,920.0"
      ]
    },
    {
      "cell_type": "code",
      "execution_count": null,
      "id": "3b840820",
      "metadata": {
        "colab": {
          "base_uri": "https://localhost:8080/"
        },
        "id": "3b840820",
        "outputId": "bdfcabde-99cc-4bd0-85ec-e0aac5afbe07"
      },
      "outputs": [
        {
          "output_type": "stream",
          "name": "stdout",
          "text": [
            "483920.0\n",
            "0.0\n",
            "21936\n"
          ]
        }
      ],
      "source": [
        "ecoli_idexx = df[\"ecoli_idexx\"]\n",
        "data = []\n",
        "for x in ecoli_idexx:\n",
        "    if str(x) == \"nan\":\n",
        "        continue\n",
        "    else:\n",
        "        data.append(x)\n",
        "\n",
        "print(max(data))\n",
        "print(min(data))\n",
        "print(len(data))"
      ]
    },
    {
      "cell_type": "markdown",
      "id": "6ac81929",
      "metadata": {
        "id": "6ac81929"
      },
      "source": [
        "19. fecal_coliform\n",
        "An index that represents the fecal coliform bacteria level in the water, ranging from -100.0 to 120,980.0 with 495 entries"
      ]
    },
    {
      "cell_type": "code",
      "execution_count": null,
      "id": "8aad5c0d",
      "metadata": {
        "id": "8aad5c0d",
        "outputId": "48a595c5-0ec3-49f0-ac5a-abfe2c30e27a"
      },
      "outputs": [
        {
          "name": "stdout",
          "output_type": "stream",
          "text": [
            "120980.0\n",
            "-100.0\n",
            "495\n"
          ]
        }
      ],
      "source": [
        "fecal_coliform = df[\"fecal_coliform\"]\n",
        "data = []\n",
        "for x in fecal_coliform:\n",
        "    if str(x) == \"nan\":\n",
        "        continue\n",
        "    else:\n",
        "        data.append(x)\n",
        "\n",
        "print(max(data))\n",
        "print(min(data))\n",
        "print(len(data))"
      ]
    },
    {
      "cell_type": "markdown",
      "id": "47437bdc",
      "metadata": {
        "id": "47437bdc"
      },
      "source": [
        "20. ecoli_other\n",
        "An index that represents the unrecorded E.coli bacteria level in the water, ranging from 0.0 to 64,985.0, have only 27\n",
        "entries\n"
      ]
    },
    {
      "cell_type": "code",
      "execution_count": null,
      "id": "89f31688",
      "metadata": {
        "id": "89f31688",
        "outputId": "24fe4ec3-79ac-41bb-8461-0a4992cb9dc8"
      },
      "outputs": [
        {
          "name": "stdout",
          "output_type": "stream",
          "text": [
            "64985.0\n",
            "0.0\n",
            "27\n"
          ]
        }
      ],
      "source": [
        "ecoli_other = df[\"ecoli_other\"]\n",
        "data = []\n",
        "for x in ecoli_other:\n",
        "    if str(x) == \"nan\":\n",
        "        continue\n",
        "    else:\n",
        "        data.append(x)\n",
        "\n",
        "print(max(data))\n",
        "print(min(data))\n",
        "print(len(data))"
      ]
    },
    {
      "cell_type": "markdown",
      "id": "d74fefe7",
      "metadata": {
        "id": "d74fefe7"
      },
      "source": [
        "21. ecoli_other_unit\n",
        "the unit of the previous ecoli index, all in cfu/100ml(=(# of colonies counted ÷ sample volume filtered in mL) x 100). (CFU = colony forming units).\n",
        "Exists two noisy data: \"MPN/100 mL\" and \"10.3\" \n"
      ]
    },
    {
      "cell_type": "code",
      "execution_count": null,
      "id": "ed6ace0f",
      "metadata": {
        "id": "ed6ace0f",
        "outputId": "99dfaabd-ca9b-4163-e687-99fabb17103b"
      },
      "outputs": [
        {
          "name": "stdout",
          "output_type": "stream",
          "text": [
            "total:7151\n",
            "cfu/100 mL\n",
            "cfu/100 mL\n",
            "7149\n",
            "MPN/100 mL\n",
            "10.3\n",
            "2\n"
          ]
        }
      ],
      "source": [
        "ecoli_other_unit = df[\"ecoli_other_unit\"]\n",
        "cfu = []\n",
        "other = []\n",
        "count =0\n",
        "for x in ecoli_other_unit:\n",
        "    if str(x) == \"nan\":\n",
        "        continue\n",
        "    elif str(x) == \"cfu/100 mL\":\n",
        "        cfu.append(x)\n",
        "        count +=1\n",
        "    else:\n",
        "        other.append(x)\n",
        "        count +=1\n",
        "\n",
        "print(\"total:\" + str(count))\n",
        "print(max(data1))\n",
        "print(min(data1))\n",
        "print(len(data1))\n",
        "print(max(data2))\n",
        "print(min(data2))\n",
        "print(len(data2))"
      ]
    },
    {
      "cell_type": "markdown",
      "id": "ec92a2a7",
      "metadata": {
        "id": "ec92a2a7"
      },
      "source": [
        "22. Other1_Comm\n",
        "A text that specified what additional tests/values are made to the sample, including \"AddAValue:PhosphorusIAddA3Value:ppm\", \"AddAValue:TurbidityIAddA3Value:JTU\",\"AddAValue:nitriteIAddA3Value:ppm\" (Add A Value) and many others. Seems to have redundancy and lack of a standard format. \n",
        "\n"
      ]
    },
    {
      "cell_type": "code",
      "execution_count": null,
      "id": "2d96fe2a",
      "metadata": {
        "id": "2d96fe2a",
        "outputId": "73fdd288-b4c5-4263-ddee-0caa37b06ea8"
      },
      "outputs": [
        {
          "name": "stdout",
          "output_type": "stream",
          "text": [
            "total:225\n",
            "{'AddA:     AddA:     HardnessIAddA3mg/LIAddA3AddA:     HardnessIAddA3mg/L', 'AddAValue:HydrocarbonIAddA3Value:NA - strips used', 'AddAValue:nitriteIAddA3Value:ppm', 'AddAValue:NitratesIAddA3Value:mg/l', 'AddAValue:TurbityIAddA3Value::JTU', 'AddAValue:phosphate IAddA3Value:none', 'AddAValue:TurbidityIAddA3Value:JTU', 'AddAValue:NitriteIAddA3Value:', 'AddAValue: IAddA3Value:', 'AddAValue:PhosphorusIAddA3Value:mg/L', 'AddAValue:nitritteIAddA3Value:ppm', 'AddAValue:PhosphorusIAddA3Value:ppm', 'AddAValue:LaMott Turbidity Column 0-200JTUIAddA3Value:JTU', 'AddAValue:phosphate IAddA3Value:', 'AddAValue:Nitrate Nitrite Strip testIAddA3Value:', 'AddAValue:TurbityIAddA3Value:JTU', 'AddAValue:flowIAddA3Value:ft per sec', 'AddAValue:turbidityIAddA3Value:JTU', 'AddAValue:phosphates IAddA3Value:', 'AddA:     HardnessIAddA3mg/L', 'AddAValue:nitrateIAddA3Value:', 'AddAValue:Total Dissolved Solutes (TDS)IAddA3Value:ppm', 'AddAValue:nitriteIAddA3Value:mg/l (ppm)', 'AddAValue:NitritesIAddA3Value:ppm', 'AddAValue:phosephateIAddA3Value:ppm', 'AddAValue:NitriteIAddA3Value:mg/l (ppm)', 'AddAValue:HardnessIAddA3Value:mg/L', 'AddAValue:TurbidityIAddA3Value:JTUs', 'AddAValue:PhosphorusIAddA3Value:', 'AddAValue:Total Dissolved SolidsIAddA3Value:ppm', 'AddAValue:low range orthophosphateIAddA3Value:ppm', 'AddAValue:PHOSIAddA3Value:ppm', 'AddAValue:phosphateIAddA3Value:ppm', 'AddAValue:Total Dissolved SolutesIAddA3Value:ppm', 'AddAValue:NitriteIAddA3Value:ppm', 'AddAValue:PhosphatesIAddA3Value:mg/L (ppm)', 'AddAValue:phosphateIAddA3Value:', 'AddAValue:TurbidityIAddA3Value:NTUs', 'AddAValue:NitriteIAddA3Value:mg/L (ppm)', 'AddAValue:Hydrocarbon presentIAddA3Value:', 'AddAValue:nitriteIAddA3Value:', 'AddAValue:phosIAddA3Value:', 'AddAValue:NitriteIAddA3Value:mg/L', 'AddAValue:nitriteIAddA3Value:mg/L', 'AddAValue:Nitrate StripIAddA3Value:ppm', 'AddAValue:Nitrate NitrogenIAddA3Value:ppm'}\n"
          ]
        }
      ],
      "source": [
        "Other1_Comm = df[\"Other1_Comm\"]\n",
        "dic = set()\n",
        "count =0\n",
        "for x in Other1_Comm:\n",
        "    if str(x) == \"nan\":\n",
        "        continue\n",
        "    if str(x) in dic:\n",
        "        count +=1\n",
        "    else:\n",
        "        dic.add(str(x))\n",
        "        count +=1\n",
        "\n",
        "print(\"total:\" + str(count))\n",
        "print(dic)\n"
      ]
    },
    {
      "cell_type": "markdown",
      "id": "ab910979",
      "metadata": {
        "id": "ab910979"
      },
      "source": [
        "23. Other2_Comm\n",
        "Similar to Other1_Comm, specifying additional tests/values added to the testing of the sample (Add B value). Example: \"AddBValue:ChlorideIAddB3Value:ppm\"\n",
        "Only has 21 value cells \n"
      ]
    },
    {
      "cell_type": "code",
      "execution_count": null,
      "id": "b247d2e6",
      "metadata": {
        "id": "b247d2e6",
        "outputId": "c0b0c6b1-1495-4e38-e180-9bce2ad85d74"
      },
      "outputs": [
        {
          "name": "stdout",
          "output_type": "stream",
          "text": [
            "total:21\n",
            "{'AddBValue:turbidityIAddB3Value:NTU', 'AddB:PhosphorusIAddB3ppm', 'AddBValue:TurbidityIAddB3Value:', 'AddBValue:chloride ionIAddB3Value:mg/l', 'AddBValue:nitriteIAddB3Value:mg/L', 'AddBValue:total phosphorusIAddB3Value:mg/l', 'AddBValue:ChlorideIAddB3Value:ppm', 'AddBValue:Chloride ionIAddB3Value:mg/l', 'AddBValue:PhosphatesIAddB3Value:ppm', 'AddBValue:tribitity IAddB3Value:JTU', 'AddBValue:Total Dissolved SolidsIAddB3Value:ppm'}\n"
          ]
        }
      ],
      "source": [
        "Other2_Comm = df[\"Other2_Comm\"]\n",
        "dic = set()\n",
        "count =0\n",
        "for x in Other2_Comm:\n",
        "    if str(x) == \"nan\":\n",
        "        continue\n",
        "    if str(x) in dic:\n",
        "        count +=1\n",
        "    else:\n",
        "        dic.add(str(x))\n",
        "        count +=1\n",
        "\n",
        "print(\"total:\" + str(count))\n",
        "print(dic)\n"
      ]
    },
    {
      "cell_type": "markdown",
      "id": "6c18f6cd",
      "metadata": {
        "id": "6c18f6cd"
      },
      "source": [
        "24. Other3_Comm\n",
        "Similar to Other1_Comm and Other2_Comm. Add C values. ex. \"AddCValue:fecal coliformIAddC3Value:cfu/100ml\"\n"
      ]
    },
    {
      "cell_type": "code",
      "execution_count": null,
      "id": "ccfb9906",
      "metadata": {
        "id": "ccfb9906",
        "outputId": "6e0ccf38-1cd7-45a2-c170-23fb0ffb26e5"
      },
      "outputs": [
        {
          "name": "stdout",
          "output_type": "stream",
          "text": [
            "total:12\n",
            "{'AddCValue:fecal IAddC3Value:cfu/100ml', 'AddCValue:Combined Chlorine(calculated)IAddC3Value:ppm', 'AddCValue:fecal coliformIAddC3Value:cfu/100 ml', 'AddCValue:free chlorineIAddC3Value:ppm', 'AddCValue:fecal coliformIAddC3Value:cfu/100ml', 'AddCValue:Combined ChlorineIAddC3Value:ppm', 'AddCValue:combined chlorineIAddC3Value:ppm', 'AddCValue:combined ChlorineIAddC3Value:ppm'}\n"
          ]
        }
      ],
      "source": [
        "Other3_Comm = df[\"Other3_Comm\"]\n",
        "dic = set()\n",
        "count =0\n",
        "for x in Other3_Comm:\n",
        "    if str(x) == \"nan\":\n",
        "        continue\n",
        "    if str(x) in dic:\n",
        "        count +=1\n",
        "    else:\n",
        "        dic.add(str(x))\n",
        "        count +=1\n",
        "\n",
        "print(\"total:\" + str(count))\n",
        "print(dic)"
      ]
    },
    {
      "cell_type": "markdown",
      "id": "8d60e4cf",
      "metadata": {
        "id": "8d60e4cf"
      },
      "source": [
        "25. Other4_Comm\n",
        "Empty Column\n"
      ]
    },
    {
      "cell_type": "code",
      "execution_count": null,
      "id": "224fee20",
      "metadata": {
        "id": "224fee20",
        "outputId": "768625e2-8f91-4573-d3b9-749ef3e9cbc5"
      },
      "outputs": [
        {
          "name": "stdout",
          "output_type": "stream",
          "text": [
            "total:0\n"
          ]
        }
      ],
      "source": [
        "Other4_Comm = df[\"Other4_Comm\"]\n",
        "count =0\n",
        "for x in Other4_Comm:\n",
        "    if str(x) == \"nan\":\n",
        "        continue\n",
        "    count +=1\n",
        "\n",
        "print(\"total:\" + str(count))\n"
      ]
    },
    {
      "cell_type": "markdown",
      "id": "be8a916a",
      "metadata": {
        "id": "be8a916a"
      },
      "source": [
        "26. Other5_Comm\n",
        "Empty Column\n"
      ]
    },
    {
      "cell_type": "code",
      "execution_count": null,
      "id": "072058aa",
      "metadata": {
        "id": "072058aa",
        "outputId": "99d1171b-04ec-4792-86f8-e5396965f9ab"
      },
      "outputs": [
        {
          "name": "stdout",
          "output_type": "stream",
          "text": [
            "total:0\n"
          ]
        }
      ],
      "source": [
        "Other5_Comm = df[\"Other5_Comm\"]\n",
        "count =0\n",
        "for x in Other5_Comm:\n",
        "    if str(x) == \"nan\":\n",
        "        continue\n",
        "    count +=1\n",
        "\n",
        "print(\"total:\" + str(count))\n"
      ]
    },
    {
      "cell_type": "markdown",
      "id": "889ed49e",
      "metadata": {
        "id": "889ed49e"
      },
      "source": [
        "27. Other6_Comm\n",
        "Empty Column\n"
      ]
    },
    {
      "cell_type": "code",
      "execution_count": null,
      "id": "1ca83852",
      "metadata": {
        "id": "1ca83852",
        "outputId": "b70ff188-85b9-49a7-82d9-0269f0641403"
      },
      "outputs": [
        {
          "name": "stdout",
          "output_type": "stream",
          "text": [
            "total:0\n"
          ]
        }
      ],
      "source": [
        "Other6_Comm = df[\"Other6_Comm\"]\n",
        "count =0\n",
        "for x in Other6_Comm:\n",
        "    if str(x) == \"nan\":\n",
        "        continue\n",
        "    count +=1\n",
        "\n",
        "print(\"total:\" + str(count))\n"
      ]
    },
    {
      "cell_type": "markdown",
      "id": "2915481a",
      "metadata": {
        "id": "2915481a"
      },
      "source": [
        "28. Other7_Comm\n",
        "Empty Column"
      ]
    },
    {
      "cell_type": "code",
      "execution_count": null,
      "id": "a58d921b",
      "metadata": {
        "id": "a58d921b",
        "outputId": "a7617407-5160-48f6-a29a-0d6109f2e294"
      },
      "outputs": [
        {
          "name": "stdout",
          "output_type": "stream",
          "text": [
            "total:0\n"
          ]
        }
      ],
      "source": [
        "Other7_Comm = df[\"Other7_Comm\"]\n",
        "count =0\n",
        "for x in Other7_Comm:\n",
        "    if str(x) == \"nan\":\n",
        "        continue\n",
        "    count +=1\n",
        "\n",
        "print(\"total:\" + str(count))\n"
      ]
    }
  ],
  "metadata": {
    "kernelspec": {
      "display_name": "Python 3",
      "language": "python",
      "name": "python3"
    },
    "language_info": {
      "codemirror_mode": {
        "name": "ipython",
        "version": 3
      },
      "file_extension": ".py",
      "mimetype": "text/x-python",
      "name": "python",
      "nbconvert_exporter": "python",
      "pygments_lexer": "ipython3",
      "version": "3.8.8"
    },
    "colab": {
      "name": "Data_ExplorationF.ipynb",
      "provenance": []
    }
  },
  "nbformat": 4,
  "nbformat_minor": 5
}