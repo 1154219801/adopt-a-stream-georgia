{
 "cells": [
  {
   "cell_type": "code",
   "execution_count": 2,
   "metadata": {},
   "outputs": [],
   "source": [
    "%load_ext autoreload\n",
    "%autoreload 2"
   ]
  },
  {
   "cell_type": "code",
   "execution_count": 3,
   "metadata": {},
   "outputs": [],
   "source": [
    "import csv\n",
    "import time\n",
    "from collections import defaultdict, Counter\n",
    "import json\n",
    "from urllib.request import Request, urlopen\n",
    "import pickle"
   ]
  },
  {
   "cell_type": "code",
   "execution_count": 6,
   "metadata": {},
   "outputs": [],
   "source": [
    "import pandas as pd\n",
    "import numpy as np\n",
    "import geopandas as gpd\n",
    "import shapely\n",
    "from shapely.geometry import shape, Point\n",
    "import shapefile\n",
    "from geopy import distance\n",
    "import plotly.figure_factory as ff\n",
    "import plotly.io as pio\n",
    "import plotly as plt\n",
    "pio.renderers.default = \"jupyterlab\"\n",
    "import plotly.express as px\n",
    "import plotly.graph_objects as go"
   ]
  },
  {
   "cell_type": "code",
   "execution_count": 7,
   "metadata": {},
   "outputs": [],
   "source": [
    "from tqdm import tqdm"
   ]
  },
  {
   "cell_type": "code",
   "execution_count": 8,
   "metadata": {},
   "outputs": [],
   "source": [
    "from utils import *"
   ]
  },
  {
   "cell_type": "code",
   "execution_count": 9,
   "metadata": {},
   "outputs": [
    {
     "name": "stderr",
     "output_type": "stream",
     "text": [
      "/Users/robclewley/.pyenv/versions/3.7.5/lib/python3.7/site-packages/IPython/core/interactiveshell.py:3254: DtypeWarning:\n",
      "\n",
      "Columns (14,20,21,23,24,31,32,33,35,36,56,63,64,65,72,73,74,77,78,79,86,87,88) have mixed types.Specify dtype option on import or set low_memory=False.\n",
      "\n"
     ]
    }
   ],
   "source": [
    "df = load_csv_export_dataset(\"export_dataframe_stage2.csv\")"
   ]
  },
  {
   "cell_type": "code",
   "execution_count": 35,
   "metadata": {},
   "outputs": [],
   "source": [
    "loc_pairs, geo_locs, gdf = get_loc_objects_from_series(locs['SiteLocation'])"
   ]
  },
  {
   "cell_type": "markdown",
   "metadata": {},
   "source": [
    "# Distribution of locations"
   ]
  },
  {
   "cell_type": "markdown",
   "metadata": {},
   "source": [
    "Make sure to unzip the file in the geodata folder first."
   ]
  },
  {
   "cell_type": "code",
   "execution_count": 218,
   "metadata": {},
   "outputs": [],
   "source": [
    "# watershed boundaries\n",
    "WBD_gj = shapefile.Reader(\"geodata/hydrologic_units_WBDHU12_ga_3975106_02/hydrologic_units\\wbdhu12_a_ga.shp\").__geo_interface__"
   ]
  },
  {
   "cell_type": "markdown",
   "metadata": {},
   "source": [
    "Demonstrate that the max inter-site distance is < 450 miles"
   ]
  },
  {
   "cell_type": "code",
   "execution_count": 84,
   "metadata": {},
   "outputs": [],
   "source": [
    "GA_map = get_state_map()"
   ]
  },
  {
   "cell_type": "code",
   "execution_count": 21,
   "metadata": {},
   "outputs": [
    {
     "data": {
      "text/html": [
       "<div>\n",
       "<style scoped>\n",
       "    .dataframe tbody tr th:only-of-type {\n",
       "        vertical-align: middle;\n",
       "    }\n",
       "\n",
       "    .dataframe tbody tr th {\n",
       "        vertical-align: top;\n",
       "    }\n",
       "\n",
       "    .dataframe thead th {\n",
       "        text-align: right;\n",
       "    }\n",
       "</style>\n",
       "<table border=\"1\" class=\"dataframe\">\n",
       "  <thead>\n",
       "    <tr style=\"text-align: right;\">\n",
       "      <th></th>\n",
       "      <th>FIPS</th>\n",
       "      <th>STNAME</th>\n",
       "      <th>County</th>\n",
       "      <th>TOT_POP</th>\n",
       "      <th>TOT_MALE</th>\n",
       "      <th>TOT_FEMALE</th>\n",
       "      <th>WA_MALE</th>\n",
       "      <th>WA_FEMALE</th>\n",
       "      <th>NHWA_MALE</th>\n",
       "      <th>NHWA_FEMALE</th>\n",
       "      <th>NHWhite_Alone</th>\n",
       "      <th>Not_NHWhite_Alone</th>\n",
       "      <th>MinorityMinority</th>\n",
       "      <th>MinorityPCT</th>\n",
       "      <th>Black</th>\n",
       "      <th>BlackPCT</th>\n",
       "      <th>Hispanic</th>\n",
       "      <th>HispanicPCT</th>\n",
       "    </tr>\n",
       "  </thead>\n",
       "  <tbody>\n",
       "    <tr>\n",
       "      <th>2807</th>\n",
       "      <td>13001</td>\n",
       "      <td>Georgia</td>\n",
       "      <td>Appling</td>\n",
       "      <td>18368</td>\n",
       "      <td>9294</td>\n",
       "      <td>9074</td>\n",
       "      <td>7197</td>\n",
       "      <td>7139</td>\n",
       "      <td>6284</td>\n",
       "      <td>6520</td>\n",
       "      <td>12804</td>\n",
       "      <td>5564</td>\n",
       "      <td>No</td>\n",
       "      <td>30.29%</td>\n",
       "      <td>3607</td>\n",
       "      <td>20%</td>\n",
       "      <td>1728</td>\n",
       "      <td>9.41%</td>\n",
       "    </tr>\n",
       "    <tr>\n",
       "      <th>2808</th>\n",
       "      <td>13003</td>\n",
       "      <td>Georgia</td>\n",
       "      <td>Atkinson</td>\n",
       "      <td>8284</td>\n",
       "      <td>4203</td>\n",
       "      <td>4081</td>\n",
       "      <td>3291</td>\n",
       "      <td>3143</td>\n",
       "      <td>2317</td>\n",
       "      <td>2371</td>\n",
       "      <td>4688</td>\n",
       "      <td>3596</td>\n",
       "      <td>No</td>\n",
       "      <td>43.41%</td>\n",
       "      <td>1459</td>\n",
       "      <td>18%</td>\n",
       "      <td>2050</td>\n",
       "      <td>24.75%</td>\n",
       "    </tr>\n",
       "    <tr>\n",
       "      <th>2809</th>\n",
       "      <td>13005</td>\n",
       "      <td>Georgia</td>\n",
       "      <td>Bacon</td>\n",
       "      <td>11198</td>\n",
       "      <td>5562</td>\n",
       "      <td>5636</td>\n",
       "      <td>4558</td>\n",
       "      <td>4592</td>\n",
       "      <td>4094</td>\n",
       "      <td>4273</td>\n",
       "      <td>8367</td>\n",
       "      <td>2831</td>\n",
       "      <td>No</td>\n",
       "      <td>25.28%</td>\n",
       "      <td>1790</td>\n",
       "      <td>16%</td>\n",
       "      <td>890</td>\n",
       "      <td>7.95%</td>\n",
       "    </tr>\n",
       "    <tr>\n",
       "      <th>2810</th>\n",
       "      <td>13007</td>\n",
       "      <td>Georgia</td>\n",
       "      <td>Baker</td>\n",
       "      <td>3366</td>\n",
       "      <td>1606</td>\n",
       "      <td>1760</td>\n",
       "      <td>858</td>\n",
       "      <td>876</td>\n",
       "      <td>796</td>\n",
       "      <td>823</td>\n",
       "      <td>1619</td>\n",
       "      <td>1747</td>\n",
       "      <td>Yes</td>\n",
       "      <td>51.90%</td>\n",
       "      <td>1551</td>\n",
       "      <td>46%</td>\n",
       "      <td>152</td>\n",
       "      <td>4.52%</td>\n",
       "    </tr>\n",
       "    <tr>\n",
       "      <th>2811</th>\n",
       "      <td>13009</td>\n",
       "      <td>Georgia</td>\n",
       "      <td>Baldwin</td>\n",
       "      <td>46367</td>\n",
       "      <td>23365</td>\n",
       "      <td>23002</td>\n",
       "      <td>13011</td>\n",
       "      <td>12750</td>\n",
       "      <td>12638</td>\n",
       "      <td>12391</td>\n",
       "      <td>25029</td>\n",
       "      <td>21338</td>\n",
       "      <td>No</td>\n",
       "      <td>46.02%</td>\n",
       "      <td>19150</td>\n",
       "      <td>41%</td>\n",
       "      <td>977</td>\n",
       "      <td>2.11%</td>\n",
       "    </tr>\n",
       "  </tbody>\n",
       "</table>\n",
       "</div>"
      ],
      "text/plain": [
       "       FIPS   STNAME    County  TOT_POP  TOT_MALE  TOT_FEMALE  WA_MALE  \\\n",
       "2807  13001  Georgia   Appling    18368      9294        9074     7197   \n",
       "2808  13003  Georgia  Atkinson     8284      4203        4081     3291   \n",
       "2809  13005  Georgia     Bacon    11198      5562        5636     4558   \n",
       "2810  13007  Georgia     Baker     3366      1606        1760      858   \n",
       "2811  13009  Georgia   Baldwin    46367     23365       23002    13011   \n",
       "\n",
       "      WA_FEMALE  NHWA_MALE  NHWA_FEMALE  NHWhite_Alone  Not_NHWhite_Alone  \\\n",
       "2807       7139       6284         6520          12804               5564   \n",
       "2808       3143       2317         2371           4688               3596   \n",
       "2809       4592       4094         4273           8367               2831   \n",
       "2810        876        796          823           1619               1747   \n",
       "2811      12750      12638        12391          25029              21338   \n",
       "\n",
       "     MinorityMinority MinorityPCT  Black BlackPCT  Hispanic HispanicPCT  \n",
       "2807               No      30.29%   3607      20%      1728       9.41%  \n",
       "2808               No      43.41%   1459      18%      2050      24.75%  \n",
       "2809               No      25.28%   1790      16%       890       7.95%  \n",
       "2810              Yes      51.90%   1551      46%       152       4.52%  \n",
       "2811               No      46.02%  19150      41%       977       2.11%  "
      ]
     },
     "execution_count": 21,
     "metadata": {},
     "output_type": "execute_result"
    }
   ],
   "source": [
    "GA_map.head()"
   ]
  },
  {
   "cell_type": "code",
   "execution_count": 85,
   "metadata": {},
   "outputs": [],
   "source": [
    "fips = GA_map['FIPS'].tolist()"
   ]
  },
  {
   "cell_type": "code",
   "execution_count": 229,
   "metadata": {},
   "outputs": [],
   "source": [
    "wbd_names = set([wbd['properties']['name'] for wbd in WBD_gj['features']])"
   ]
  },
  {
   "cell_type": "markdown",
   "metadata": {},
   "source": [
    "### Plot distribution of unique record locations using mapbox"
   ]
  },
  {
   "cell_type": "code",
   "execution_count": null,
   "metadata": {},
   "outputs": [],
   "source": [
    "fig = px.choropleth_mapbox(pd.DataFrame(data={'name': [wbd['properties']['name'] for wbd in WBD_gj['features']]}),\n",
    "                           geojson=WBD_gj,\n",
    "                           locations=\"name\",\n",
    "                           featureidkey=\"properties.name\",\n",
    "                           center={\"lat\": 32.8407, \"lon\": -83.6324}, # macon\n",
    "                           mapbox_style=\"stamen-terrain\", #\"carto-positron\",\n",
    "                           zoom=6,\n",
    "                           opacity=0.3,\n",
    "                      )\n",
    "\n",
    "fig.add_scattermapbox(\n",
    "    lat = gdf.geometry.x,\n",
    "    lon = gdf.geometry.y,\n",
    "    mode = 'markers',\n",
    "    hovertext = [d['County']['name'] for d in loc_lookup],\n",
    "    marker_size=4,\n",
    "    marker_color='rgb(235, 0, 100)'\n",
    ")\n",
    "\n",
    "fig.update_layout(margin={\"r\":0, \"t\":0, \"l\":0, \"b\":0})\n",
    "fig.show()"
   ]
  },
  {
   "cell_type": "markdown",
   "metadata": {},
   "source": [
    "## Lookup GIS place names associated with the recordings"
   ]
  },
  {
   "cell_type": "code",
   "execution_count": 40,
   "metadata": {},
   "outputs": [],
   "source": [
    "loc_lookup = fetch_geo_locs()"
   ]
  },
  {
   "cell_type": "code",
   "execution_count": 41,
   "metadata": {},
   "outputs": [
    {
     "data": {
      "text/plain": [
       "'Florida'"
      ]
     },
     "execution_count": 41,
     "metadata": {},
     "output_type": "execute_result"
    }
   ],
   "source": [
    "loc_lookup[3]['State']['name']"
   ]
  },
  {
   "cell_type": "code",
   "execution_count": 42,
   "metadata": {},
   "outputs": [
    {
     "data": {
      "text/plain": [
       "'Georgia'"
      ]
     },
     "execution_count": 42,
     "metadata": {},
     "output_type": "execute_result"
    }
   ],
   "source": [
    "loc_lookup[155]['State']['name']"
   ]
  },
  {
   "cell_type": "markdown",
   "metadata": {},
   "source": [
    "Example location info"
   ]
  },
  {
   "cell_type": "code",
   "execution_count": 43,
   "metadata": {},
   "outputs": [
    {
     "data": {
      "text/plain": [
       "{'Block': {'FIPS': None, 'bbox': None},\n",
       " 'County': {'FIPS': None, 'name': None},\n",
       " 'State': {'FIPS': None, 'code': None, 'name': None},\n",
       " 'status': 'OK',\n",
       " 'executionTime': '0'}"
      ]
     },
     "execution_count": 43,
     "metadata": {},
     "output_type": "execute_result"
    }
   ],
   "source": [
    "loc_lookup[0]"
   ]
  },
  {
   "cell_type": "code",
   "execution_count": 44,
   "metadata": {},
   "outputs": [
    {
     "data": {
      "text/plain": [
       "{'messages': [\"FCC0001: The coordinate lies on the boundary of mulitple blocks, the block contains the clicked location is selected. For a complete list use showall=true to display 'intersection' element in the Block\"],\n",
       " 'Block': {'FIPS': '370399301002000',\n",
       "  'bbox': [-83.7769, 35.212586, -83.702902, 35.25766]},\n",
       " 'County': {'FIPS': '37039', 'name': 'Cherokee'},\n",
       " 'State': {'FIPS': '37', 'code': 'NC', 'name': 'North Carolina'},\n",
       " 'status': 'OK',\n",
       " 'executionTime': '0'}"
      ]
     },
     "execution_count": 44,
     "metadata": {},
     "output_type": "execute_result"
    }
   ],
   "source": [
    "loc_lookup[-1]"
   ]
  },
  {
   "cell_type": "code",
   "execution_count": 267,
   "metadata": {},
   "outputs": [
    {
     "data": {
      "text/plain": [
       "426.12898114111164"
      ]
     },
     "execution_count": 267,
     "metadata": {},
     "output_type": "execute_result"
    }
   ],
   "source": [
    "distance.distance(loc_pairs[3], loc_pairs[155]).miles"
   ]
  },
  {
   "cell_type": "code",
   "execution_count": 476,
   "metadata": {},
   "outputs": [
    {
     "data": {
      "text/html": [
       "<div>\n",
       "<style scoped>\n",
       "    .dataframe tbody tr th:only-of-type {\n",
       "        vertical-align: middle;\n",
       "    }\n",
       "\n",
       "    .dataframe tbody tr th {\n",
       "        vertical-align: top;\n",
       "    }\n",
       "\n",
       "    .dataframe thead th {\n",
       "        text-align: right;\n",
       "    }\n",
       "</style>\n",
       "<table border=\"1\" class=\"dataframe\">\n",
       "  <thead>\n",
       "    <tr style=\"text-align: right;\">\n",
       "      <th></th>\n",
       "      <th>lat</th>\n",
       "      <th>long</th>\n",
       "      <th>SiteLocation</th>\n",
       "      <th>SiteName</th>\n",
       "      <th>wbd</th>\n",
       "    </tr>\n",
       "  </thead>\n",
       "  <tbody>\n",
       "    <tr>\n",
       "      <th>63792</th>\n",
       "      <td>32.0067</td>\n",
       "      <td>-84.2266</td>\n",
       "      <td>32.0067  -84.2266</td>\n",
       "      <td>Muckalee Creek at McLittle Bridge Rd</td>\n",
       "      <td>Bear Branch</td>\n",
       "    </tr>\n",
       "    <tr>\n",
       "      <th>63793</th>\n",
       "      <td>31.2387</td>\n",
       "      <td>-82.3231</td>\n",
       "      <td>31.2387  -82.3231</td>\n",
       "      <td>U.S. Highway 84, Waycross</td>\n",
       "      <td>Caney Branch-Satilla River</td>\n",
       "    </tr>\n",
       "    <tr>\n",
       "      <th>63794</th>\n",
       "      <td>31.2933</td>\n",
       "      <td>-81.9571</td>\n",
       "      <td>31.2933  -81.9571</td>\n",
       "      <td>U.S. 301, Nahunta</td>\n",
       "      <td>Raulerson Swamp-Satilla River</td>\n",
       "    </tr>\n",
       "    <tr>\n",
       "      <th>63795</th>\n",
       "      <td>31.2196</td>\n",
       "      <td>-81.8677</td>\n",
       "      <td>31.2196  -81.8677</td>\n",
       "      <td>U.S. Highway 82, Nahunta</td>\n",
       "      <td>Barbers Creek-Satilla River</td>\n",
       "    </tr>\n",
       "    <tr>\n",
       "      <th>63796</th>\n",
       "      <td>31.2400</td>\n",
       "      <td>-81.8634</td>\n",
       "      <td>31.24  -81.8634</td>\n",
       "      <td>Warners Landing</td>\n",
       "      <td>Barbers Creek-Satilla River</td>\n",
       "    </tr>\n",
       "  </tbody>\n",
       "</table>\n",
       "</div>"
      ],
      "text/plain": [
       "           lat     long       SiteLocation  \\\n",
       "63792  32.0067 -84.2266  32.0067  -84.2266   \n",
       "63793  31.2387 -82.3231  31.2387  -82.3231   \n",
       "63794  31.2933 -81.9571  31.2933  -81.9571   \n",
       "63795  31.2196 -81.8677  31.2196  -81.8677   \n",
       "63796  31.2400 -81.8634    31.24  -81.8634   \n",
       "\n",
       "                                   SiteName                            wbd  \n",
       "63792  Muckalee Creek at McLittle Bridge Rd                    Bear Branch  \n",
       "63793             U.S. Highway 84, Waycross     Caney Branch-Satilla River  \n",
       "63794                     U.S. 301, Nahunta  Raulerson Swamp-Satilla River  \n",
       "63795              U.S. Highway 82, Nahunta    Barbers Creek-Satilla River  \n",
       "63796                       Warners Landing    Barbers Creek-Satilla River  "
      ]
     },
     "execution_count": 476,
     "metadata": {},
     "output_type": "execute_result"
    }
   ],
   "source": [
    "df[['lat', 'long', 'SiteLocation', 'SiteName', 'wbd']].tail()"
   ]
  },
  {
   "cell_type": "markdown",
   "metadata": {},
   "source": [
    "We'll keep \"SiteLocation\" to allow easy checking of unique lat-long pairs"
   ]
  },
  {
   "cell_type": "markdown",
   "metadata": {},
   "source": [
    "# Coverage of WBDs by records"
   ]
  },
  {
   "cell_type": "code",
   "execution_count": 456,
   "metadata": {},
   "outputs": [],
   "source": [
    "wbd_counts = df.groupby('wbd').agg(count=('wbd', 'count'))"
   ]
  },
  {
   "cell_type": "code",
   "execution_count": 452,
   "metadata": {},
   "outputs": [],
   "source": [
    "wbd_no_records = set(wbd_names).difference(df['wbd'].unique())"
   ]
  },
  {
   "cell_type": "code",
   "execution_count": 458,
   "metadata": {},
   "outputs": [
    {
     "data": {
      "text/html": [
       "<div>\n",
       "<style scoped>\n",
       "    .dataframe tbody tr th:only-of-type {\n",
       "        vertical-align: middle;\n",
       "    }\n",
       "\n",
       "    .dataframe tbody tr th {\n",
       "        vertical-align: top;\n",
       "    }\n",
       "\n",
       "    .dataframe thead th {\n",
       "        text-align: right;\n",
       "    }\n",
       "</style>\n",
       "<table border=\"1\" class=\"dataframe\">\n",
       "  <thead>\n",
       "    <tr style=\"text-align: right;\">\n",
       "      <th></th>\n",
       "      <th>count</th>\n",
       "    </tr>\n",
       "    <tr>\n",
       "      <th>wbd</th>\n",
       "      <th></th>\n",
       "    </tr>\n",
       "  </thead>\n",
       "  <tbody>\n",
       "    <tr>\n",
       "      <th>Shaddock Creek-Oconee River</th>\n",
       "      <td>1</td>\n",
       "    </tr>\n",
       "    <tr>\n",
       "      <th>Upper Tesnatee Creek</th>\n",
       "      <td>1</td>\n",
       "    </tr>\n",
       "    <tr>\n",
       "      <th>Heiferhorn Creek</th>\n",
       "      <td>1</td>\n",
       "    </tr>\n",
       "    <tr>\n",
       "      <th>Town of Pelham-Big Slough</th>\n",
       "      <td>1</td>\n",
       "    </tr>\n",
       "    <tr>\n",
       "      <th>Pigeon Creek</th>\n",
       "      <td>1</td>\n",
       "    </tr>\n",
       "    <tr>\n",
       "      <th>Harris Creek-St. Marys River</th>\n",
       "      <td>1</td>\n",
       "    </tr>\n",
       "    <tr>\n",
       "      <th>Hardy Mill Creek</th>\n",
       "      <td>1</td>\n",
       "    </tr>\n",
       "    <tr>\n",
       "      <th>Upper Lanahassee Creek</th>\n",
       "      <td>1</td>\n",
       "    </tr>\n",
       "    <tr>\n",
       "      <th>Gola Creek-Potato Creek</th>\n",
       "      <td>1</td>\n",
       "    </tr>\n",
       "    <tr>\n",
       "      <th>Fords Creek-Ogeechee River</th>\n",
       "      <td>1</td>\n",
       "    </tr>\n",
       "  </tbody>\n",
       "</table>\n",
       "</div>"
      ],
      "text/plain": [
       "                              count\n",
       "wbd                                \n",
       "Shaddock Creek-Oconee River       1\n",
       "Upper Tesnatee Creek              1\n",
       "Heiferhorn Creek                  1\n",
       "Town of Pelham-Big Slough         1\n",
       "Pigeon Creek                      1\n",
       "Harris Creek-St. Marys River      1\n",
       "Hardy Mill Creek                  1\n",
       "Upper Lanahassee Creek            1\n",
       "Gola Creek-Potato Creek           1\n",
       "Fords Creek-Ogeechee River        1"
      ]
     },
     "execution_count": 458,
     "metadata": {},
     "output_type": "execute_result"
    }
   ],
   "source": [
    "wbd_counts.sort_values(by='count').head(10)"
   ]
  },
  {
   "cell_type": "code",
   "execution_count": 460,
   "metadata": {},
   "outputs": [],
   "source": [
    "poorly_repd_wbds = wbd_counts[wbd_counts['count'] < 50]\n",
    "well_repd_wbds = wbd_counts[wbd_counts['count'] >= 50]"
   ]
  },
  {
   "cell_type": "code",
   "execution_count": 463,
   "metadata": {},
   "outputs": [
    {
     "data": {
      "text/plain": [
       "(1093, 376, 188)"
      ]
     },
     "execution_count": 463,
     "metadata": {},
     "output_type": "execute_result"
    }
   ],
   "source": [
    "len(wbd_no_records), len(poorly_repd_wbds), len(well_repd_wbds)"
   ]
  },
  {
   "cell_type": "code",
   "execution_count": 464,
   "metadata": {},
   "outputs": [
    {
     "data": {
      "text/plain": [
       "{'core': 0.925784996133024,\n",
       " 'basic': 0.30055928684821104,\n",
       " 'chem': 0.1986981649441046,\n",
       " 'bact': 0.20278669760247486,\n",
       " 'other': 0.0006032482598607888}"
      ]
     },
     "execution_count": 464,
     "metadata": {},
     "output_type": "execute_result"
    }
   ],
   "source": [
    "completion_by_fieldgroup(df[df['wbd'].isin(set(well_repd_wbds.index))])"
   ]
  },
  {
   "cell_type": "code",
   "execution_count": 465,
   "metadata": {},
   "outputs": [
    {
     "data": {
      "text/plain": [
       "{'core': 0.9675754910583406,\n",
       " 'basic': 0.36397722538536315,\n",
       " 'chem': 0.24142480211081793,\n",
       " 'bact': 0.1798182351216652,\n",
       " 'other': 0.0007538635506973238}"
      ]
     },
     "execution_count": 465,
     "metadata": {},
     "output_type": "execute_result"
    }
   ],
   "source": [
    "completion_by_fieldgroup(df[df['wbd'].isin(set(poorly_repd_wbds.index))])"
   ]
  },
  {
   "cell_type": "markdown",
   "metadata": {},
   "source": [
    "# Coverage of counties by records"
   ]
  },
  {
   "cell_type": "code",
   "execution_count": 466,
   "metadata": {},
   "outputs": [],
   "source": [
    "county_counts = df.groupby('county').agg(count=('county', 'count'))"
   ]
  },
  {
   "cell_type": "code",
   "execution_count": 468,
   "metadata": {},
   "outputs": [],
   "source": [
    "county_no_records = set(counties).difference(df['county'].unique())"
   ]
  },
  {
   "cell_type": "code",
   "execution_count": 470,
   "metadata": {},
   "outputs": [
    {
     "data": {
      "text/html": [
       "<div>\n",
       "<style scoped>\n",
       "    .dataframe tbody tr th:only-of-type {\n",
       "        vertical-align: middle;\n",
       "    }\n",
       "\n",
       "    .dataframe tbody tr th {\n",
       "        vertical-align: top;\n",
       "    }\n",
       "\n",
       "    .dataframe thead th {\n",
       "        text-align: right;\n",
       "    }\n",
       "</style>\n",
       "<table border=\"1\" class=\"dataframe\">\n",
       "  <thead>\n",
       "    <tr style=\"text-align: right;\">\n",
       "      <th></th>\n",
       "      <th>count</th>\n",
       "    </tr>\n",
       "    <tr>\n",
       "      <th>county</th>\n",
       "      <th></th>\n",
       "    </tr>\n",
       "  </thead>\n",
       "  <tbody>\n",
       "    <tr>\n",
       "      <th>Jones</th>\n",
       "      <td>1</td>\n",
       "    </tr>\n",
       "    <tr>\n",
       "      <th>Anderson</th>\n",
       "      <td>1</td>\n",
       "    </tr>\n",
       "    <tr>\n",
       "      <th>Marion</th>\n",
       "      <td>1</td>\n",
       "    </tr>\n",
       "    <tr>\n",
       "      <th>Wayne</th>\n",
       "      <td>1</td>\n",
       "    </tr>\n",
       "    <tr>\n",
       "      <th>Laurens</th>\n",
       "      <td>1</td>\n",
       "    </tr>\n",
       "    <tr>\n",
       "      <th>Hancock</th>\n",
       "      <td>1</td>\n",
       "    </tr>\n",
       "    <tr>\n",
       "      <th>Chattahoochee</th>\n",
       "      <td>1</td>\n",
       "    </tr>\n",
       "    <tr>\n",
       "      <th>Irwin</th>\n",
       "      <td>2</td>\n",
       "    </tr>\n",
       "    <tr>\n",
       "      <th>Webster</th>\n",
       "      <td>2</td>\n",
       "    </tr>\n",
       "    <tr>\n",
       "      <th>Miller</th>\n",
       "      <td>2</td>\n",
       "    </tr>\n",
       "  </tbody>\n",
       "</table>\n",
       "</div>"
      ],
      "text/plain": [
       "               count\n",
       "county              \n",
       "Jones              1\n",
       "Anderson           1\n",
       "Marion             1\n",
       "Wayne              1\n",
       "Laurens            1\n",
       "Hancock            1\n",
       "Chattahoochee      1\n",
       "Irwin              2\n",
       "Webster            2\n",
       "Miller             2"
      ]
     },
     "execution_count": 470,
     "metadata": {},
     "output_type": "execute_result"
    }
   ],
   "source": [
    "county_counts.sort_values(by='count').head(10)"
   ]
  },
  {
   "cell_type": "code",
   "execution_count": 471,
   "metadata": {},
   "outputs": [],
   "source": [
    "poorly_repd_counties = county_counts[county_counts['count'] < 50]\n",
    "well_repd_counties = county_counts[county_counts['count'] >= 50]"
   ]
  },
  {
   "cell_type": "code",
   "execution_count": 472,
   "metadata": {},
   "outputs": [
    {
     "data": {
      "text/plain": [
       "(14, 45, 90)"
      ]
     },
     "execution_count": 472,
     "metadata": {},
     "output_type": "execute_result"
    }
   ],
   "source": [
    "len(county_no_records), len(poorly_repd_counties), len(well_repd_counties)"
   ]
  },
  {
   "cell_type": "code",
   "execution_count": 473,
   "metadata": {},
   "outputs": [
    {
     "data": {
      "text/plain": [
       "{'core': 0.9294503389330976,\n",
       " 'basic': 0.3060116624963756,\n",
       " 'chem': 0.20251973932345285,\n",
       " 'bact': 0.20020063932530777,\n",
       " 'other': 0.0005963311666229438}"
      ]
     },
     "execution_count": 473,
     "metadata": {},
     "output_type": "execute_result"
    }
   ],
   "source": [
    "completion_by_fieldgroup(df[df['county'].isin(set(well_repd_counties.index))])"
   ]
  },
  {
   "cell_type": "code",
   "execution_count": 474,
   "metadata": {},
   "outputs": [
    {
     "data": {
      "text/plain": [
       "{'core': 0.9573791348600509,\n",
       " 'basic': 0.3544931029864738,\n",
       " 'chem': 0.22374508443210733,\n",
       " 'bact': 0.22357930449533503,\n",
       " 'other': 0.0021810250817884407}"
      ]
     },
     "execution_count": 474,
     "metadata": {},
     "output_type": "execute_result"
    }
   ],
   "source": [
    "completion_by_fieldgroup(df[df['county'].isin(set(poorly_repd_counties.index))])"
   ]
  },
  {
   "cell_type": "markdown",
   "metadata": {},
   "source": [
    "# Q. Is it always the same groups that measure at the same locations?"
   ]
  },
  {
   "cell_type": "code",
   "execution_count": 400,
   "metadata": {},
   "outputs": [
    {
     "data": {
      "text/plain": [
       "1112"
      ]
     },
     "execution_count": 400,
     "metadata": {},
     "output_type": "execute_result"
    }
   ],
   "source": [
    "df['group_rid'].nunique()"
   ]
  },
  {
   "cell_type": "code",
   "execution_count": 401,
   "metadata": {},
   "outputs": [
    {
     "data": {
      "text/html": [
       "<div>\n",
       "<style scoped>\n",
       "    .dataframe tbody tr th:only-of-type {\n",
       "        vertical-align: middle;\n",
       "    }\n",
       "\n",
       "    .dataframe tbody tr th {\n",
       "        vertical-align: top;\n",
       "    }\n",
       "\n",
       "    .dataframe thead th {\n",
       "        text-align: right;\n",
       "    }\n",
       "</style>\n",
       "<table border=\"1\" class=\"dataframe\">\n",
       "  <thead>\n",
       "    <tr style=\"text-align: right;\">\n",
       "      <th></th>\n",
       "      <th>GroupName</th>\n",
       "      <th>site_rid</th>\n",
       "      <th>state</th>\n",
       "      <th>county</th>\n",
       "      <th>lat</th>\n",
       "      <th>long</th>\n",
       "      <th>SiteName</th>\n",
       "      <th>SiteLocation</th>\n",
       "      <th>event_rid</th>\n",
       "      <th>event_date</th>\n",
       "      <th>...</th>\n",
       "      <th>hold_end_datetime</th>\n",
       "      <th>min_temp</th>\n",
       "      <th>max_temp</th>\n",
       "      <th>three_M_plate</th>\n",
       "      <th>ecoli_idexx</th>\n",
       "      <th>fecal_coliform</th>\n",
       "      <th>ecoli_other</th>\n",
       "      <th>ecoli_other_unit</th>\n",
       "      <th>comments</th>\n",
       "      <th>warnings</th>\n",
       "    </tr>\n",
       "    <tr>\n",
       "      <th>group_rid</th>\n",
       "      <th></th>\n",
       "      <th></th>\n",
       "      <th></th>\n",
       "      <th></th>\n",
       "      <th></th>\n",
       "      <th></th>\n",
       "      <th></th>\n",
       "      <th></th>\n",
       "      <th></th>\n",
       "      <th></th>\n",
       "      <th></th>\n",
       "      <th></th>\n",
       "      <th></th>\n",
       "      <th></th>\n",
       "      <th></th>\n",
       "      <th></th>\n",
       "      <th></th>\n",
       "      <th></th>\n",
       "      <th></th>\n",
       "      <th></th>\n",
       "      <th></th>\n",
       "    </tr>\n",
       "  </thead>\n",
       "  <tbody>\n",
       "    <tr>\n",
       "      <th>104</th>\n",
       "      <td>3</td>\n",
       "      <td>3</td>\n",
       "      <td>3</td>\n",
       "      <td>3</td>\n",
       "      <td>3</td>\n",
       "      <td>3</td>\n",
       "      <td>3</td>\n",
       "      <td>3</td>\n",
       "      <td>3</td>\n",
       "      <td>3</td>\n",
       "      <td>...</td>\n",
       "      <td>0</td>\n",
       "      <td>0</td>\n",
       "      <td>0</td>\n",
       "      <td>0</td>\n",
       "      <td>0</td>\n",
       "      <td>0</td>\n",
       "      <td>0</td>\n",
       "      <td>0</td>\n",
       "      <td>0</td>\n",
       "      <td>0</td>\n",
       "    </tr>\n",
       "    <tr>\n",
       "      <th>130</th>\n",
       "      <td>40</td>\n",
       "      <td>40</td>\n",
       "      <td>40</td>\n",
       "      <td>40</td>\n",
       "      <td>40</td>\n",
       "      <td>40</td>\n",
       "      <td>40</td>\n",
       "      <td>40</td>\n",
       "      <td>40</td>\n",
       "      <td>40</td>\n",
       "      <td>...</td>\n",
       "      <td>0</td>\n",
       "      <td>0</td>\n",
       "      <td>0</td>\n",
       "      <td>0</td>\n",
       "      <td>0</td>\n",
       "      <td>0</td>\n",
       "      <td>0</td>\n",
       "      <td>0</td>\n",
       "      <td>0</td>\n",
       "      <td>0</td>\n",
       "    </tr>\n",
       "    <tr>\n",
       "      <th>133</th>\n",
       "      <td>13</td>\n",
       "      <td>13</td>\n",
       "      <td>13</td>\n",
       "      <td>13</td>\n",
       "      <td>13</td>\n",
       "      <td>13</td>\n",
       "      <td>13</td>\n",
       "      <td>13</td>\n",
       "      <td>13</td>\n",
       "      <td>13</td>\n",
       "      <td>...</td>\n",
       "      <td>0</td>\n",
       "      <td>0</td>\n",
       "      <td>0</td>\n",
       "      <td>0</td>\n",
       "      <td>0</td>\n",
       "      <td>0</td>\n",
       "      <td>0</td>\n",
       "      <td>0</td>\n",
       "      <td>0</td>\n",
       "      <td>0</td>\n",
       "    </tr>\n",
       "    <tr>\n",
       "      <th>134</th>\n",
       "      <td>3</td>\n",
       "      <td>3</td>\n",
       "      <td>3</td>\n",
       "      <td>3</td>\n",
       "      <td>3</td>\n",
       "      <td>3</td>\n",
       "      <td>3</td>\n",
       "      <td>3</td>\n",
       "      <td>3</td>\n",
       "      <td>3</td>\n",
       "      <td>...</td>\n",
       "      <td>0</td>\n",
       "      <td>0</td>\n",
       "      <td>0</td>\n",
       "      <td>0</td>\n",
       "      <td>0</td>\n",
       "      <td>0</td>\n",
       "      <td>0</td>\n",
       "      <td>0</td>\n",
       "      <td>0</td>\n",
       "      <td>0</td>\n",
       "    </tr>\n",
       "    <tr>\n",
       "      <th>137</th>\n",
       "      <td>1</td>\n",
       "      <td>1</td>\n",
       "      <td>1</td>\n",
       "      <td>1</td>\n",
       "      <td>1</td>\n",
       "      <td>1</td>\n",
       "      <td>1</td>\n",
       "      <td>1</td>\n",
       "      <td>1</td>\n",
       "      <td>1</td>\n",
       "      <td>...</td>\n",
       "      <td>0</td>\n",
       "      <td>0</td>\n",
       "      <td>0</td>\n",
       "      <td>0</td>\n",
       "      <td>0</td>\n",
       "      <td>0</td>\n",
       "      <td>0</td>\n",
       "      <td>0</td>\n",
       "      <td>0</td>\n",
       "      <td>0</td>\n",
       "    </tr>\n",
       "    <tr>\n",
       "      <th>...</th>\n",
       "      <td>...</td>\n",
       "      <td>...</td>\n",
       "      <td>...</td>\n",
       "      <td>...</td>\n",
       "      <td>...</td>\n",
       "      <td>...</td>\n",
       "      <td>...</td>\n",
       "      <td>...</td>\n",
       "      <td>...</td>\n",
       "      <td>...</td>\n",
       "      <td>...</td>\n",
       "      <td>...</td>\n",
       "      <td>...</td>\n",
       "      <td>...</td>\n",
       "      <td>...</td>\n",
       "      <td>...</td>\n",
       "      <td>...</td>\n",
       "      <td>...</td>\n",
       "      <td>...</td>\n",
       "      <td>...</td>\n",
       "      <td>...</td>\n",
       "    </tr>\n",
       "    <tr>\n",
       "      <th>2997</th>\n",
       "      <td>3</td>\n",
       "      <td>3</td>\n",
       "      <td>3</td>\n",
       "      <td>3</td>\n",
       "      <td>3</td>\n",
       "      <td>3</td>\n",
       "      <td>3</td>\n",
       "      <td>3</td>\n",
       "      <td>3</td>\n",
       "      <td>3</td>\n",
       "      <td>...</td>\n",
       "      <td>0</td>\n",
       "      <td>0</td>\n",
       "      <td>0</td>\n",
       "      <td>0</td>\n",
       "      <td>0</td>\n",
       "      <td>0</td>\n",
       "      <td>0</td>\n",
       "      <td>0</td>\n",
       "      <td>0</td>\n",
       "      <td>0</td>\n",
       "    </tr>\n",
       "    <tr>\n",
       "      <th>3006</th>\n",
       "      <td>2</td>\n",
       "      <td>2</td>\n",
       "      <td>2</td>\n",
       "      <td>2</td>\n",
       "      <td>2</td>\n",
       "      <td>2</td>\n",
       "      <td>2</td>\n",
       "      <td>2</td>\n",
       "      <td>2</td>\n",
       "      <td>2</td>\n",
       "      <td>...</td>\n",
       "      <td>0</td>\n",
       "      <td>0</td>\n",
       "      <td>0</td>\n",
       "      <td>0</td>\n",
       "      <td>0</td>\n",
       "      <td>0</td>\n",
       "      <td>0</td>\n",
       "      <td>0</td>\n",
       "      <td>0</td>\n",
       "      <td>0</td>\n",
       "    </tr>\n",
       "    <tr>\n",
       "      <th>3007</th>\n",
       "      <td>1</td>\n",
       "      <td>1</td>\n",
       "      <td>1</td>\n",
       "      <td>1</td>\n",
       "      <td>1</td>\n",
       "      <td>1</td>\n",
       "      <td>1</td>\n",
       "      <td>1</td>\n",
       "      <td>1</td>\n",
       "      <td>1</td>\n",
       "      <td>...</td>\n",
       "      <td>0</td>\n",
       "      <td>0</td>\n",
       "      <td>0</td>\n",
       "      <td>0</td>\n",
       "      <td>0</td>\n",
       "      <td>0</td>\n",
       "      <td>0</td>\n",
       "      <td>0</td>\n",
       "      <td>0</td>\n",
       "      <td>0</td>\n",
       "    </tr>\n",
       "    <tr>\n",
       "      <th>3008</th>\n",
       "      <td>3</td>\n",
       "      <td>3</td>\n",
       "      <td>3</td>\n",
       "      <td>3</td>\n",
       "      <td>3</td>\n",
       "      <td>3</td>\n",
       "      <td>3</td>\n",
       "      <td>3</td>\n",
       "      <td>3</td>\n",
       "      <td>3</td>\n",
       "      <td>...</td>\n",
       "      <td>0</td>\n",
       "      <td>0</td>\n",
       "      <td>0</td>\n",
       "      <td>0</td>\n",
       "      <td>0</td>\n",
       "      <td>0</td>\n",
       "      <td>0</td>\n",
       "      <td>0</td>\n",
       "      <td>0</td>\n",
       "      <td>0</td>\n",
       "    </tr>\n",
       "    <tr>\n",
       "      <th>3009</th>\n",
       "      <td>1</td>\n",
       "      <td>1</td>\n",
       "      <td>1</td>\n",
       "      <td>1</td>\n",
       "      <td>1</td>\n",
       "      <td>1</td>\n",
       "      <td>1</td>\n",
       "      <td>1</td>\n",
       "      <td>1</td>\n",
       "      <td>1</td>\n",
       "      <td>...</td>\n",
       "      <td>1</td>\n",
       "      <td>1</td>\n",
       "      <td>1</td>\n",
       "      <td>1</td>\n",
       "      <td>0</td>\n",
       "      <td>0</td>\n",
       "      <td>0</td>\n",
       "      <td>0</td>\n",
       "      <td>0</td>\n",
       "      <td>1</td>\n",
       "    </tr>\n",
       "  </tbody>\n",
       "</table>\n",
       "<p>1112 rows × 88 columns</p>\n",
       "</div>"
      ],
      "text/plain": [
       "           GroupName  site_rid  state  county  lat  long  SiteName  \\\n",
       "group_rid                                                            \n",
       "104                3         3      3       3    3     3         3   \n",
       "130               40        40     40      40   40    40        40   \n",
       "133               13        13     13      13   13    13        13   \n",
       "134                3         3      3       3    3     3         3   \n",
       "137                1         1      1       1    1     1         1   \n",
       "...              ...       ...    ...     ...  ...   ...       ...   \n",
       "2997               3         3      3       3    3     3         3   \n",
       "3006               2         2      2       2    2     2         2   \n",
       "3007               1         1      1       1    1     1         1   \n",
       "3008               3         3      3       3    3     3         3   \n",
       "3009               1         1      1       1    1     1         1   \n",
       "\n",
       "           SiteLocation  event_rid  event_date  ...  hold_end_datetime  \\\n",
       "group_rid                                       ...                      \n",
       "104                   3          3           3  ...                  0   \n",
       "130                  40         40          40  ...                  0   \n",
       "133                  13         13          13  ...                  0   \n",
       "134                   3          3           3  ...                  0   \n",
       "137                   1          1           1  ...                  0   \n",
       "...                 ...        ...         ...  ...                ...   \n",
       "2997                  3          3           3  ...                  0   \n",
       "3006                  2          2           2  ...                  0   \n",
       "3007                  1          1           1  ...                  0   \n",
       "3008                  3          3           3  ...                  0   \n",
       "3009                  1          1           1  ...                  1   \n",
       "\n",
       "           min_temp  max_temp  three_M_plate  ecoli_idexx  fecal_coliform  \\\n",
       "group_rid                                                                   \n",
       "104               0         0              0            0               0   \n",
       "130               0         0              0            0               0   \n",
       "133               0         0              0            0               0   \n",
       "134               0         0              0            0               0   \n",
       "137               0         0              0            0               0   \n",
       "...             ...       ...            ...          ...             ...   \n",
       "2997              0         0              0            0               0   \n",
       "3006              0         0              0            0               0   \n",
       "3007              0         0              0            0               0   \n",
       "3008              0         0              0            0               0   \n",
       "3009              1         1              1            0               0   \n",
       "\n",
       "           ecoli_other  ecoli_other_unit  comments  warnings  \n",
       "group_rid                                                     \n",
       "104                  0                 0         0         0  \n",
       "130                  0                 0         0         0  \n",
       "133                  0                 0         0         0  \n",
       "134                  0                 0         0         0  \n",
       "137                  0                 0         0         0  \n",
       "...                ...               ...       ...       ...  \n",
       "2997                 0                 0         0         0  \n",
       "3006                 0                 0         0         0  \n",
       "3007                 0                 0         0         0  \n",
       "3008                 0                 0         0         0  \n",
       "3009                 0                 0         0         1  \n",
       "\n",
       "[1112 rows x 88 columns]"
      ]
     },
     "execution_count": 401,
     "metadata": {},
     "output_type": "execute_result"
    }
   ],
   "source": [
    "df.groupby('group_rid').count()"
   ]
  },
  {
   "cell_type": "code",
   "execution_count": 403,
   "metadata": {},
   "outputs": [
    {
     "data": {
      "text/html": [
       "<div>\n",
       "<style scoped>\n",
       "    .dataframe tbody tr th:only-of-type {\n",
       "        vertical-align: middle;\n",
       "    }\n",
       "\n",
       "    .dataframe tbody tr th {\n",
       "        vertical-align: top;\n",
       "    }\n",
       "\n",
       "    .dataframe thead th {\n",
       "        text-align: right;\n",
       "    }\n",
       "</style>\n",
       "<table border=\"1\" class=\"dataframe\">\n",
       "  <thead>\n",
       "    <tr style=\"text-align: right;\">\n",
       "      <th></th>\n",
       "      <th>group_rid</th>\n",
       "    </tr>\n",
       "    <tr>\n",
       "      <th>SiteName</th>\n",
       "      <th></th>\n",
       "    </tr>\n",
       "  </thead>\n",
       "  <tbody>\n",
       "    <tr>\n",
       "      <th>Ivy Creek &amp; Little Ivy Creek</th>\n",
       "      <td>26</td>\n",
       "    </tr>\n",
       "    <tr>\n",
       "      <th>#1b Disharoon Creek before it enters Disharoon Lake</th>\n",
       "      <td>3</td>\n",
       "    </tr>\n",
       "    <tr>\n",
       "      <th>#22 Key Largo</th>\n",
       "      <td>8</td>\n",
       "    </tr>\n",
       "    <tr>\n",
       "      <th>#5a Disharoon Creek</th>\n",
       "      <td>49</td>\n",
       "    </tr>\n",
       "    <tr>\n",
       "      <th>#6 East Branch Long Swamp Creek</th>\n",
       "      <td>7</td>\n",
       "    </tr>\n",
       "    <tr>\n",
       "      <th>...</th>\n",
       "      <td>...</td>\n",
       "    </tr>\n",
       "    <tr>\n",
       "      <th>up stream Trib of Peachtree Creek</th>\n",
       "      <td>1</td>\n",
       "    </tr>\n",
       "    <tr>\n",
       "      <th>upper cherry creek</th>\n",
       "      <td>8</td>\n",
       "    </tr>\n",
       "    <tr>\n",
       "      <th>white marlin nautilus dr</th>\n",
       "      <td>1</td>\n",
       "    </tr>\n",
       "    <tr>\n",
       "      <th>wildcat</th>\n",
       "      <td>1</td>\n",
       "    </tr>\n",
       "    <tr>\n",
       "      <th>wildcreek</th>\n",
       "      <td>1</td>\n",
       "    </tr>\n",
       "  </tbody>\n",
       "</table>\n",
       "<p>2188 rows × 1 columns</p>\n",
       "</div>"
      ],
      "text/plain": [
       "                                                    group_rid\n",
       "SiteName                                                     \n",
       " Ivy Creek & Little Ivy Creek                              26\n",
       "#1b Disharoon Creek before it enters Disharoon ...          3\n",
       "#22 Key Largo                                               8\n",
       "#5a Disharoon Creek                                        49\n",
       "#6 East Branch Long Swamp Creek                             7\n",
       "...                                                       ...\n",
       "up stream Trib of Peachtree Creek                           1\n",
       "upper cherry creek                                          8\n",
       "white marlin nautilus dr                                    1\n",
       "wildcat                                                     1\n",
       "wildcreek                                                   1\n",
       "\n",
       "[2188 rows x 1 columns]"
      ]
     },
     "execution_count": 403,
     "metadata": {},
     "output_type": "execute_result"
    }
   ],
   "source": [
    "df[['group_rid','SiteName']].groupby('SiteName').count()"
   ]
  },
  {
   "cell_type": "code",
   "execution_count": 404,
   "metadata": {},
   "outputs": [
    {
     "data": {
      "text/html": [
       "<div>\n",
       "<style scoped>\n",
       "    .dataframe tbody tr th:only-of-type {\n",
       "        vertical-align: middle;\n",
       "    }\n",
       "\n",
       "    .dataframe tbody tr th {\n",
       "        vertical-align: top;\n",
       "    }\n",
       "\n",
       "    .dataframe thead th {\n",
       "        text-align: right;\n",
       "    }\n",
       "</style>\n",
       "<table border=\"1\" class=\"dataframe\">\n",
       "  <thead>\n",
       "    <tr style=\"text-align: right;\">\n",
       "      <th></th>\n",
       "      <th>group_rid</th>\n",
       "    </tr>\n",
       "    <tr>\n",
       "      <th>SiteLocation</th>\n",
       "      <th></th>\n",
       "    </tr>\n",
       "  </thead>\n",
       "  <tbody>\n",
       "    <tr>\n",
       "      <th>18.97  -96.0333</th>\n",
       "      <td>5</td>\n",
       "    </tr>\n",
       "    <tr>\n",
       "      <th>24.2808  -82.2217</th>\n",
       "      <td>4</td>\n",
       "    </tr>\n",
       "    <tr>\n",
       "      <th>24.5251  -81.5192</th>\n",
       "      <td>3</td>\n",
       "    </tr>\n",
       "    <tr>\n",
       "      <th>24.5457  -81.7836</th>\n",
       "      <td>1</td>\n",
       "    </tr>\n",
       "    <tr>\n",
       "      <th>24.5463  -81.7945</th>\n",
       "      <td>2</td>\n",
       "    </tr>\n",
       "    <tr>\n",
       "      <th>...</th>\n",
       "      <td>...</td>\n",
       "    </tr>\n",
       "    <tr>\n",
       "      <th>35.2064  -83.8156</th>\n",
       "      <td>36</td>\n",
       "    </tr>\n",
       "    <tr>\n",
       "      <th>35.2112  -83.3252</th>\n",
       "      <td>2</td>\n",
       "    </tr>\n",
       "    <tr>\n",
       "      <th>35.2297  -83.7392</th>\n",
       "      <td>3</td>\n",
       "    </tr>\n",
       "    <tr>\n",
       "      <th>35.2331  -83.7207</th>\n",
       "      <td>3</td>\n",
       "    </tr>\n",
       "    <tr>\n",
       "      <th>35.2416  -83.7083</th>\n",
       "      <td>3</td>\n",
       "    </tr>\n",
       "  </tbody>\n",
       "</table>\n",
       "<p>2917 rows × 1 columns</p>\n",
       "</div>"
      ],
      "text/plain": [
       "                   group_rid\n",
       "SiteLocation                \n",
       "18.97  -96.0333            5\n",
       "24.2808  -82.2217          4\n",
       "24.5251  -81.5192          3\n",
       "24.5457  -81.7836          1\n",
       "24.5463  -81.7945          2\n",
       "...                      ...\n",
       "35.2064  -83.8156         36\n",
       "35.2112  -83.3252          2\n",
       "35.2297  -83.7392          3\n",
       "35.2331  -83.7207          3\n",
       "35.2416  -83.7083          3\n",
       "\n",
       "[2917 rows x 1 columns]"
      ]
     },
     "execution_count": 404,
     "metadata": {},
     "output_type": "execute_result"
    }
   ],
   "source": [
    "df[['group_rid','SiteLocation']].groupby('SiteLocation').count()"
   ]
  },
  {
   "cell_type": "markdown",
   "metadata": {},
   "source": [
    "<br><hr><br>"
   ]
  }
 ],
 "metadata": {
  "kernelspec": {
   "display_name": "Python 3",
   "language": "python",
   "name": "python3"
  },
  "language_info": {
   "codemirror_mode": {
    "name": "ipython",
    "version": 3
   },
   "file_extension": ".py",
   "mimetype": "text/x-python",
   "name": "python",
   "nbconvert_exporter": "python",
   "pygments_lexer": "ipython3",
   "version": "3.7.5"
  }
 },
 "nbformat": 4,
 "nbformat_minor": 4
}
